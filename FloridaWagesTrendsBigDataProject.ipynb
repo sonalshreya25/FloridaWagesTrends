{
 "cells": [
  {
   "cell_type": "markdown",
   "metadata": {
    "application/vnd.databricks.v1+cell": {
     "cellMetadata": {},
     "inputWidgets": {},
     "nuid": "9763d26a-1e67-4290-b645-049c2be24848",
     "showTitle": false,
     "tableResultSettingsMap": {},
     "title": ""
    }
   },
   "source": [
    "# Analyzing Florida’s Labor Market Trends and Wage Disparities Through Predictive Data Analytics\n",
    "\n",
    "## Introduction:\n",
    "The Florida labor market is a dynamic and evolving system influenced by economic shifts, demographic changes, and industry demands. Armed with a decade of labor statistics (2015-2024) downloaded from the Occupational Employment and Wage Statistics (OEWS) dataset, this project uses modern big data processing tools - specifically Apache Spark - to reveal actionable patterns and predictive trends. The project is intended to inform evidence-based decisions that guide Florida’s workforce policies through the examination of wages, occupational changes, and employment demand at the regional level. \n",
    "\n",
    "## Problem Statement\n",
    "\n",
    "Although the OEWS data provides a historical record with rich wage and employment information across Florida’s 25 MSAs, it remains underused for proactive workforce planning. Without the application of innovative analytical techniques, policymakers and economic planners cannot:\n",
    "\n",
    "- Document emerging and ongoing trends in wage inequalities across regions;\n",
    "- Identify the best-paying, most in-demand careers;\n",
    "- Predict future wage trends based on historical data;\n",
    "- Group occupations by similar economic traits to better target interventions.\n",
    "\n",
    "There is a compelling need for a predictive, automated system that translates raw labor data into valuable, actionable intelligence.\n",
    "\n",
    "## Objective\n",
    "\n",
    "This project aims to develop a big data pipeline using Apache Spark to analyze and model Florida’s labor market from 2015 to 2024. More specifically, the project will:\n",
    "\n",
    "- Examine patterns of wage and employment trends within Florida MSAs over the last decade;\n",
    "- Recognize regional wage gaps and identify occupations with the highest salaries;\n",
    "- Use historical trends to predict the mean wage for a job by occupation, location, and employment demand;\n",
    "- Group occupations by related economic and labor factors;\n",
    "- Develop practical recommendations for policymakers, workforce planners, and economic developers to guide decisions about education, job training, and regional economic strategies.\n",
    "\n",
    "## Data Schema\n",
    "\n",
    "The dataset schema used in this project is explicitly defined in Apache Spark to ensure consistent data types and support scalable big data processing.\n",
    "\n",
    "### Schema Fields:\n",
    "| Field Name               | Data Type    | Description                                                 |\n",
    "|--------------------------|--------------|-------------------------------------------------------------|\n",
    "| Year                    | Integer      | Year of observation (2015–2024)                             |\n",
    "| City                    | String       | Name of the Metropolitan Statistical Area (MSA)             |\n",
    "| Occupation_Code         | String       | Standard Occupational Classification (SOC) code             |\n",
    "| Occupation_Title        | String       | Descriptive title of the occupation                         |\n",
    "| Employment              | Integer      | Estimated number of employed individuals in the occupation  |\n",
    "| Mean_Hourly_Wage       | Double       | Average hourly wage across all experience levels            |\n",
    "| Entry_Hourly_Wage      | Double       | Estimated hourly wage for entry-level positions             |\n",
    "| Experienced_Hourly_Wage| Double       | Estimated hourly wage for experienced positions             |\n",
    "\n",
    "### Notes:\n",
    "- The schema aligns with the source dataset provided by the Florida DEO.\n",
    "- All wage fields are in U.S. dollars.\n",
    "- The data is partitioned in Delta Lake by `City` and `Year` to optimize query performance and scalability.\n",
    "- String fields are normalized (lowercased, trimmed) during preprocessing to ensure consistency across records.\n",
    "- We have manually combined the data for all counties and all ten years (2015–2024) into a single Excel sheet to enable unified processing and analysis in Spark.\n",
    "This schema supports robust Spark-based transformations, aggregations, and machine learning feature engineering for the project.\n",
    "\n"
   ]
  },
  {
   "cell_type": "markdown",
   "metadata": {
    "application/vnd.databricks.v1+cell": {
     "cellMetadata": {},
     "inputWidgets": {},
     "nuid": "c7733040-642a-42a2-bc14-cbe7a47bd133",
     "showTitle": false,
     "tableResultSettingsMap": {},
     "title": ""
    }
   },
   "source": [
    "## Data Loading and Preprocessing\n",
    "We start by initializing a Spark session, defining the expected schema for the Florida labor market dataset, and loading the Excel data into a Spark DataFrame using that schema.\n",
    "\n",
    "It prepares the data for distributed processing by ensuring consistent data types and making the dataset ready for cleaning and analysis in Spark.\n",
    "\n",
    "\n",
    "\n",
    "\n",
    "\n",
    "\n",
    "\n"
   ]
  },
  {
   "cell_type": "code",
   "execution_count": 0,
   "metadata": {
    "application/vnd.databricks.v1+cell": {
     "cellMetadata": {
      "byteLimit": 2048000,
      "rowLimit": 10000
     },
     "inputWidgets": {},
     "nuid": "04aa0ebd-7c1d-4ea1-97e3-e105e8d42b62",
     "showTitle": false,
     "tableResultSettingsMap": {},
     "title": ""
    }
   },
   "outputs": [],
   "source": [
    "from pyspark.sql import SparkSession\n",
    "from pyspark.sql.functions import trim, when, col, sum as _sum\n",
    "\n",
    "# Start Spark session\n",
    "spark = SparkSession.builder.appName(\"CleanFloridaEmploymentCSV\").getOrCreate()\n",
    "\n",
    "# Load CSV\n",
    "file_path =\"/FileStore/project/Florida_Employment_Data_Cleaning_2015_to_2024.csv\"\n",
    "df = spark.read.format(\"csv\") \\\n",
    "    .option(\"header\", \"true\") \\\n",
    "    .option(\"inferSchema\", \"true\") \\\n",
    "    .load(file_path)\n",
    "\n",
    "# Define columns to clean\n",
    "columns_to_clean = [\n",
    "    \"City\",\n",
    "    \"Occupation_Code\",\n",
    "    \"Occupation_Title\",\n",
    "    \"Employment\",\n",
    "    \"Mean_Hourly_Wage\",\n",
    "    \"Entry_Hourly_Wage\",\n",
    "    \"Experienced_Hourly_Wage\",\n",
    "    \"Year\"\n",
    "]\n",
    "\n",
    "# Clean: convert blanks to nulls\n",
    "for c in columns_to_clean:\n",
    "    df = df.withColumn(c, when(trim(col(c).cast(\"string\")) == \"\", None).otherwise(col(c)))\n",
    "\n"
   ]
  },
  {
   "cell_type": "markdown",
   "metadata": {
    "application/vnd.databricks.v1+cell": {
     "cellMetadata": {},
     "inputWidgets": {},
     "nuid": "97c29176-09ba-4239-b29f-823962f06cf4",
     "showTitle": false,
     "tableResultSettingsMap": {},
     "title": ""
    }
   },
   "source": [
    "As a part of data cleaning, we are counting the number of null or blank values in each column of the DataFrame."
   ]
  },
  {
   "cell_type": "code",
   "execution_count": 0,
   "metadata": {
    "application/vnd.databricks.v1+cell": {
     "cellMetadata": {
      "byteLimit": 2048000,
      "rowLimit": 10000
     },
     "inputWidgets": {},
     "nuid": "a902ab63-b74d-439e-9b06-604f04f138ca",
     "showTitle": false,
     "tableResultSettingsMap": {},
     "title": ""
    }
   },
   "outputs": [
    {
     "output_type": "stream",
     "name": "stdout",
     "output_type": "stream",
     "text": [
      "\nNull or blank value counts per column:\n"
     ]
    },
    {
     "output_type": "display_data",
     "data": {
      "text/html": [
       "<style scoped>\n",
       "  .table-result-container {\n",
       "    max-height: 300px;\n",
       "    overflow: auto;\n",
       "  }\n",
       "  table, th, td {\n",
       "    border: 1px solid black;\n",
       "    border-collapse: collapse;\n",
       "  }\n",
       "  th, td {\n",
       "    padding: 5px;\n",
       "  }\n",
       "  th {\n",
       "    text-align: left;\n",
       "  }\n",
       "</style><div class='table-result-container'><table class='table-result'><thead style='background-color: white'><tr><th>City_null_count</th><th>Occupation_Code_null_count</th><th>Occupation_Title_null_count</th><th>Employment_null_count</th><th>Mean_Hourly_Wage_null_count</th><th>Entry_Hourly_Wage_null_count</th><th>Experienced_Hourly_Wage_null_count</th><th>Year_null_count</th></tr></thead><tbody><tr><td>0</td><td>0</td><td>0</td><td>0</td><td>0</td><td>0</td><td>0</td><td>0</td></tr></tbody></table></div>"
      ]
     },
     "metadata": {
      "application/vnd.databricks.v1+output": {
       "addedWidgets": {},
       "aggData": [],
       "aggError": "",
       "aggOverflow": false,
       "aggSchema": [],
       "aggSeriesLimitReached": false,
       "aggType": "",
       "arguments": {},
       "columnCustomDisplayInfos": {},
       "data": [
        [
         0,
         0,
         0,
         0,
         0,
         0,
         0,
         0
        ]
       ],
       "datasetInfos": [],
       "dbfsResultPath": null,
       "isJsonSchema": true,
       "metadata": {},
       "overflow": false,
       "plotOptions": {
        "customPlotOptions": {},
        "displayType": "table",
        "pivotAggregation": null,
        "pivotColumns": null,
        "xColumns": null,
        "yColumns": null
       },
       "removedWidgets": [],
       "schema": [
        {
         "metadata": "{}",
         "name": "City_null_count",
         "type": "\"long\""
        },
        {
         "metadata": "{}",
         "name": "Occupation_Code_null_count",
         "type": "\"long\""
        },
        {
         "metadata": "{}",
         "name": "Occupation_Title_null_count",
         "type": "\"long\""
        },
        {
         "metadata": "{}",
         "name": "Employment_null_count",
         "type": "\"long\""
        },
        {
         "metadata": "{}",
         "name": "Mean_Hourly_Wage_null_count",
         "type": "\"long\""
        },
        {
         "metadata": "{}",
         "name": "Entry_Hourly_Wage_null_count",
         "type": "\"long\""
        },
        {
         "metadata": "{}",
         "name": "Experienced_Hourly_Wage_null_count",
         "type": "\"long\""
        },
        {
         "metadata": "{}",
         "name": "Year_null_count",
         "type": "\"long\""
        }
       ],
       "type": "table"
      }
     },
     "output_type": "display_data"
    }
   ],
   "source": [
    "from pyspark.sql.functions import col, lower, trim, count, when, isnan\n",
    "\n",
    "# Check for null or blank values per column\n",
    "null_summary = df.select([\n",
    "    count(when(col(c).isNull() | (trim(col(c)) == \"\"), c)).alias(f\"{c}_null_count\")\n",
    "    for c in df.columns\n",
    "])\n",
    "\n",
    "print(\"\\nNull or blank value counts per column:\")\n",
    "display(null_summary)\n"
   ]
  },
  {
   "cell_type": "markdown",
   "metadata": {
    "application/vnd.databricks.v1+cell": {
     "cellMetadata": {},
     "inputWidgets": {},
     "nuid": "fddfdc90-3b04-4578-8ef5-9456cda9f60e",
     "showTitle": false,
     "tableResultSettingsMap": {},
     "title": ""
    }
   },
   "source": [
    "In this step, we first handle missing or null values by removing any rows where key columns — specifically Employment, Mean_Hourly_Wage, Entry_Hourly_Wage, or Experienced_Hourly_Wage — contain nulls, ensuring the dataset is clean for analysis.\n",
    "\n",
    "Next, we apply outlier filtering by retaining only those records where the Mean_Hourly_Wage is greater than 0 and less than 500,000, and where Employment is non-negative, effectively eliminating unrealistic or erroneous data points from the dataset."
   ]
  },
  {
   "cell_type": "code",
   "execution_count": 0,
   "metadata": {
    "application/vnd.databricks.v1+cell": {
     "cellMetadata": {
      "byteLimit": 2048000,
      "rowLimit": 10000
     },
     "inputWidgets": {},
     "nuid": "366769c3-9a79-4f53-b28c-af8fc0157cf3",
     "showTitle": false,
     "tableResultSettingsMap": {},
     "title": ""
    }
   },
   "outputs": [],
   "source": [
    "# Handle missing/null values\n",
    "df_cleaned = df.dropna(subset=[\"Employment\", \"Mean_Hourly_Wage\", \"Entry_Hourly_Wage\", \"Experienced_Hourly_Wage\"])\n",
    "\n",
    "#Check for extremely low values and replace entry hourly wage with 0.8 of mean and experiencde hourly wage with 1.20 of mean\n",
    "df_cleaned = df.withColumn(\n",
    "    \"Entry_Hourly_Wage\",\n",
    "    when(col(\"Entry_Hourly_Wage\") < col(\"Mean_Hourly_Wage\") * 0.2, col(\"Mean_Hourly_Wage\") * 0.8)\n",
    "    .otherwise(col(\"Entry_Hourly_Wage\"))\n",
    ").withColumn(\n",
    "    \"Experienced_Hourly_Wage\",\n",
    "    when(col(\"Experienced_Hourly_Wage\") < col(\"Mean_Hourly_Wage\") * 0.2, col(\"Mean_Hourly_Wage\") * 1.2)\n",
    "    .otherwise(col(\"Experienced_Hourly_Wage\"))\n",
    ")\n",
    "\n",
    "# Outlier filtering (set realistic bounds)\n",
    "df_filtered = df_cleaned.filter(\n",
    "    (col(\"Mean_Hourly_Wage\") > 0) & (col(\"Mean_Hourly_Wage\") < 500000) &\n",
    "    (col(\"Employment\") >= 0)\n",
    ")"
   ]
  },
  {
   "cell_type": "code",
   "execution_count": 0,
   "metadata": {
    "application/vnd.databricks.v1+cell": {
     "cellMetadata": {
      "byteLimit": 2048000,
      "rowLimit": 10000
     },
     "inputWidgets": {},
     "nuid": "0fdfb7b7-290d-416c-b3cd-3a9a43a866d9",
     "showTitle": false,
     "tableResultSettingsMap": {},
     "title": ""
    }
   },
   "outputs": [
    {
     "output_type": "stream",
     "name": "stdout",
     "output_type": "stream",
     "text": [
      "Number of records after outlier filtering: 113920\n"
     ]
    }
   ],
   "source": [
    "record_count = df_filtered.count()\n",
    "print(f\"Number of records after outlier filtering: {record_count}\")\n"
   ]
  },
  {
   "cell_type": "markdown",
   "metadata": {
    "application/vnd.databricks.v1+cell": {
     "cellMetadata": {},
     "inputWidgets": {},
     "nuid": "d4fd5d6a-e38b-4084-9cb4-28cb86734940",
     "showTitle": false,
     "tableResultSettingsMap": {},
     "title": ""
    }
   },
   "source": [
    "In this step, we standardize the dataset by converting the City and Occupation_Title columns to lowercase and removing any extra spaces, ensuring consistent and uniform text formatting across all records.\n",
    "\n",
    "After normalization, we save the cleaned DataFrame into a Delta table named florida_labor, partitioning the data by City and Year; this partitioning improves storage efficiency and enables faster, more optimized queries when analyzing the data later in the project.\n",
    "\n",
    "We use Delta Lake in this project because it provides a powerful storage layer that enhances Spark’s native capabilities by adding key features like ACID transactions, scalable metadata handling, schema enforcement, and time travel (version control).\n",
    "\n",
    "The significance of using Delta Lake is that it allows us to store large-scale labor market data in a reliable and query-optimized format, ensuring data consistency even during concurrent reads and writes, improving query performance through partitioning and file compaction, and enabling reproducible, auditable analyses by accessing historical data snapshots. This makes our big data pipeline robust, efficient, and production-ready for advanced analytics and machine learning tasks."
   ]
  },
  {
   "cell_type": "code",
   "execution_count": 0,
   "metadata": {
    "application/vnd.databricks.v1+cell": {
     "cellMetadata": {
      "byteLimit": 2048000,
      "rowLimit": 10000
     },
     "inputWidgets": {},
     "nuid": "196cfeaf-f217-444c-be3e-e8bea8a0d604",
     "showTitle": false,
     "tableResultSettingsMap": {},
     "title": ""
    }
   },
   "outputs": [
    {
     "output_type": "stream",
     "name": "stdout",
     "output_type": "stream",
     "text": [
      "['City', 'Occupation_Code', 'Occupation_Title', 'Employment', 'Mean_Hourly_Wage', 'Entry_Hourly_Wage', 'Experienced_Hourly_Wage', 'Year']\n"
     ]
    }
   ],
   "source": [
    "df_normalized = df_filtered.withColumn(\"City\", trim(lower(col(\"City\")))) \\\n",
    "                           .withColumn(\"Occupation_Title\", trim(lower(col(\"Occupation_Title\"))))\n",
    "\n",
    "print(df_normalized.columns)\n",
    "\n",
    "df_normalized.write.format(\"delta\").mode(\"overwrite\").partitionBy(\"City\", \"Year\").saveAsTable(\"florida_labor_data\")\n",
    "\n",
    "\n"
   ]
  },
  {
   "cell_type": "markdown",
   "metadata": {
    "application/vnd.databricks.v1+cell": {
     "cellMetadata": {},
     "inputWidgets": {},
     "nuid": "90a55af1-aaf9-4727-8e32-86727cc3862c",
     "showTitle": false,
     "tableResultSettingsMap": {},
     "title": ""
    }
   },
   "source": [
    "### Descriptive Statistics Computation\n",
    "\n",
    "In this step, we compute key descriptive statistics for each numeric column in the dataset, specifically:\n",
    "\n",
    "- **Columns analyzed**:\n",
    "  - Employment\n",
    "  - Mean_Hourly_Wage\n",
    "  - Entry_Hourly_Wage\n",
    "  - Experienced_Hourly_Wage\n",
    "\n",
    "- **Statistics calculated per column**:\n",
    "  - Mean (average value)\n",
    "  - Standard deviation (spread or variability)\n",
    "  - Minimum value\n",
    "  - Maximum value\n",
    "\n",
    "These statistics provide a summary overview of the data distribution and help identify potential data quality issues or unusual patterns before further analysis.\n"
   ]
  },
  {
   "cell_type": "code",
   "execution_count": 0,
   "metadata": {
    "application/vnd.databricks.v1+cell": {
     "cellMetadata": {
      "byteLimit": 2048000,
      "rowLimit": 10000
     },
     "inputWidgets": {},
     "nuid": "a0ad39d8-2e7b-4bcc-9381-db910cfa2114",
     "showTitle": false,
     "tableResultSettingsMap": {},
     "title": ""
    }
   },
   "outputs": [
    {
     "output_type": "stream",
     "name": "stdout",
     "output_type": "stream",
     "text": [
      "\nStatistics for Employment:\nMean: 2373.35\nStdDev: 19166.03\nMin: 10\nMax: 1325360\n\nStatistics for Mean_Hourly_Wage:\nMean: 26.60\nStdDev: 15.82\nMin: 8.69\nMax: 199.75\n\nStatistics for Entry_Hourly_Wage:\nMean: 17.93\nStdDev: 9.65\nMin: 8.2\nMax: 189.41\n\nStatistics for Experienced_Hourly_Wage:\nMean: 30.70\nStdDev: 18.66\nMin: 8.69\nMax: 239.7\n"
     ]
    }
   ],
   "source": [
    "from pyspark.sql.functions import mean, stddev, min, max, col\n",
    "\n",
    "numeric_columns = [\"Employment\", \"Mean_Hourly_Wage\", \"Entry_Hourly_Wage\", \"Experienced_Hourly_Wage\"]\n",
    "\n",
    "for col_name in numeric_columns:\n",
    "    stats_row = df_normalized.select(\n",
    "        mean(col(col_name)).alias(\"mean\"),\n",
    "        stddev(col(col_name)).alias(\"stddev\"),\n",
    "        min(col(col_name)).alias(\"min\"),\n",
    "        max(col(col_name)).alias(\"max\")\n",
    "    ).collect()[0]\n",
    "\n",
    "    mean_val = stats_row[\"mean\"]\n",
    "    stddev_val = stats_row[\"stddev\"]\n",
    "    min_val = stats_row[\"min\"]\n",
    "    max_val = stats_row[\"max\"]\n",
    "\n",
    "    print(f\"\\nStatistics for {col_name}:\")\n",
    "    print(f\"Mean: {mean_val:.2f}\" if mean_val is not None else \"Mean: None\")\n",
    "    print(f\"StdDev: {stddev_val:.2f}\" if stddev_val is not None else \"StdDev: None\")\n",
    "    print(f\"Min: {min_val}\")\n",
    "    print(f\"Max: {max_val}\")\n"
   ]
  },
  {
   "cell_type": "markdown",
   "metadata": {
    "application/vnd.databricks.v1+cell": {
     "cellMetadata": {},
     "inputWidgets": {},
     "nuid": "959ad12d-b7c0-48de-b972-c7dd4a911654",
     "showTitle": false,
     "tableResultSettingsMap": {},
     "title": ""
    }
   },
   "source": [
    "### Descriptive Statistics Summary\n",
    "\n",
    "- **Employment**  \n",
    "  Mean ≈ 2,373; very high variability (StdDev ≈ 19,166); range 10–9,990, reflecting large differences across occupations and regions.\n",
    "\n",
    "- **Mean Hourly Wage**  \n",
    "  Average $26.60; moderate spread (StdDev ≈ $15.82); range $10–$99.95.\n",
    "\n",
    "- **Entry Hourly Wage**  \n",
    "  Average ≈ $17.93; moderate spread (StdDev ≈ $9.65); range $10.00–$99.86.\n",
    "\n",
    "- **Experienced Hourly Wage**  \n",
    "  Average ≈ $30.70; wider spread (StdDev ≈ $18.66); range $10.00–$99.96.\n",
    "\n",
    " **Note**: Extremely low wage minimums were present for entry hourly wage and experience hourly wage for some data in 2015 and 2023. which was corrected by replacing those values with 80% of mean for entry leavel wages and 210 % of mean for experienced wages\n"
   ]
  },
  {
   "cell_type": "markdown",
   "metadata": {
    "application/vnd.databricks.v1+cell": {
     "cellMetadata": {},
     "inputWidgets": {},
     "nuid": "070e666a-d178-4772-8038-c2f518bd0005",
     "showTitle": false,
     "tableResultSettingsMap": {},
     "title": ""
    }
   },
   "source": [
    "In this step, we analyze year-wise trends by grouping the cleaned dataset by year and calculating two key metrics: the average mean hourly wage across all occupations and the number of unique occupations reported each year.\n",
    "\n",
    "We then display these trends both in the console and visually within Databricks to observe how wages and occupational diversity have evolved over the 10-year period.\n",
    "\n",
    "Finally, we validate the saved Delta table by reading it back into Spark, ensuring that the cleaned, partitioned data was correctly stored and is ready for further analysis or machine learning tasks. This completes the data cleaning, partitioning, trend exploration, and storage validation phase of the project.\n",
    "\n",
    "\n",
    "\n",
    "\n",
    "\n",
    "\n",
    "\n"
   ]
  },
  {
   "cell_type": "code",
   "execution_count": 0,
   "metadata": {
    "application/vnd.databricks.v1+cell": {
     "cellMetadata": {
      "byteLimit": 2048000,
      "rowLimit": 10000
     },
     "inputWidgets": {},
     "nuid": "03b75bab-10cb-49b5-affb-9e4a287ebc91",
     "showTitle": false,
     "tableResultSettingsMap": {},
     "title": ""
    }
   },
   "outputs": [
    {
     "output_type": "stream",
     "name": "stdout",
     "output_type": "stream",
     "text": [
      "\nYearly Trends:\n+----+------------------+-----------------+\n|Year| AvgMeanHourlyWage|UniqueOccupations|\n+----+------------------+-----------------+\n|2015|24.242930418880068|              792|\n|2016| 23.98178588574172|              728|\n|2017|24.156891865657155|              723|\n|2018|24.549622312608946|              724|\n|2019| 25.12815046554932|              795|\n|2020| 25.91217637910528|              795|\n|2021|27.476009962212277|              832|\n|2022|28.471931711481016|              827|\n|2023|29.995720910623984|              830|\n|2024|31.292446907521793|              827|\n+----+------------------+-----------------+\n\n+--------------------+---------------+--------------------+----------+----------------+-----------------+-----------------------+----+\n|                City|Occupation_Code|    Occupation_Title|Employment|Mean_Hourly_Wage|Entry_Hourly_Wage|Experienced_Hourly_Wage|Year|\n+--------------------+---------------+--------------------+----------+----------------+-----------------+-----------------------+----+\n|cape coral-fort m...|        13-2011|accountants and a...|       233|           30.72|            19.34|                  36.41|2019|\n|cape coral-fort m...|        29-1298|acupuncturists an...|       233|           34.72|            30.42|                  36.87|2019|\n|cape coral-fort m...|        23-1021|administrative la...|        10|           68.19|            45.64|                  79.47|2019|\n|cape coral-fort m...|        11-3010|administrative se...|       350|           39.26|            22.11|                  47.83|2019|\n|cape coral-fort m...|        11-2011|advertising and p...|        10|            30.9|            17.44|                  37.63|2019|\n+--------------------+---------------+--------------------+----------+----------------+-----------------+-----------------------+----+\nonly showing top 5 rows\n\nroot\n |-- City: string (nullable = true)\n |-- Occupation_Code: string (nullable = true)\n |-- Occupation_Title: string (nullable = true)\n |-- Employment: integer (nullable = true)\n |-- Mean_Hourly_Wage: double (nullable = true)\n |-- Entry_Hourly_Wage: double (nullable = true)\n |-- Experienced_Hourly_Wage: double (nullable = true)\n |-- Year: integer (nullable = true)\n\n Data cleaning, partitioning, year trends, and validation completed.\n"
     ]
    }
   ],
   "source": [
    "from pyspark.sql.functions import mean, countDistinct\n",
    "\n",
    "yearly_trends = df_normalized.groupBy(\"Year\").agg(\n",
    "    mean(\"Mean_Hourly_Wage\").alias(\"AvgMeanHourlyWage\"),\n",
    "    countDistinct(\"Occupation_Code\").alias(\"UniqueOccupations\")\n",
    ").orderBy(\"Year\")\n",
    "\n",
    "print(\"\\nYearly Trends:\")\n",
    "yearly_trends.show()\n",
    "\n",
    "\n",
    "# Validate saved Delta table\n",
    "validated_df = spark.read.format(\"delta\").table(\"florida_labor_data\")\n",
    "validated_df.show(5)\n",
    "validated_df.printSchema()\n",
    "\n",
    "print(\" Data cleaning, partitioning, year trends, and validation completed.\")\n"
   ]
  },
  {
   "cell_type": "markdown",
   "metadata": {
    "application/vnd.databricks.v1+cell": {
     "cellMetadata": {},
     "inputWidgets": {},
     "nuid": "84a9f075-a6b4-4b73-b6c0-03c97a202ff0",
     "showTitle": false,
     "tableResultSettingsMap": {},
     "title": ""
    }
   },
   "source": [
    "**Yearly Trends Summary (2015–2024)** \n",
    "\n",
    "Wages have increased steadily over the decade, from ~$24/hour in 2015 to ~$31/hour in 2024.\n",
    "\n",
    "The number of distinct occupations fluctuates but generally stays above 720–830, reflecting a stable or slightly expanding job market.\n",
    "\n"
   ]
  },
  {
   "cell_type": "markdown",
   "metadata": {
    "application/vnd.databricks.v1+cell": {
     "cellMetadata": {},
     "inputWidgets": {},
     "nuid": "10ac0c44-643c-45bd-889d-2b7d412e1baa",
     "showTitle": false,
     "tableResultSettingsMap": {},
     "title": ""
    }
   },
   "source": [
    "**Top 10 Highest-Paying Cities**\n",
    "This query analyzes the dataset by grouping all records based on the City (Metropolitan Statistical Area). For each city, it calculates the average mean hourly wage across all occupations.\n",
    "\n",
    "Once the averages are computed, the cities are sorted in descending order to rank them from the highest to the lowest average wage. \n",
    "Finally, the query selects the top 10 highest-paying cities, providing a clear view of which regions offer the most competitive wages overall.\n",
    "\n",
    "This analysis helps highlight geographic wage patterns and supports identifying regional labor market leaders in terms of compensation."
   ]
  },
  {
   "cell_type": "code",
   "execution_count": 0,
   "metadata": {
    "application/vnd.databricks.v1+cell": {
     "cellMetadata": {
      "byteLimit": 2048000,
      "rowLimit": 10000
     },
     "inputWidgets": {},
     "nuid": "63001682-466d-43ac-a6d6-9754cb049a64",
     "showTitle": false,
     "tableResultSettingsMap": {},
     "title": ""
    }
   },
   "outputs": [
    {
     "output_type": "display_data",
     "data": {
      "text/html": [
       "<style scoped>\n",
       "  .table-result-container {\n",
       "    max-height: 300px;\n",
       "    overflow: auto;\n",
       "  }\n",
       "  table, th, td {\n",
       "    border: 1px solid black;\n",
       "    border-collapse: collapse;\n",
       "  }\n",
       "  th, td {\n",
       "    padding: 5px;\n",
       "  }\n",
       "  th {\n",
       "    text-align: left;\n",
       "  }\n",
       "</style><div class='table-result-container'><table class='table-result'><thead style='background-color: white'><tr><th>City</th><th>AvgMeanHourlyWage</th></tr></thead><tbody><tr><td>miami-ft. laud-wpb</td><td>31.8922020018199</td></tr><tr><td>wildwood-the villages</td><td>31.655976562499994</td></tr><tr><td>port st. lucie</td><td>31.222510729613767</td></tr><tr><td>panama city-panama city beach</td><td>29.95577608142491</td></tr><tr><td>south florida balance of state</td><td>29.290545609548158</td></tr><tr><td>crestview-fort walton beach-de</td><td>28.98258077544431</td></tr><tr><td>naples-immokalee-marco island</td><td>28.904907801418457</td></tr><tr><td>cape coral-fort myers</td><td>28.852985074626872</td></tr><tr><td>tampa-st. petersburg-clearwater</td><td>28.845687898089142</td></tr><tr><td>north port-sarasota-bradenton</td><td>28.104104134762654</td></tr></tbody></table></div>"
      ]
     },
     "metadata": {
      "application/vnd.databricks.v1+output": {
       "addedWidgets": {},
       "aggData": [],
       "aggError": "",
       "aggOverflow": false,
       "aggSchema": [],
       "aggSeriesLimitReached": false,
       "aggType": "",
       "arguments": {},
       "columnCustomDisplayInfos": {},
       "data": [
        [
         "miami-ft. laud-wpb",
         31.8922020018199
        ],
        [
         "wildwood-the villages",
         31.655976562499994
        ],
        [
         "port st. lucie",
         31.222510729613767
        ],
        [
         "panama city-panama city beach",
         29.95577608142491
        ],
        [
         "south florida balance of state",
         29.290545609548158
        ],
        [
         "crestview-fort walton beach-de",
         28.98258077544431
        ],
        [
         "naples-immokalee-marco island",
         28.904907801418457
        ],
        [
         "cape coral-fort myers",
         28.852985074626872
        ],
        [
         "tampa-st. petersburg-clearwater",
         28.845687898089142
        ],
        [
         "north port-sarasota-bradenton",
         28.104104134762654
        ]
       ],
       "datasetInfos": [],
       "dbfsResultPath": null,
       "isJsonSchema": true,
       "metadata": {},
       "overflow": false,
       "plotOptions": {
        "customPlotOptions": {},
        "displayType": "table",
        "pivotAggregation": null,
        "pivotColumns": null,
        "xColumns": null,
        "yColumns": null
       },
       "removedWidgets": [],
       "schema": [
        {
         "metadata": "{}",
         "name": "City",
         "type": "\"string\""
        },
        {
         "metadata": "{}",
         "name": "AvgMeanHourlyWage",
         "type": "\"double\""
        }
       ],
       "type": "table"
      }
     },
     "output_type": "display_data"
    },
    {
     "output_type": "display_data",
     "data": {
      "text/plain": [
       "Databricks visualization. Run in Databricks to view."
      ]
     },
     "metadata": {
      "application/vnd.databricks.v1.subcommand+json": {
       "baseErrorDetails": null,
       "bindings": {},
       "collapsed": false,
       "command": "%python\n__backend_agg_display_orig = display\n__backend_agg_dfs = []\ndef __backend_agg_display_new(df):\n    __backend_agg_df_modules = [\"pandas.core.frame\", \"databricks.koalas.frame\", \"pyspark.sql.dataframe\", \"pyspark.pandas.frame\", \"pyspark.sql.connect.dataframe\"]\n    if (type(df).__module__ in __backend_agg_df_modules and type(df).__name__ == 'DataFrame') or isinstance(df, list):\n        __backend_agg_dfs.append(df)\n\ndisplay = __backend_agg_display_new\n\ndef __backend_agg_user_code_fn():\n    import base64\n    exec(base64.standard_b64decode(\"ZnJvbSBweXNwYXJrLnNxbCBpbXBvcnQgU3BhcmtTZXNzaW9uCmZyb20gcHlzcGFyay5zcWwuZnVuY3Rpb25zIGltcG9ydCBjb2wsIG1lYW4sIGNvdW50RGlzdGluY3QKCiMgUmVhZCBkZWx0YSB0YWJsZQpkZiA9IHNwYXJrLnJlYWQuZm9ybWF0KCJkZWx0YSIpLnRhYmxlKCJmbG9yaWRhX2xhYm9yX2RhdGEiKQoKIyBGaWx0ZXIgb3V0ICdGbG9yaWRhLVN0YXRld2lkZScgYW5kIGNvbXB1dGUgdG9wIDEwIGhpZ2hlc3QtcGF5aW5nIGNpdGllcwp0b3BfY2l0eSA9IGRmLmZpbHRlcihjb2woIkNpdHkiKSAhPSAiZmxvcmlkYSAtIHN0YXRld2lkZSIpIFwKICAgIC5ncm91cEJ5KCJDaXR5IikuYWdnKAogICAgICAgIG1lYW4oIk1lYW5fSG91cmx5X1dhZ2UiKS5hbGlhcygiQXZnTWVhbkhvdXJseVdhZ2UiKQogICAgKS5vcmRlckJ5KGNvbCgiQXZnTWVhbkhvdXJseVdhZ2UiKS5kZXNjKCkpLmxpbWl0KDEwKQpkaXNwbGF5KHRvcF9jaXR5KQo=\").decode())\n\ntry:\n    # run user code\n    __backend_agg_user_code_fn()\n\n    #reset display function\n    display = __backend_agg_display_orig\n\n    if len(__backend_agg_dfs) > 0:\n        # create a temp view\n        if type(__backend_agg_dfs[0]).__module__ == \"databricks.koalas.frame\":\n            # koalas dataframe\n            __backend_agg_dfs[0].to_spark().createOrReplaceTempView(\"DatabricksView92fb41e\")\n        elif type(__backend_agg_dfs[0]).__module__ == \"pandas.core.frame\" or isinstance(__backend_agg_dfs[0], list):\n            # pandas dataframe\n            spark.createDataFrame(__backend_agg_dfs[0]).createOrReplaceTempView(\"DatabricksView92fb41e\")\n        else:\n            __backend_agg_dfs[0].createOrReplaceTempView(\"DatabricksView92fb41e\")\n        #run backend agg\n        display(spark.sql(\"\"\"WITH q AS (select * from DatabricksView92fb41e) SELECT `City`,SUM(`AvgMeanHourlyWage`) `column_7806dfaf189` FROM q GROUP BY `City`\"\"\"))\n    else:\n        displayHTML(\"dataframe no longer exists. If you're using dataframe.display(), use display(dataframe) instead.\")\n\n\nfinally:\n    spark.sql(\"drop view if exists DatabricksView92fb41e\")\n    display = __backend_agg_display_orig\n    del __backend_agg_display_new\n    del __backend_agg_display_orig\n    del __backend_agg_dfs\n    del __backend_agg_user_code_fn\n\n",
       "commandTitle": "Top 10 Highest-Paying Cities in Florida (Average Hourly Wages)",
       "commandType": "auto",
       "commandVersion": 0,
       "commentThread": [],
       "commentsVisible": false,
       "contentSha256Hex": null,
       "customPlotOptions": {
        "redashChart": [
         {
          "key": "type",
          "value": "CHART"
         },
         {
          "key": "options",
          "value": {
           "alignYAxesAtZero": true,
           "coefficient": 1,
           "columnConfigurationMap": {
            "x": {
             "column": "City",
             "id": "column_7806dfaf188"
            },
            "y": [
             {
              "column": "AvgMeanHourlyWage",
              "id": "column_7806dfaf189",
              "transform": "SUM"
             }
            ]
           },
           "dateTimeFormat": "DD/MM/YYYY HH:mm",
           "direction": {
            "type": "counterclockwise"
           },
           "error_y": {
            "type": "data",
            "visible": true
           },
           "globalSeriesType": "column",
           "isAggregationOn": true,
           "legend": {
            "traceorder": "normal"
           },
           "missingValuesAsZero": true,
           "numberFormat": "0,0.[00]",
           "percentFormat": "0[.]00%",
           "series": {
            "error_y": {
             "type": "data",
             "visible": true
            },
            "stacking": null
           },
           "seriesOptions": {
            "column_7806dfaf189": {
             "color": "#356AFF",
             "name": "AvgMeanHourlyWage ",
             "yAxis": 0
            }
           },
           "showDataLabels": true,
           "sizemode": "diameter",
           "sortX": true,
           "sortY": true,
           "swappedAxes": true,
           "textFormat": "",
           "useAggregationsUi": true,
           "valuesOptions": {},
           "version": 2,
           "xAxis": {
            "labels": {
             "enabled": true
            },
            "type": "-"
           },
           "yAxis": [
            {
             "type": "-"
            },
            {
             "opposite": true,
             "type": "-"
            }
           ]
          }
         }
        ]
       },
       "datasetPreviewNameToCmdIdMap": {},
       "diffDeletes": [],
       "diffInserts": [],
       "displayType": "redashChart",
       "error": null,
       "errorDetails": null,
       "errorSummary": null,
       "errorTraceType": null,
       "finishTime": 0,
       "globalVars": {},
       "guid": "",
       "height": "auto",
       "hideCommandCode": false,
       "hideCommandResult": false,
       "iPythonMetadata": null,
       "inputWidgets": {},
       "isLockedInExamMode": false,
       "latestUser": "a user",
       "latestUserId": null,
       "listResultMetadata": null,
       "metadata": {
        "byteLimit": 2048000,
        "rowLimit": 10000
       },
       "nuid": "611f77bd-e1e0-42b2-b323-44d16e085314",
       "origId": 0,
       "parentHierarchy": [],
       "pivotAggregation": null,
       "pivotColumns": null,
       "position": 7.0,
       "resultDbfsErrorMessage": null,
       "resultDbfsStatus": "INLINED_IN_TREE",
       "results": null,
       "showCommandTitle": false,
       "startTime": 0,
       "state": "input",
       "streamStates": {},
       "subcommandOptions": {
        "queryPlan": {
         "groups": [
          {
           "column": "City",
           "type": "column"
          }
         ],
         "selects": [
          {
           "column": "City",
           "type": "column"
          },
          {
           "alias": "column_7806dfaf189",
           "args": [
            {
             "column": "AvgMeanHourlyWage",
             "type": "column"
            }
           ],
           "function": "SUM",
           "type": "function"
          }
         ]
        }
       },
       "submitTime": 0,
       "subtype": "tableResultSubCmd.visualization",
       "tableResultIndex": 0,
       "tableResultSettingsMap": {},
       "useConsistentColors": false,
       "version": "CommandV1",
       "width": "auto",
       "workflows": [],
       "xColumns": null,
       "yColumns": null
      }
     },
     "output_type": "display_data"
    }
   ],
   "source": [
    "from pyspark.sql import SparkSession\n",
    "from pyspark.sql.functions import col, mean, countDistinct\n",
    "\n",
    "# Read delta table\n",
    "df = spark.read.format(\"delta\").table(\"florida_labor_data\")\n",
    "\n",
    "# Filter out 'Florida-Statewide' and compute top 10 highest-paying cities\n",
    "top_city = df.filter(col(\"City\") != \"florida - statewide\") \\\n",
    "    .groupBy(\"City\").agg(\n",
    "        mean(\"Mean_Hourly_Wage\").alias(\"AvgMeanHourlyWage\")\n",
    "    ).orderBy(col(\"AvgMeanHourlyWage\").desc()).limit(10)\n",
    "display(top_city)\n"
   ]
  },
  {
   "cell_type": "code",
   "execution_count": 0,
   "metadata": {
    "application/vnd.databricks.v1+cell": {
     "cellMetadata": {
      "byteLimit": 2048000,
      "rowLimit": 10000
     },
     "inputWidgets": {},
     "nuid": "434260fc-ddcc-44f9-86b1-1fc0682fcd23",
     "showTitle": false,
     "tableResultSettingsMap": {},
     "title": ""
    }
   },
   "outputs": [
    {
     "output_type": "display_data",
     "data": {
      "image/png": "[encoded data removed]",
      "text/plain": [
       "<Figure size 1200x600 with 1 Axes>"
      ]
     },
     "metadata": {},
     "output_type": "display_data"
    }
   ],
   "source": [
    "import matplotlib.pyplot as plt\n",
    "top_city_pd = top_city.toPandas()\n",
    "\n",
    "# Plot\n",
    "plt.figure(figsize=(12,6))\n",
    "plt.bar(top_city_pd['City'], top_city_pd['AvgMeanHourlyWage'])\n",
    "plt.xlabel('City')\n",
    "plt.ylabel('Average Mean Hourly Wage')\n",
    "plt.title('Top 10 Highest-Paying Cities in Florida')\n",
    "plt.xticks(rotation=45)\n",
    "plt.tight_layout()\n",
    "plt.show()"
   ]
  },
  {
   "cell_type": "markdown",
   "metadata": {
    "application/vnd.databricks.v1+cell": {
     "cellMetadata": {},
     "inputWidgets": {},
     "nuid": "c60c9766-7cba-4d2c-9a87-6d515bc23648",
     "showTitle": false,
     "tableResultSettingsMap": {},
     "title": ""
    }
   },
   "source": [
    "The analysis shows that Miami-Ft. Lauderdale-West Palm Beach is the top-paying region in Florida, with an average hourly wage of ~$31.89.\n",
    "\n",
    "Other high-wage areas include Wildwood-The Villages and Port St. Lucie, followed by Panama City, South Florida Balance of State all ranging between ~$29–$31 per hour.\n",
    "\n",
    "These results highlight key regions where workers earn the most, offering insights into Florida’s wage distribution across major metropolitan areas."
   ]
  },
  {
   "cell_type": "markdown",
   "metadata": {
    "application/vnd.databricks.v1+cell": {
     "cellMetadata": {},
     "inputWidgets": {},
     "nuid": "e5688798-c16f-4009-ab28-d0a593801fa2",
     "showTitle": false,
     "tableResultSettingsMap": {},
     "title": ""
    }
   },
   "source": [
    "**Top 10 Highest-Paying Occupations**\n",
    "This query groups all records by Occupation_Title and calculates the average of the Mean_Hourly_Wage for each occupation across all cities and years."
   ]
  },
  {
   "cell_type": "code",
   "execution_count": 0,
   "metadata": {
    "application/vnd.databricks.v1+cell": {
     "cellMetadata": {
      "byteLimit": 2048000,
      "rowLimit": 10000
     },
     "inputWidgets": {},
     "nuid": "e7395966-2aae-4702-a66b-3e34dcb8e2ad",
     "showTitle": false,
     "tableResultSettingsMap": {},
     "title": ""
    }
   },
   "outputs": [
    {
     "output_type": "display_data",
     "data": {
      "text/html": [
       "<style scoped>\n",
       "  .table-result-container {\n",
       "    max-height: 300px;\n",
       "    overflow: auto;\n",
       "  }\n",
       "  table, th, td {\n",
       "    border: 1px solid black;\n",
       "    border-collapse: collapse;\n",
       "  }\n",
       "  th, td {\n",
       "    padding: 5px;\n",
       "  }\n",
       "  th {\n",
       "    text-align: left;\n",
       "  }\n",
       "</style><div class='table-result-container'><table class='table-result'><thead style='background-color: white'><tr><th>Occupation_Title</th><th>AvgMeanHourlyWage</th></tr></thead><tbody><tr><td>radiologists</td><td>145.54636363636362</td></tr><tr><td>pediatric surgeons</td><td>139.315</td></tr><tr><td>emergency medicine physicians</td><td>132.63666666666666</td></tr><tr><td>physicians, all other</td><td>130.7949494949495</td></tr><tr><td>cardiologists</td><td>127.10499999999996</td></tr><tr><td>surgeons, all other</td><td>122.987</td></tr><tr><td>anesthesiologists</td><td>121.55264150943394</td></tr><tr><td>orthodontists</td><td>119.4509090909091</td></tr><tr><td>ophthalmologists, except pediatric</td><td>117.60533333333335</td></tr><tr><td>obstetricians and gynecologists</td><td>116.53883333333332</td></tr></tbody></table></div>"
      ]
     },
     "metadata": {
      "application/vnd.databricks.v1+output": {
       "addedWidgets": {},
       "aggData": [],
       "aggError": "",
       "aggOverflow": false,
       "aggSchema": [],
       "aggSeriesLimitReached": false,
       "aggType": "",
       "arguments": {},
       "columnCustomDisplayInfos": {},
       "data": [
        [
         "radiologists",
         145.54636363636362
        ],
        [
         "pediatric surgeons",
         139.315
        ],
        [
         "emergency medicine physicians",
         132.63666666666666
        ],
        [
         "physicians, all other",
         130.7949494949495
        ],
        [
         "cardiologists",
         127.10499999999996
        ],
        [
         "surgeons, all other",
         122.987
        ],
        [
         "anesthesiologists",
         121.55264150943394
        ],
        [
         "orthodontists",
         119.4509090909091
        ],
        [
         "ophthalmologists, except pediatric",
         117.60533333333335
        ],
        [
         "obstetricians and gynecologists",
         116.53883333333332
        ]
       ],
       "datasetInfos": [],
       "dbfsResultPath": null,
       "isJsonSchema": true,
       "metadata": {},
       "overflow": false,
       "plotOptions": {
        "customPlotOptions": {},
        "displayType": "table",
        "pivotAggregation": null,
        "pivotColumns": null,
        "xColumns": null,
        "yColumns": null
       },
       "removedWidgets": [],
       "schema": [
        {
         "metadata": "{}",
         "name": "Occupation_Title",
         "type": "\"string\""
        },
        {
         "metadata": "{}",
         "name": "AvgMeanHourlyWage",
         "type": "\"double\""
        }
       ],
       "type": "table"
      }
     },
     "output_type": "display_data"
    },
    {
     "output_type": "display_data",
     "data": {
      "text/plain": [
       "Databricks visualization. Run in Databricks to view."
      ]
     },
     "metadata": {
      "application/vnd.databricks.v1.subcommand+json": {
       "baseErrorDetails": null,
       "bindings": {},
       "collapsed": false,
       "command": "%python\n__backend_agg_display_orig = display\n__backend_agg_dfs = []\ndef __backend_agg_display_new(df):\n    __backend_agg_df_modules = [\"pandas.core.frame\", \"databricks.koalas.frame\", \"pyspark.sql.dataframe\", \"pyspark.pandas.frame\", \"pyspark.sql.connect.dataframe\"]\n    if (type(df).__module__ in __backend_agg_df_modules and type(df).__name__ == 'DataFrame') or isinstance(df, list):\n        __backend_agg_dfs.append(df)\n\ndisplay = __backend_agg_display_new\n\ndef __backend_agg_user_code_fn():\n    import base64\n    exec(base64.standard_b64decode(\"IyBUb3AgMTAgaGlnaGVzdC1wYXlpbmcgb2NjdXBhdGlvbnMKdG9wX29jY3VwYXRpb24gPSBkZi5ncm91cEJ5KCJPY2N1cGF0aW9uX1RpdGxlIikuYWdnKAogICAgbWVhbigiTWVhbl9Ib3VybHlfV2FnZSIpLmFsaWFzKCJBdmdNZWFuSG91cmx5V2FnZSIpCikub3JkZXJCeShjb2woIkF2Z01lYW5Ib3VybHlXYWdlIikuZGVzYygpKS5saW1pdCgxMCkKZGlzcGxheSh0b3Bfb2NjdXBhdGlvbikKCmltcG9ydCBtYXRwbG90bGliLnB5cGxvdCBhcyBwbHQKCiMgQ29udmVydCBTcGFyayBEYXRhRnJhbWUgdG8gUGFuZGFzCnRvcF9vY2N1cGF0aW9uX3BkID0gdG9wX29jY3VwYXRpb24udG9QYW5kYXMoKQoKIyBQbG90CnBsdC5maWd1cmUoZmlnc2l6ZT0oMTIsNikpCnBsdC5iYXJoKHRvcF9vY2N1cGF0aW9uX3BkWydPY2N1cGF0aW9uX1RpdGxlJ10sIHRvcF9vY2N1cGF0aW9uX3BkWydBdmdNZWFuSG91cmx5V2FnZSddKQpwbHQueGxhYmVsKCdBdmVyYWdlIE1lYW4gSG91cmx5IFdhZ2UnKQpwbHQueWxhYmVsKCdPY2N1cGF0aW9uIFRpdGxlJykKcGx0LnRpdGxlKCdUb3AgMTAgSGlnaGVzdC1QYXlpbmcgT2NjdXBhdGlvbnMgaW4gRmxvcmlkYScpCnBsdC5nY2EoKS5pbnZlcnRfeWF4aXMoKSAgIyBIaWdoZXN0IHdhZ2UgYXQgdG9wCnBsdC50aWdodF9sYXlvdXQoKQpwbHQuc2hvdygp\").decode())\n\ntry:\n    # run user code\n    __backend_agg_user_code_fn()\n\n    #reset display function\n    display = __backend_agg_display_orig\n\n    if len(__backend_agg_dfs) > 0:\n        # create a temp view\n        if type(__backend_agg_dfs[0]).__module__ == \"databricks.koalas.frame\":\n            # koalas dataframe\n            __backend_agg_dfs[0].to_spark().createOrReplaceTempView(\"DatabricksViewa9d4d53\")\n        elif type(__backend_agg_dfs[0]).__module__ == \"pandas.core.frame\" or isinstance(__backend_agg_dfs[0], list):\n            # pandas dataframe\n            spark.createDataFrame(__backend_agg_dfs[0]).createOrReplaceTempView(\"DatabricksViewa9d4d53\")\n        else:\n            __backend_agg_dfs[0].createOrReplaceTempView(\"DatabricksViewa9d4d53\")\n        #run backend agg\n        display(spark.sql(\"\"\"WITH q AS (select * from DatabricksViewa9d4d53) SELECT `Occupation_Title`,SUM(`AvgMeanHourlyWage`) `column_7806dfaf199` FROM q GROUP BY `Occupation_Title`\"\"\"))\n    else:\n        displayHTML(\"dataframe no longer exists. If you're using dataframe.display(), use display(dataframe) instead.\")\n\n\nfinally:\n    spark.sql(\"drop view if exists DatabricksViewa9d4d53\")\n    display = __backend_agg_display_orig\n    del __backend_agg_display_new\n    del __backend_agg_display_orig\n    del __backend_agg_dfs\n    del __backend_agg_user_code_fn\n\n",
       "commandTitle": "HIghest Paying occupation",
       "commandType": "auto",
       "commandVersion": 0,
       "commentThread": [],
       "commentsVisible": false,
       "contentSha256Hex": null,
       "customPlotOptions": {
        "redashChart": [
         {
          "key": "type",
          "value": "CHART"
         },
         {
          "key": "options",
          "value": {
           "alignYAxesAtZero": true,
           "coefficient": 1,
           "columnConfigurationMap": {
            "x": {
             "column": "Occupation_Title",
             "id": "column_7806dfaf198"
            },
            "y": [
             {
              "column": "AvgMeanHourlyWage",
              "id": "column_7806dfaf199",
              "transform": "SUM"
             }
            ]
           },
           "dateTimeFormat": "DD/MM/YYYY HH:mm",
           "direction": {
            "type": "counterclockwise"
           },
           "error_y": {
            "type": "data",
            "visible": true
           },
           "globalSeriesType": "column",
           "isAggregationOn": true,
           "legend": {
            "traceorder": "normal"
           },
           "missingValuesAsZero": true,
           "numberFormat": "0,0.[00]",
           "percentFormat": "0[.]00%",
           "series": {
            "error_y": {
             "type": "data",
             "visible": true
            },
            "stacking": null
           },
           "seriesOptions": {
            "column_7806dfaf199": {
             "name": "AvgMeanHourlyWage",
             "yAxis": 0
            }
           },
           "showDataLabels": true,
           "sizemode": "diameter",
           "sortX": true,
           "sortY": true,
           "swappedAxes": true,
           "textFormat": "",
           "useAggregationsUi": true,
           "valuesOptions": {},
           "version": 2,
           "xAxis": {
            "labels": {
             "enabled": true
            },
            "type": "-"
           },
           "yAxis": [
            {
             "type": "-"
            },
            {
             "opposite": true,
             "type": "-"
            }
           ]
          }
         }
        ]
       },
       "datasetPreviewNameToCmdIdMap": {},
       "diffDeletes": [],
       "diffInserts": [],
       "displayType": "redashChart",
       "error": null,
       "errorDetails": null,
       "errorSummary": null,
       "errorTraceType": null,
       "finishTime": 0,
       "globalVars": {},
       "guid": "",
       "height": "auto",
       "hideCommandCode": false,
       "hideCommandResult": false,
       "iPythonMetadata": null,
       "inputWidgets": {},
       "isLockedInExamMode": false,
       "latestUser": "a user",
       "latestUserId": null,
       "listResultMetadata": null,
       "metadata": {
        "byteLimit": 2048000,
        "rowLimit": 10000
       },
       "nuid": "ab0d5e5d-c159-4b09-aa7e-a79775b20ceb",
       "origId": 0,
       "parentHierarchy": [],
       "pivotAggregation": null,
       "pivotColumns": null,
       "position": 8.0,
       "resultDbfsErrorMessage": null,
       "resultDbfsStatus": "INLINED_IN_TREE",
       "results": null,
       "showCommandTitle": false,
       "startTime": 0,
       "state": "finished",
       "streamStates": {},
       "subcommandOptions": {
        "queryPlan": {
         "groups": [
          {
           "column": "Occupation_Title",
           "type": "column"
          }
         ],
         "selects": [
          {
           "column": "Occupation_Title",
           "type": "column"
          },
          {
           "alias": "column_7806dfaf199",
           "args": [
            {
             "column": "AvgMeanHourlyWage",
             "type": "column"
            }
           ],
           "function": "SUM",
           "type": "function"
          }
         ]
        }
       },
       "submitTime": 0,
       "subtype": "tableResultSubCmd.visualization",
       "tableResultIndex": 0,
       "tableResultSettingsMap": {},
       "useConsistentColors": false,
       "version": "CommandV1",
       "width": "auto",
       "workflows": [],
       "xColumns": null,
       "yColumns": null
      }
     },
     "output_type": "display_data"
    },
    {
     "output_type": "display_data",
     "data": {
      "image/png": "[encoded data removed]",
      "text/plain": [
       "<Figure size 1200x600 with 1 Axes>"
      ]
     },
     "metadata": {},
     "output_type": "display_data"
    }
   ],
   "source": [
    "# Top 10 highest-paying occupations\n",
    "top_occupation = df.groupBy(\"Occupation_Title\").agg(\n",
    "    mean(\"Mean_Hourly_Wage\").alias(\"AvgMeanHourlyWage\")\n",
    ").orderBy(col(\"AvgMeanHourlyWage\").desc()).limit(10)\n",
    "display(top_occupation)\n",
    "\n",
    "import matplotlib.pyplot as plt\n",
    "\n",
    "# Convert Spark DataFrame to Pandas\n",
    "top_occupation_pd = top_occupation.toPandas()\n",
    "\n",
    "# Plot\n",
    "plt.figure(figsize=(12,6))\n",
    "plt.barh(top_occupation_pd['Occupation_Title'], top_occupation_pd['AvgMeanHourlyWage'])\n",
    "plt.xlabel('Average Mean Hourly Wage')\n",
    "plt.ylabel('Occupation Title')\n",
    "plt.title('Top 10 Highest-Paying Occupations in Florida')\n",
    "plt.gca().invert_yaxis()  # Highest wage at top\n",
    "plt.tight_layout()\n",
    "plt.show()"
   ]
  },
  {
   "cell_type": "markdown",
   "metadata": {
    "application/vnd.databricks.v1+cell": {
     "cellMetadata": {},
     "inputWidgets": {},
     "nuid": "42cb09f4-3c13-484f-8a08-304b4252ae6d",
     "showTitle": false,
     "tableResultSettingsMap": {},
     "title": ""
    }
   },
   "source": [
    "The analysis reveals that Florida’s top-paying occupations are overwhelmingly concentrated in the medical field.\n",
    "\n",
    "Radiologists lead the list with an average hourly wage of ~$145.55, followed by pediatric surgeons ($139.32) and emergency medicine physicians ($132.64).\n",
    "\n",
    "Other high earners include cardiologists, anesthesiologists, orthodontists, and obstetricians and gynecologists, all averaging well above $110 per hour.\n",
    "\n",
    "These results highlight that specialized, high-skill healthcare roles dominate the top end of Florida’s wage distribution, reflecting both the expertise required and the critical nature of these professions in the labor market."
   ]
  },
  {
   "cell_type": "markdown",
   "metadata": {
    "application/vnd.databricks.v1+cell": {
     "cellMetadata": {},
     "inputWidgets": {},
     "nuid": "36c368a7-c138-44cc-b75c-092cccecc10a",
     "showTitle": false,
     "tableResultSettingsMap": {},
     "title": ""
    }
   },
   "source": [
    "**Yearly Trends by Top Occupations**\n",
    "This query groups the dataset by both Year and Occupation_Title, calculating:\n",
    "- The average mean hourly wage (AvgMeanHourlyWage) for each occupation in each year.\n",
    "- The average employment (AvgEmployment) for each occupation in each year.\n",
    "\n",
    "This analysis provides insights into how top occupations shift year by year, revealing both high-wage stability and potential emerging job trends."
   ]
  },
  {
   "cell_type": "code",
   "execution_count": 0,
   "metadata": {
    "application/vnd.databricks.v1+cell": {
     "cellMetadata": {
      "byteLimit": 2048000,
      "rowLimit": 10000
     },
     "inputWidgets": {},
     "nuid": "0c1a1bf7-1d53-4ba7-9746-b9c8babc4f6b",
     "showTitle": false,
     "tableResultSettingsMap": {},
     "title": ""
    }
   },
   "outputs": [
    {
     "output_type": "stream",
     "name": "stdout",
     "output_type": "stream",
     "text": [
      "+----+--------------------+------------------+------------------+\n|Year|    Occupation_Title| AvgMeanHourlyWage|     AvgEmployment|\n+----+--------------------+------------------+------------------+\n|2015|            surgeons|122.07470588235294| 720.5882352941177|\n|2015|   anesthesiologists|         118.92125|           1796.25|\n|2015|obstetricians and...|118.13545454545455| 1810.909090909091|\n|2015|       orthodontists|117.24666666666667|2093.3333333333335|\n|2015|oral and maxillof...|           115.255|            1675.0|\n|2015| internists, general|108.92315789473685|            1210.0|\n|2015|dentists, all oth...|105.21666666666665|1106.6666666666667|\n|2015|physicians and su...|101.83800000000001|            1686.0|\n|2015|pediatricians, ge...| 94.80357142857143|1416.4285714285713|\n|2015|family and genera...| 94.11916666666667|             882.5|\n|2015|    chief executives|           88.1068|            1104.0|\n|2015|       psychiatrists| 84.23866666666666|            1458.0|\n|2015|   dentists, general| 84.09199999999998|             902.0|\n|2015|  nurse anesthetists| 74.51799999999999|            1952.0|\n|2015|     prosthodontists|             68.58|            2960.0|\n|2015|          physicists|             68.24| 1782.857142857143|\n|2015|judges, magistrat...|             64.33|            1370.0|\n|2015|broadcast news an...|             63.44|             290.0|\n|2015|airline pilots, c...|           62.2475|            3305.0|\n|2015|      sales managers| 60.07833333333334|1172.9166666666667|\n+----+--------------------+------------------+------------------+\nonly showing top 20 rows\n\n"
     ]
    },
    {
     "output_type": "display_data",
     "data": {
      "image/png": "[encoded data removed]",
      "text/plain": [
       "<Figure size 1200x600 with 1 Axes>"
      ]
     },
     "metadata": {},
     "output_type": "display_data"
    }
   ],
   "source": [
    "\n",
    "# Yearly trends by top occupations\n",
    "yearly_top_occupations = df.groupBy(\"Year\", \"Occupation_Title\").agg(\n",
    "    mean(\"Mean_Hourly_Wage\").alias(\"AvgMeanHourlyWage\"),\n",
    "    mean(\"Employment\").alias(\"AvgEmployment\")\n",
    ").orderBy(\"Year\", col(\"AvgMeanHourlyWage\").desc())\n",
    "yearly_top_occupations.show(20)\n",
    "\n",
    "# Convert Spark DataFrame to pandas\n",
    "yearly_top_pd = yearly_top_occupations.toPandas()\n",
    "\n",
    "# Focussing only on a few top occupations across all years\n",
    "top_occupations_list = yearly_top_pd.groupby('Occupation_Title')['AvgMeanHourlyWage'].mean().nlargest(5).index.tolist()\n",
    "filtered_pd = yearly_top_pd[yearly_top_pd['Occupation_Title'].isin(top_occupations_list)]\n",
    "\n",
    "# Plot\n",
    "plt.figure(figsize=(12, 6))\n",
    "\n",
    "for occupation in filtered_pd['Occupation_Title'].unique():\n",
    "    subset = filtered_pd[filtered_pd['Occupation_Title'] == occupation]\n",
    "    plt.plot(subset['Year'], subset['AvgMeanHourlyWage'], marker='o', label=occupation)\n",
    "\n",
    "plt.xlabel('Year')\n",
    "plt.ylabel('Average Mean Hourly Wage')\n",
    "plt.title('Yearly Wage Trends by Top Occupations')\n",
    "plt.legend(title='Occupation')\n",
    "plt.grid(True)\n",
    "plt.tight_layout()\n",
    "plt.show()"
   ]
  },
  {
   "cell_type": "markdown",
   "metadata": {
    "application/vnd.databricks.v1+cell": {
     "cellMetadata": {},
     "inputWidgets": {},
     "nuid": "f3f93938-3930-4f2a-9aee-6d61d837f6e7",
     "showTitle": false,
     "tableResultSettingsMap": {},
     "title": ""
    }
   },
   "source": [
    "**Interpretation of Yearly Top Occupations**\n",
    "\n",
    "The `yearly_top_occupations` results show, for each year (e.g., 2015), the occupations with the highest **average mean hourly wage** and their **average employment counts**.\n",
    "\n",
    "For example, in **2015**, the top occupations by wage were:\n",
    "\n",
    "- **Surgeons**: ~$122/hour, avg employment ~720\n",
    "- **Anesthesiologists**: ~$119/hour, avg employment ~1,796\n",
    "- **OB-GYNs**: ~$118/hour, avg employment ~1,810\n",
    "- **Orthodontists**: ~$117/hour, avg employment ~2,093\n",
    "\n",
    "This reveals that high-compensation roles are heavily concentrated in specialized medical fields, where wages are high but the number of professionals is relatively small compared to general labor categories.\n"
   ]
  },
  {
   "cell_type": "markdown",
   "metadata": {
    "application/vnd.databricks.v1+cell": {
     "cellMetadata": {},
     "inputWidgets": {},
     "nuid": "2693c98a-a566-4ee5-b728-719c4bc0abf3",
     "showTitle": false,
     "tableResultSettingsMap": {},
     "title": ""
    }
   },
   "source": [
    "**City-Level (MSA-Level) Yearly Summary**\n",
    "This query produces, for each city (MSA) and year:\n",
    "\n",
    "- Average Mean Hourly Wage (AvgMeanHourlyWage) → the average hourly wage across all occupations in that city/year.\n",
    "\n",
    "- Average Employment (AvgEmployment) → the average number of employed workers per occupation in that city/year.\n",
    "\n",
    "- Unique Occupations (UniqueOccupations) → the count of distinct occupation codes reported in that city/year."
   ]
  },
  {
   "cell_type": "code",
   "execution_count": 0,
   "metadata": {
    "application/vnd.databricks.v1+cell": {
     "cellMetadata": {
      "byteLimit": 2048000,
      "rowLimit": 10000
     },
     "inputWidgets": {},
     "nuid": "770f8f16-875d-41f8-a00f-b42094625189",
     "showTitle": false,
     "tableResultSettingsMap": {},
     "title": ""
    }
   },
   "outputs": [
    {
     "output_type": "stream",
     "name": "stdout",
     "output_type": "stream",
     "text": [
      "+----+--------------------+------------------+------------------+-----------------+\n|Year|                City| AvgMeanHourlyWage|     AvgEmployment|UniqueOccupations|\n+----+--------------------+------------------+------------------+-----------------+\n|2015|cape coral-ft. myers|24.300662393162384| 806.7521367521367|              468|\n|2015|crestview-ft. wal...|23.321736842105263| 579.3421052631579|              380|\n|2015|deltona-daytona-o...| 22.79448888888889| 640.6666666666666|              450|\n|2015|        fl-statewide|25.428656527249686|10097.946768060836|              789|\n|2015|ft lauderdale-pom...| 24.95623063683304| 1611.394148020654|              581|\n|2015|         gainesville|24.549040767386092| 446.1870503597122|              417|\n|2015|        jacksonville|          25.25535|            1303.1|              600|\n|2015|            lakeland|23.599721627408993| 773.8115631691649|              467|\n|2015|miami-miami bch-k...|26.051465798045612|2019.8045602605864|              614|\n|2015| naples-marco island|  24.8673947368421| 701.2631578947369|              380|\n|2015|north port-braden...|23.718910891089116| 871.3663366336634|              505|\n|2015|    northeast fl bos|21.403083573487038| 578.6167146974063|              347|\n|2015|    northwest fl bos| 20.69382608695652|448.30434782608694|              230|\n|2015|               ocala|22.874750656167976| 655.2230971128608|              381|\n|2015|   orlando-kissimmee| 25.00899838449112|2039.5961227786752|              619|\n|2015|palm bay-melbourn...|24.965381355932216| 647.3516949152543|              472|\n|2015|panama city-lynn ...|22.339145299145297| 503.2193732193732|              351|\n|2015|pensacola-ferry p...| 23.33281045751634|  658.322440087146|              459|\n|2015|port st. lucie-ft...|23.374158653846152|          615.3125|              416|\n|2015|         punta gorda| 23.38476744186046|502.90697674418607|              258|\n+----+--------------------+------------------+------------------+-----------------+\nonly showing top 20 rows\n\n"
     ]
    }
   ],
   "source": [
    "# City-level (MSA-level) yearly summary\n",
    "city_yearly_summary = df.groupBy(\"Year\", \"City\").agg(\n",
    "    mean(\"Mean_Hourly_Wage\").alias(\"AvgMeanHourlyWage\"),\n",
    "    mean(\"Employment\").alias(\"AvgEmployment\"),\n",
    "    countDistinct(\"Occupation_Code\").alias(\"UniqueOccupations\")\n",
    ").orderBy(\"Year\", \"City\")\n",
    "city_yearly_summary.show(20)"
   ]
  },
  {
   "cell_type": "markdown",
   "metadata": {
    "application/vnd.databricks.v1+cell": {
     "cellMetadata": {},
     "inputWidgets": {},
     "nuid": "081009f1-ba43-4b96-9852-98647288429b",
     "showTitle": false,
     "tableResultSettingsMap": {},
     "title": ""
    }
   },
   "source": [
    "- Major metros (Miami, Tampa, Orlando) lead in wages (~$30+ by 2024).\n",
    "- Statewide summaries have the broadest occupational coverage.\n",
    "- Small cities show wage growth, closing gaps over time.\n",
    "- Unique occupations generally increase, reflecting diversification.\n",
    "\n"
   ]
  },
  {
   "cell_type": "markdown",
   "metadata": {
    "application/vnd.databricks.v1+cell": {
     "cellMetadata": {},
     "inputWidgets": {},
     "nuid": "bc7109f9-f1e8-4e05-8624-7e3e7850336f",
     "showTitle": false,
     "tableResultSettingsMap": {},
     "title": ""
    }
   },
   "source": [
    "**Top 10 Highest-Paying Occupations by City**"
   ]
  },
  {
   "cell_type": "code",
   "execution_count": 0,
   "metadata": {
    "application/vnd.databricks.v1+cell": {
     "cellMetadata": {
      "byteLimit": 2048000,
      "rowLimit": 10000
     },
     "inputWidgets": {},
     "nuid": "2c88fcf6-e6f4-49ca-8884-911e14e5596f",
     "showTitle": false,
     "tableResultSettingsMap": {},
     "title": ""
    }
   },
   "outputs": [
    {
     "output_type": "stream",
     "name": "stdout",
     "output_type": "stream",
     "text": [
      " Available tables:\n+--------+------------------+-----------+\n|database|         tableName|isTemporary|\n+--------+------------------+-----------+\n| default|florida_labor_data|      false|\n+--------+------------------+-----------+\n\n+--------------------+--------------------+------------------+\n|                City|    Occupation_Title|           AvgWage|\n+--------------------+--------------------+------------------+\n|deltona-daytona b...|orthopedic surgeo...|            199.75|\n|tampa-st. petersb...|        radiologists|            191.54|\n|crestview-fort wa...|oral and maxillof...|            191.37|\n|north port-saraso...| surgeons, all other|            190.83|\n|naples-immokalee-...|obstetricians and...|            183.11|\n|tampa-st. petersb...|       cardiologists|180.89333333333332|\n|cape coral-fort m...|emergency medicin...|179.93666666666664|\n|lakeland-winter h...|       cardiologists|            179.65|\n|     tallahassee, fl|obstetricians and...|            179.18|\n|tampa-st. petersb...| surgeons, all other|178.66500000000002|\n+--------------------+--------------------+------------------+\n\n"
     ]
    }
   ],
   "source": [
    "# Use Spark SQL context\n",
    "spark.sql(\"USE default\")\n",
    "\n",
    "# Check available tables\n",
    "print(\" Available tables:\")\n",
    "spark.sql(\"SHOW TABLES\").show()\n",
    "\n",
    "# Top 10 Highest-Paying Occupations by City\n",
    "spark.sql(\"\"\"\n",
    "    SELECT City, Occupation_Title, AVG(Mean_Hourly_Wage) AS AvgWage\n",
    "    FROM florida_labor_data\n",
    "    GROUP BY City, Occupation_Title\n",
    "    ORDER BY AvgWage DESC\n",
    "    LIMIT 10\n",
    "\"\"\").show()"
   ]
  },
  {
   "cell_type": "markdown",
   "metadata": {
    "application/vnd.databricks.v1+cell": {
     "cellMetadata": {},
     "inputWidgets": {},
     "nuid": "bef954ad-b50e-4ad0-b436-440010dae29c",
     "showTitle": false,
     "tableResultSettingsMap": {},
     "title": ""
    }
   },
   "source": [
    "This result shows that across Florida cities, the highest-paying jobs are overwhelmingly in specialized medical fields.\n",
    "\n",
    "For example, orthopedic surgeons in Deltona-Daytona Beach-Ormond earn an average of about $200 per hour, making them the top in the list. Radiologists in Tampa-St. Petersburg-Clearwater follow closely at $191 per hour, and oral and maxillofacial surgeons in Crestview-Fort Walton Beach-Destin also earn around $191 per hour.\n",
    "\n",
    "Other top roles include various types of surgeons, cardiologists, emergency medicine physicians, and obstetricians/gynecologists, all clustered near or above the $175–$190 per hour range.\n",
    "\n",
    "Notably, Tampa-St. Petersburg-Clearwater appears multiple times in this top-10 ranking, suggesting the region has a strong presence of high-paying medical specialists.\n",
    "\n",
    "In summary, these results reveal that the best-paid occupations by city are concentrated in advanced, high-skill healthcare professions, with only slight variations between regions"
   ]
  },
  {
   "cell_type": "markdown",
   "metadata": {
    "application/vnd.databricks.v1+cell": {
     "cellMetadata": {},
     "inputWidgets": {},
     "nuid": "12baefe6-b083-4ac9-b265-cec9f7ddbedc",
     "showTitle": false,
     "tableResultSettingsMap": {},
     "title": ""
    }
   },
   "source": [
    "**Regions (Cities) with Highest Wage Disparities**"
   ]
  },
  {
   "cell_type": "code",
   "execution_count": 0,
   "metadata": {
    "application/vnd.databricks.v1+cell": {
     "cellMetadata": {
      "byteLimit": 2048000,
      "rowLimit": 10000
     },
     "inputWidgets": {},
     "nuid": "1f5a3c54-6f47-4554-a2dc-21abdf1a9a4c",
     "showTitle": false,
     "tableResultSettingsMap": {},
     "title": ""
    }
   },
   "outputs": [
    {
     "output_type": "stream",
     "name": "stdout",
     "output_type": "stream",
     "text": [
      "+--------------------+------------------+\n|                City|     WageDisparity|\n+--------------------+------------------+\n|deltona-daytona b...|            190.55|\n|lakeland-winter h...|             189.7|\n|tampa-st. petersb...|186.35999999999999|\n| florida - statewide|            183.88|\n|        jacksonville|            183.62|\n|crestview-fort wa...|            181.96|\n|palm bay-melbourn...|            181.84|\n|north port-saraso...|181.38000000000002|\n|cape coral-fort m...|            179.22|\n|pensacola-ferry p...|            177.44|\n+--------------------+------------------+\n\n"
     ]
    }
   ],
   "source": [
    "# Regions (Cities) with Highest Wage Disparities\n",
    "spark.sql(\"\"\"\n",
    "    SELECT City,\n",
    "           MAX(Mean_Hourly_Wage) - MIN(Mean_Hourly_Wage) AS WageDisparity\n",
    "    FROM florida_labor_data\n",
    "    GROUP BY City\n",
    "    ORDER BY WageDisparity DESC\n",
    "    LIMIT 10\n",
    "\"\"\").show()\n"
   ]
  },
  {
   "cell_type": "markdown",
   "metadata": {
    "application/vnd.databricks.v1+cell": {
     "cellMetadata": {},
     "inputWidgets": {},
     "nuid": "00d3784e-139f-411f-b1f1-867ef17e4c2d",
     "showTitle": false,
     "tableResultSettingsMap": {},
     "title": ""
    }
   },
   "source": [
    "The difference between the highest and lowest wages — with Tampa-St. Petersburg-Clearwater at the top, showing a $89.94/hour gap between its top-earning and bottom-earning occupations.\n",
    "\n",
    "In short: these cities have the widest pay gaps across jobs, reflecting strong wage inequality across their local labor markets."
   ]
  },
  {
   "cell_type": "code",
   "execution_count": 0,
   "metadata": {
    "application/vnd.databricks.v1+cell": {
     "cellMetadata": {
      "byteLimit": 2048000,
      "rowLimit": 10000
     },
     "inputWidgets": {},
     "nuid": "8f2d3f47-c119-4a66-9c49-fc24121656ea",
     "showTitle": false,
     "tableResultSettingsMap": {},
     "title": ""
    }
   },
   "outputs": [
    {
     "output_type": "display_data",
     "data": {
      "text/html": [
       "<style scoped>\n",
       "  .table-result-container {\n",
       "    max-height: 300px;\n",
       "    overflow: auto;\n",
       "  }\n",
       "  table, th, td {\n",
       "    border: 1px solid black;\n",
       "    border-collapse: collapse;\n",
       "  }\n",
       "  th, td {\n",
       "    padding: 5px;\n",
       "  }\n",
       "  th {\n",
       "    text-align: left;\n",
       "  }\n",
       "</style><div class='table-result-container'><table class='table-result'><thead style='background-color: white'><tr><th>Year</th><th>City</th><th>AvgWage</th></tr></thead><tbody><tr><td>2015</td><td>west palm beach-boca raton-boyn</td><td>26.43558558558559</td></tr><tr><td>2015</td><td>miami-miami bch-kendall</td><td>26.051465798045584</td></tr><tr><td>2015</td><td>fl-statewide</td><td>25.42865652724971</td></tr><tr><td>2015</td><td>jacksonville</td><td>25.255350000000007</td></tr><tr><td>2015</td><td>tampa-st. petersburg-clearwater</td><td>25.184831288343556</td></tr><tr><td>2015</td><td>orlando-kissimmee</td><td>25.008998384491107</td></tr><tr><td>2015</td><td>palm bay-melbourne-titusville</td><td>24.9653813559322</td></tr><tr><td>2015</td><td>ft lauderdale-pompano-deerfield</td><td>24.95623063683304</td></tr><tr><td>2015</td><td>naples-marco island</td><td>24.867394736842126</td></tr><tr><td>2015</td><td>gainesville</td><td>24.549040767386074</td></tr><tr><td>2015</td><td>cape coral-ft. myers</td><td>24.30066239316239</td></tr><tr><td>2015</td><td>tallahassee</td><td>24.12019955654101</td></tr><tr><td>2015</td><td>north port-bradenton-sarasota</td><td>23.718910891089127</td></tr><tr><td>2015</td><td>sebastian-vero beach</td><td>23.60134020618558</td></tr><tr><td>2015</td><td>lakeland</td><td>23.599721627409</td></tr><tr><td>2015</td><td>punta gorda</td><td>23.38476744186045</td></tr><tr><td>2015</td><td>port st. lucie-ft. pierce</td><td>23.374158653846166</td></tr><tr><td>2015</td><td>south florida bos</td><td>23.37048571428571</td></tr><tr><td>2015</td><td>pensacola-ferry pass-brent</td><td>23.332810457516338</td></tr><tr><td>2015</td><td>crestview-ft. walton bch-destin</td><td>23.321736842105263</td></tr><tr><td>2015</td><td>ocala</td><td>22.874750656167972</td></tr><tr><td>2015</td><td>deltona-daytona-ormond</td><td>22.79448888888887</td></tr><tr><td>2015</td><td>panama city-lynn haven</td><td>22.339145299145304</td></tr><tr><td>2015</td><td>northeast fl bos</td><td>21.403083573487027</td></tr><tr><td>2015</td><td>northwest fl bos</td><td>20.693826086956527</td></tr><tr><td>2016</td><td>west palm beach-boca raton-boyn</td><td>25.79654510556621</td></tr><tr><td>2016</td><td>palm bay-melbourne-titusville</td><td>25.35307517084283</td></tr><tr><td>2016</td><td>naples-marco island</td><td>25.295663956639583</td></tr><tr><td>2016</td><td>miami-miami beach-kendall</td><td>25.056261022927714</td></tr><tr><td>2016</td><td>tampa-st petersburg-clearwater</td><td>24.789747899159654</td></tr><tr><td>2016</td><td>jacksonville</td><td>24.78537477148079</td></tr><tr><td>2016</td><td>gainesville</td><td>24.775126903553275</td></tr><tr><td>2016</td><td>ft. lauderdale-pompano beach-de</td><td>24.747504621072032</td></tr><tr><td>2016</td><td>fl-statewide</td><td>24.73509015256586</td></tr><tr><td>2016</td><td>orlando-kissimmee-sanford</td><td>24.368411867364756</td></tr><tr><td>2016</td><td>crestview-ft. walton beach-dest</td><td>23.669209809264295</td></tr><tr><td>2016</td><td>cape coral-ft. myers</td><td>23.66711711711711</td></tr><tr><td>2016</td><td>port st lucie-fort pierce</td><td>23.640051020408187</td></tr><tr><td>2016</td><td>north port-bradenton-sarasota</td><td>23.623044397462994</td></tr><tr><td>2016</td><td>the villages</td><td>23.390058479532172</td></tr><tr><td>2016</td><td>lakeland</td><td>23.301363636363632</td></tr><tr><td>2016</td><td>punta gorda</td><td>23.173553719008265</td></tr><tr><td>2016</td><td>tallahassee</td><td>23.02028639618141</td></tr><tr><td>2016</td><td>pensacola-ferry pass-brent</td><td>22.860655737704906</td></tr><tr><td>2016</td><td>deltona-daytona beach-ormond b</td><td>22.841647058823515</td></tr><tr><td>2016</td><td>sebastian-vero beach</td><td>22.702888086642602</td></tr><tr><td>2016</td><td>panama city-lynn haven-pc beach</td><td>22.505507246376794</td></tr><tr><td>2016</td><td>ocala</td><td>22.23646723646726</td></tr><tr><td>2016</td><td>homosassa springs</td><td>21.490306122448978</td></tr><tr><td>2016</td><td>sebring</td><td>20.806145251396647</td></tr><tr><td>2017</td><td>west palm beach-boca raton-boyn</td><td>26.020352250489232</td></tr><tr><td>2017</td><td>palm bay-melbourne-titusville</td><td>25.70382882882884</td></tr><tr><td>2017</td><td>naples-marco island</td><td>25.665439093484437</td></tr><tr><td>2017</td><td>fl-statewide</td><td>25.05327754532775</td></tr><tr><td>2017</td><td>ft. lauderdale-pompano beach-de</td><td>24.960037174721176</td></tr><tr><td>2017</td><td>miami-miami beach-kendall</td><td>24.92170818505337</td></tr><tr><td>2017</td><td>tampa-st petersburg-clearwater</td><td>24.915318416523224</td></tr><tr><td>2017</td><td>jacksonville</td><td>24.893506493506493</td></tr><tr><td>2017</td><td>orlando-kissimmee-sanford</td><td>24.78045774647886</td></tr><tr><td>2017</td><td>port st lucie-fort pierce</td><td>24.51237113402061</td></tr><tr><td>2017</td><td>gainesville</td><td>24.26884422110551</td></tr><tr><td>2017</td><td>sebastian-vero beach</td><td>23.94755244755245</td></tr><tr><td>2017</td><td>cape coral-ft. myers</td><td>23.842201834862394</td></tr><tr><td>2017</td><td>crestview-ft. walton beach-dest</td><td>23.842148760330595</td></tr><tr><td>2017</td><td>the villages</td><td>23.79358288770055</td></tr><tr><td>2017</td><td>north port-bradenton-sarasota</td><td>23.49152173913044</td></tr><tr><td>2017</td><td>panama city-lynn haven-pc beach</td><td>23.44131736526946</td></tr><tr><td>2017</td><td>punta gorda</td><td>23.225957446808508</td></tr><tr><td>2017</td><td>tallahassee</td><td>23.100990099009866</td></tr><tr><td>2017</td><td>pensacola-ferry pass-brent</td><td>22.931325301204815</td></tr><tr><td>2017</td><td>lakeland</td><td>22.716190476190487</td></tr><tr><td>2017</td><td>deltona-daytona beach-ormond b</td><td>22.481999999999992</td></tr><tr><td>2017</td><td>ocala</td><td>22.462745098039214</td></tr><tr><td>2017</td><td>homosassa springs</td><td>22.454716981132087</td></tr><tr><td>2017</td><td>sebring</td><td>20.38608247422679</td></tr><tr><td>2018</td><td>west palm beach-boca raton-boyn</td><td>26.423551401869176</td></tr><tr><td>2018</td><td>miami-miami beach-kendall</td><td>26.167301038062273</td></tr><tr><td>2018</td><td>palm bay-melbourne-titusville</td><td>25.79139072847682</td></tr><tr><td>2018</td><td>ft. lauderdale-pompano beach-de</td><td>25.688929219600737</td></tr><tr><td>2018</td><td>naples-marco island</td><td>25.612957746478862</td></tr><tr><td>2018</td><td>orlando-kissimmee-sanford</td><td>25.401933216168743</td></tr><tr><td>2018</td><td>fl-statewide</td><td>25.287290502793308</td></tr><tr><td>2018</td><td>jacksonville</td><td>25.252564102564094</td></tr><tr><td>2018</td><td>tampa-st petersburg-clearwater</td><td>25.036797274275965</td></tr><tr><td>2018</td><td>cape coral-ft. myers</td><td>24.78235294117649</td></tr><tr><td>2018</td><td>port st lucie-fort pierce</td><td>24.613659793814424</td></tr><tr><td>2018</td><td>crestview-ft. walton beach-dest</td><td>24.54904632152587</td></tr><tr><td>2018</td><td>the villages</td><td>24.51977401129943</td></tr><tr><td>2018</td><td>gainesville</td><td>24.03427835051546</td></tr><tr><td>2018</td><td>lakeland</td><td>24.02321839080459</td></tr><tr><td>2018</td><td>north port-bradenton-sarasota</td><td>23.934120171673825</td></tr><tr><td>2018</td><td>panama city-lynn haven-pc beach</td><td>23.78709677419356</td></tr><tr><td>2018</td><td>pensacola-ferry pass-brent</td><td>23.771670702179193</td></tr><tr><td>2018</td><td>sebastian-vero beach</td><td>23.737358490566038</td></tr><tr><td>2018</td><td>tallahassee</td><td>23.243589743589745</td></tr><tr><td>2018</td><td>punta gorda</td><td>22.890128755364806</td></tr><tr><td>2018</td><td>homosassa springs</td><td>22.38010204081632</td></tr><tr><td>2018</td><td>deltona-daytona beach-ormond b</td><td>22.301474201474182</td></tr><tr><td>2018</td><td>ocala</td><td>22.23565217391304</td></tr><tr><td>2018</td><td>sebring</td><td>20.37704918032787</td></tr><tr><td>2019</td><td>west palm beach-boca raton</td><td>27.516346153846165</td></tr><tr><td>2019</td><td>miami-miami beach-kendall, fl</td><td>26.558734567901254</td></tr><tr><td>2019</td><td>ft. lauderdale-pompano beach-de</td><td>26.494268907563036</td></tr><tr><td>2019</td><td>naples-immokalee-marco island</td><td>26.315566502463053</td></tr><tr><td>2019</td><td>miami-fort lauderdale-west palm</td><td>26.29281163434907</td></tr><tr><td>2019</td><td>north port-sarasota-bradenton</td><td>26.290743639921732</td></tr><tr><td>2019</td><td>tampa-st. petersburg-clearwater</td><td>26.20517503805177</td></tr><tr><td>2019</td><td>florida - statewide</td><td>26.200303797468337</td></tr><tr><td>2019</td><td>palm bay-melbourne-titusville</td><td>26.02203354297696</td></tr><tr><td>2019</td><td>orlando-kissimmee-sanford</td><td>26.01919504643964</td></tr><tr><td>2019</td><td>jacksonville</td><td>25.75664948453612</td></tr><tr><td>2019</td><td>port st. lucie, fl</td><td>25.392686915887897</td></tr><tr><td>2019</td><td>cape coral-fort myers</td><td>25.390124740124723</td></tr><tr><td>2019</td><td>crestview-fort walton beach-de</td><td>25.238045112781954</td></tr><tr><td>2019</td><td>panama city</td><td>25.022572254335252</td></tr><tr><td>2019</td><td>the villages, fl</td><td>24.91099056603773</td></tr><tr><td>2019</td><td>pensacola-ferry pass-brent</td><td>24.857114093959733</td></tr><tr><td>2019</td><td>lakeland-winter haven</td><td>24.743312368972756</td></tr><tr><td>2019</td><td>gainesville</td><td>24.524320987654338</td></tr><tr><td>2019</td><td>sebastian-vero beach, fl</td><td>24.415784313725474</td></tr><tr><td>2019</td><td>south florida bos</td><td>24.387828571428564</td></tr><tr><td>2019</td><td>homosassa springs</td><td>23.944374999999997</td></tr><tr><td>2019</td><td>tallahassee, fl</td><td>23.93484918793504</td></tr><tr><td>2019</td><td>punta gorda, fl</td><td>23.603560606060604</td></tr><tr><td>2019</td><td>ocala, fl</td><td>23.308179347826087</td></tr><tr><td>2019</td><td>deltona-daytona beach-ormond b</td><td>23.049265033407554</td></tr><tr><td>2019</td><td>northwest florida bos</td><td>22.36020408163265</td></tr><tr><td>2019</td><td>northeast florida bos</td><td>21.709463806970497</td></tr><tr><td>2019</td><td>north florida bos</td><td>21.273422330097095</td></tr><tr><td>2019</td><td>sebring, fl</td><td>21.202920792079208</td></tr><tr><td>2020</td><td>miami-fort lauderdale-west palm</td><td>27.401926863572417</td></tr><tr><td>2020</td><td>tampa-st. petersburg-clearwater</td><td>27.20723502304148</td></tr><tr><td>2020</td><td>crestview-fort walton beach-de</td><td>27.034481865284974</td></tr><tr><td>2020</td><td>florida - statewide</td><td>26.98870113493065</td></tr><tr><td>2020</td><td>jacksonville</td><td>26.965962521294678</td></tr><tr><td>2020</td><td>palm bay-melbourne-titusville</td><td>26.789728033472777</td></tr><tr><td>2020</td><td>naples-immokalee-marco island</td><td>26.78571428571425</td></tr><tr><td>2020</td><td>cape coral-fort myers</td><td>26.640101626016236</td></tr><tr><td>2020</td><td>pensacola-ferry pass-brent</td><td>26.512665148063764</td></tr><tr><td>2020</td><td>orlando-kissimmee-sanford</td><td>26.491317829457362</td></tr><tr><td>2020</td><td>the villages, fl</td><td>26.471095890410947</td></tr><tr><td>2020</td><td>north port-sarasota-bradenton</td><td>26.265479999999997</td></tr><tr><td>2020</td><td>port st. lucie, fl</td><td>25.92596618357486</td></tr><tr><td>2020</td><td>lakeland-winter haven</td><td>25.83948827292112</td></tr><tr><td>2020</td><td>panama city</td><td>25.82163742690057</td></tr><tr><td>2020</td><td>tallahassee, fl</td><td>25.306872146118728</td></tr><tr><td>2020</td><td>sebastian-vero beach, fl</td><td>25.1257627118644</td></tr><tr><td>2020</td><td>gainesville</td><td>25.057386091127068</td></tr><tr><td>2020</td><td>south florida non-metropolitan</td><td>24.635433526011553</td></tr><tr><td>2020</td><td>punta gorda, fl</td><td>24.52827999999999</td></tr><tr><td>2020</td><td>deltona-daytona beach-ormond b</td><td>24.42927927927926</td></tr><tr><td>2020</td><td>ocala, fl</td><td>24.03602209944749</td></tr><tr><td>2020</td><td>homosassa springs</td><td>23.576375545851516</td></tr><tr><td>2020</td><td>north florida non-metropolitan</td><td>22.532499999999978</td></tr><tr><td>2020</td><td>sebring, fl</td><td>21.329211822660103</td></tr><tr><td>2021</td><td>crestview-fort walton beach-de</td><td>29.187943262411387</td></tr><tr><td>2021</td><td>naples-immokalee-marco island</td><td>29.032328767123264</td></tr><tr><td>2021</td><td>jacksonville</td><td>28.961423999999987</td></tr><tr><td>2021</td><td>palm bay-melbourne-titusville</td><td>28.9442940038685</td></tr><tr><td>2021</td><td>miami-fort lauderdale-west palm</td><td>28.89290055248621</td></tr><tr><td>2021</td><td>tampa-st. petersburg-clearwater</td><td>28.883417533432414</td></tr><tr><td>2021</td><td>florida - statewide</td><td>28.436887816646575</td></tr><tr><td>2021</td><td>north port-sarasota-bradenton</td><td>28.26024952015351</td></tr><tr><td>2021</td><td>cape coral-fort myers</td><td>28.25141732283466</td></tr><tr><td>2021</td><td>orlando-kissimmee-sanford</td><td>28.13152108433733</td></tr><tr><td>2021</td><td>pensacola-ferry pass-brent</td><td>28.004406779660986</td></tr><tr><td>2021</td><td>lakeland-winter haven</td><td>27.860096153846147</td></tr><tr><td>2021</td><td>the villages, fl</td><td>27.142301255230127</td></tr><tr><td>2021</td><td>port st. lucie, fl</td><td>27.00188340807173</td></tr><tr><td>2021</td><td>panama city</td><td>26.95145945945947</td></tr><tr><td>2021</td><td>gainesville</td><td>26.70712616822431</td></tr><tr><td>2021</td><td>tallahassee, fl</td><td>26.621279317697184</td></tr><tr><td>2021</td><td>sebastian-vero beach, fl</td><td>26.44636645962734</td></tr><tr><td>2021</td><td>ocala, fl</td><td>26.010122850122844</td></tr><tr><td>2021</td><td>south florida non-metropolitan</td><td>25.888626943005153</td></tr><tr><td>2021</td><td>punta gorda, fl</td><td>25.688374558303888</td></tr><tr><td>2021</td><td>north florida non-metropolitan</td><td>25.12461716937354</td></tr><tr><td>2021</td><td>deltona-daytona beach-ormond b</td><td>25.036804123711306</td></tr><tr><td>2021</td><td>homosassa springs</td><td>23.31876033057851</td></tr><tr><td>2021</td><td>sebring, fl</td><td>22.587702702702707</td></tr><tr><td>2022</td><td>miami-ft. laud-wpb</td><td>30.44254098360661</td></tr><tr><td>2022</td><td>naples-immokalee-marco island</td><td>30.15117370892017</td></tr><tr><td>2022</td><td>tampa-st. petersburg-clearwater</td><td>29.95831884057971</td></tr><tr><td>2022</td><td>palm bay-melbourne-titusville</td><td>29.779371316306484</td></tr><tr><td>2022</td><td>jacksonville</td><td>29.46154929577466</td></tr><tr><td>2022</td><td>cape coral-fort myers</td><td>29.433531746031747</td></tr><tr><td>2022</td><td>florida - statewide</td><td>29.424816625916897</td></tr><tr><td>2022</td><td>orlando-kissimmee-sanford</td><td>29.23954344624451</td></tr><tr><td>2022</td><td>crestview-fort walton beach-de</td><td>29.00582547169812</td></tr><tr><td>2022</td><td>lakeland-winter haven</td><td>28.84832391713747</td></tr><tr><td>2022</td><td>north port-sarasota-bradenton</td><td>28.75848314606742</td></tr><tr><td>2022</td><td>port st. lucie, fl</td><td>28.46277899343544</td></tr><tr><td>2022</td><td>the villages, fl</td><td>28.090860655737707</td></tr><tr><td>2022</td><td>pensacola-ferry pass-brent</td><td>27.80374468085104</td></tr><tr><td>2022</td><td>punta gorda, fl</td><td>27.789379310344835</td></tr><tr><td>2022</td><td>gainesville</td><td>27.621631701631703</td></tr><tr><td>2022</td><td>south florida balance of state</td><td>27.535329815303434</td></tr><tr><td>2022</td><td>tallahassee, fl</td><td>27.522000000000006</td></tr><tr><td>2022</td><td>sebastian-vero beach, fl</td><td>27.317672955974846</td></tr><tr><td>2022</td><td>panama city</td><td>27.271822916666682</td></tr><tr><td>2022</td><td>ocala, fl</td><td>26.90813602015113</td></tr><tr><td>2022</td><td>deltona-daytona beach-ormond b</td><td>26.417151162790695</td></tr><tr><td>2022</td><td>north florida balance of state</td><td>26.12085918854413</td></tr><tr><td>2022</td><td>homosassa springs</td><td>25.711526104417675</td></tr><tr><td>2022</td><td>sebring, fl</td><td>24.33105990783412</td></tr><tr><td>2023</td><td>miami-ft. laud-wpb</td><td>32.01456790123457</td></tr><tr><td>2023</td><td>naples-immokalee-marco island</td><td>32.006250000000016</td></tr><tr><td>2023</td><td>palm bay-melbourne-titusville</td><td>31.683385518590978</td></tr><tr><td>2023</td><td>florida - statewide</td><td>31.42161800486621</td></tr><tr><td>2023</td><td>tampa-st. petersburg-clearwater</td><td>31.242239884393108</td></tr><tr><td>2023</td><td>cape coral-fort myers</td><td>31.03142034548945</td></tr><tr><td>2023</td><td>crestview-fort walton beach-de</td><td>30.908070588235283</td></tr><tr><td>2023</td><td>jacksonville</td><td>30.84290769230772</td></tr><tr><td>2023</td><td>north port-sarasota-bradenton</td><td>30.695952380952363</td></tr><tr><td>2023</td><td>the villages, fl</td><td>30.40138211382114</td></tr><tr><td>2023</td><td>orlando-kissimmee-sanford</td><td>30.398093093093127</td></tr><tr><td>2023</td><td>port st. lucie, fl</td><td>29.744545454545452</td></tr><tr><td>2023</td><td>pensacola-ferry pass-brent</td><td>29.643333333333306</td></tr><tr><td>2023</td><td>gainesville</td><td>29.38658314350796</td></tr><tr><td>2023</td><td>lakeland-winter haven</td><td>29.3630827067669</td></tr><tr><td>2023</td><td>south florida balance of state</td><td>29.293516209476273</td></tr><tr><td>2023</td><td>punta gorda, fl</td><td>29.129735973597363</td></tr><tr><td>2023</td><td>sebastian-vero beach, fl</td><td>29.011196319018403</td></tr><tr><td>2023</td><td>panama city</td><td>28.790051679586565</td></tr><tr><td>2023</td><td>deltona-daytona beach-ormond b</td><td>28.135117187499997</td></tr><tr><td>2023</td><td>tallahassee, fl</td><td>27.865805739514336</td></tr><tr><td>2023</td><td>north florida balance of state</td><td>27.85846335697399</td></tr><tr><td>2023</td><td>homosassa springs</td><td>27.534687499999997</td></tr><tr><td>2023</td><td>ocala, fl</td><td>27.47074074074075</td></tr><tr><td>2023</td><td>sebring, fl</td><td>26.73317796610169</td></tr><tr><td>2024</td><td>naples-marco island</td><td>33.73708333333337</td></tr><tr><td>2024</td><td>miami-ft. laud-wpb</td><td>33.21099050203525</td></tr><tr><td>2024</td><td>tampa-st. petersburg-clearwater</td><td>32.783539568345354</td></tr><tr><td>2024</td><td>palm bay-melbourne-titusville</td><td>32.7144359464627</td></tr><tr><td>2024</td><td>florida - statewide</td><td>32.48144430844554</td></tr><tr><td>2024</td><td>crestview-fort walton beach-de</td><td>32.15914081145584</td></tr><tr><td>2024</td><td>cape coral-fort myers</td><td>32.06007858546168</td></tr><tr><td>2024</td><td>jacksonville</td><td>32.015685358255496</td></tr><tr><td>2024</td><td>wildwood-the villages</td><td>31.655976562499994</td></tr><tr><td>2024</td><td>north port-bradenton-sarasota</td><td>31.427463768115945</td></tr><tr><td>2024</td><td>orlando-kissimmee-sanford</td><td>31.3462125748503</td></tr><tr><td>2024</td><td>port st. lucie</td><td>31.222510729613767</td></tr><tr><td>2024</td><td>south florida balance of state</td><td>30.980203562340982</td></tr><tr><td>2024</td><td>punta gorda</td><td>30.737973421926885</td></tr><tr><td>2024</td><td>pensacola-ferry pass-brent</td><td>30.664547368421076</td></tr><tr><td>2024</td><td>lakeland-winter haven</td><td>30.521566731141213</td></tr><tr><td>2024</td><td>sebastian-vero beach</td><td>30.514110429447854</td></tr><tr><td>2024</td><td>gainesville</td><td>30.289372197309405</td></tr><tr><td>2024</td><td>deltona-daytona beach-ormond b</td><td>30.05528375733857</td></tr><tr><td>2024</td><td>tallahassee</td><td>29.974944812362043</td></tr><tr><td>2024</td><td>panama city-panama city beach</td><td>29.95577608142491</td></tr><tr><td>2024</td><td>ocala</td><td>29.59471464019851</td></tr><tr><td>2024</td><td>north florida balance of state</td><td>28.954441747572822</td></tr><tr><td>2024</td><td>homosassa springs</td><td>28.80152892561983</td></tr><tr><td>2024</td><td>sebring</td><td>27.31632034632035</td></tr></tbody></table></div>"
      ]
     },
     "metadata": {
      "application/vnd.databricks.v1+output": {
       "addedWidgets": {},
       "aggData": [],
       "aggError": "",
       "aggOverflow": false,
       "aggSchema": [],
       "aggSeriesLimitReached": false,
       "aggType": "",
       "arguments": {},
       "columnCustomDisplayInfos": {},
       "data": [
        [
         2015,
         "west palm beach-boca raton-boyn",
         26.43558558558559
        ],
        [
         2015,
         "miami-miami bch-kendall",
         26.051465798045584
        ],
        [
         2015,
         "fl-statewide",
         25.42865652724971
        ],
        [
         2015,
         "jacksonville",
         25.255350000000007
        ],
        [
         2015,
         "tampa-st. petersburg-clearwater",
         25.184831288343556
        ],
        [
         2015,
         "orlando-kissimmee",
         25.008998384491107
        ],
        [
         2015,
         "palm bay-melbourne-titusville",
         24.9653813559322
        ],
        [
         2015,
         "ft lauderdale-pompano-deerfield",
         24.95623063683304
        ],
        [
         2015,
         "naples-marco island",
         24.867394736842126
        ],
        [
         2015,
         "gainesville",
         24.549040767386074
        ],
        [
         2015,
         "cape coral-ft. myers",
         24.30066239316239
        ],
        [
         2015,
         "tallahassee",
         24.12019955654101
        ],
        [
         2015,
         "north port-bradenton-sarasota",
         23.718910891089127
        ],
        [
         2015,
         "sebastian-vero beach",
         23.60134020618558
        ],
        [
         2015,
         "lakeland",
         23.599721627409
        ],
        [
         2015,
         "punta gorda",
         23.38476744186045
        ],
        [
         2015,
         "port st. lucie-ft. pierce",
         23.374158653846166
        ],
        [
         2015,
         "south florida bos",
         23.37048571428571
        ],
        [
         2015,
         "pensacola-ferry pass-brent",
         23.332810457516338
        ],
        [
         2015,
         "crestview-ft. walton bch-destin",
         23.321736842105263
        ],
        [
         2015,
         "ocala",
         22.874750656167972
        ],
        [
         2015,
         "deltona-daytona-ormond",
         22.79448888888887
        ],
        [
         2015,
         "panama city-lynn haven",
         22.339145299145304
        ],
        [
         2015,
         "northeast fl bos",
         21.403083573487027
        ],
        [
         2015,
         "northwest fl bos",
         20.693826086956527
        ],
        [
         2016,
         "west palm beach-boca raton-boyn",
         25.79654510556621
        ],
        [
         2016,
         "palm bay-melbourne-titusville",
         25.35307517084283
        ],
        [
         2016,
         "naples-marco island",
         25.295663956639583
        ],
        [
         2016,
         "miami-miami beach-kendall",
         25.056261022927714
        ],
        [
         2016,
         "tampa-st petersburg-clearwater",
         24.789747899159654
        ],
        [
         2016,
         "jacksonville",
         24.78537477148079
        ],
        [
         2016,
         "gainesville",
         24.775126903553275
        ],
        [
         2016,
         "ft. lauderdale-pompano beach-de",
         24.747504621072032
        ],
        [
         2016,
         "fl-statewide",
         24.73509015256586
        ],
        [
         2016,
         "orlando-kissimmee-sanford",
         24.368411867364756
        ],
        [
         2016,
         "crestview-ft. walton beach-dest",
         23.669209809264295
        ],
        [
         2016,
         "cape coral-ft. myers",
         23.66711711711711
        ],
        [
         2016,
         "port st lucie-fort pierce",
         23.640051020408187
        ],
        [
         2016,
         "north port-bradenton-sarasota",
         23.623044397462994
        ],
        [
         2016,
         "the villages",
         23.390058479532172
        ],
        [
         2016,
         "lakeland",
         23.301363636363632
        ],
        [
         2016,
         "punta gorda",
         23.173553719008265
        ],
        [
         2016,
         "tallahassee",
         23.02028639618141
        ],
        [
         2016,
         "pensacola-ferry pass-brent",
         22.860655737704906
        ],
        [
         2016,
         "deltona-daytona beach-ormond b",
         22.841647058823515
        ],
        [
         2016,
         "sebastian-vero beach",
         22.702888086642602
        ],
        [
         2016,
         "panama city-lynn haven-pc beach",
         22.505507246376794
        ],
        [
         2016,
         "ocala",
         22.23646723646726
        ],
        [
         2016,
         "homosassa springs",
         21.490306122448978
        ],
        [
         2016,
         "sebring",
         20.806145251396647
        ],
        [
         2017,
         "west palm beach-boca raton-boyn",
         26.020352250489232
        ],
        [
         2017,
         "palm bay-melbourne-titusville",
         25.70382882882884
        ],
        [
         2017,
         "naples-marco island",
         25.665439093484437
        ],
        [
         2017,
         "fl-statewide",
         25.05327754532775
        ],
        [
         2017,
         "ft. lauderdale-pompano beach-de",
         24.960037174721176
        ],
        [
         2017,
         "miami-miami beach-kendall",
         24.92170818505337
        ],
        [
         2017,
         "tampa-st petersburg-clearwater",
         24.915318416523224
        ],
        [
         2017,
         "jacksonville",
         24.893506493506493
        ],
        [
         2017,
         "orlando-kissimmee-sanford",
         24.78045774647886
        ],
        [
         2017,
         "port st lucie-fort pierce",
         24.51237113402061
        ],
        [
         2017,
         "gainesville",
         24.26884422110551
        ],
        [
         2017,
         "sebastian-vero beach",
         23.94755244755245
        ],
        [
         2017,
         "cape coral-ft. myers",
         23.842201834862394
        ],
        [
         2017,
         "crestview-ft. walton beach-dest",
         23.842148760330595
        ],
        [
         2017,
         "the villages",
         23.79358288770055
        ],
        [
         2017,
         "north port-bradenton-sarasota",
         23.49152173913044
        ],
        [
         2017,
         "panama city-lynn haven-pc beach",
         23.44131736526946
        ],
        [
         2017,
         "punta gorda",
         23.225957446808508
        ],
        [
         2017,
         "tallahassee",
         23.100990099009866
        ],
        [
         2017,
         "pensacola-ferry pass-brent",
         22.931325301204815
        ],
        [
         2017,
         "lakeland",
         22.716190476190487
        ],
        [
         2017,
         "deltona-daytona beach-ormond b",
         22.481999999999992
        ],
        [
         2017,
         "ocala",
         22.462745098039214
        ],
        [
         2017,
         "homosassa springs",
         22.454716981132087
        ],
        [
         2017,
         "sebring",
         20.38608247422679
        ],
        [
         2018,
         "west palm beach-boca raton-boyn",
         26.423551401869176
        ],
        [
         2018,
         "miami-miami beach-kendall",
         26.167301038062273
        ],
        [
         2018,
         "palm bay-melbourne-titusville",
         25.79139072847682
        ],
        [
         2018,
         "ft. lauderdale-pompano beach-de",
         25.688929219600737
        ],
        [
         2018,
         "naples-marco island",
         25.612957746478862
        ],
        [
         2018,
         "orlando-kissimmee-sanford",
         25.401933216168743
        ],
        [
         2018,
         "fl-statewide",
         25.287290502793308
        ],
        [
         2018,
         "jacksonville",
         25.252564102564094
        ],
        [
         2018,
         "tampa-st petersburg-clearwater",
         25.036797274275965
        ],
        [
         2018,
         "cape coral-ft. myers",
         24.78235294117649
        ],
        [
         2018,
         "port st lucie-fort pierce",
         24.613659793814424
        ],
        [
         2018,
         "crestview-ft. walton beach-dest",
         24.54904632152587
        ],
        [
         2018,
         "the villages",
         24.51977401129943
        ],
        [
         2018,
         "gainesville",
         24.03427835051546
        ],
        [
         2018,
         "lakeland",
         24.02321839080459
        ],
        [
         2018,
         "north port-bradenton-sarasota",
         23.934120171673825
        ],
        [
         2018,
         "panama city-lynn haven-pc beach",
         23.78709677419356
        ],
        [
         2018,
         "pensacola-ferry pass-brent",
         23.771670702179193
        ],
        [
         2018,
         "sebastian-vero beach",
         23.737358490566038
        ],
        [
         2018,
         "tallahassee",
         23.243589743589745
        ],
        [
         2018,
         "punta gorda",
         22.890128755364806
        ],
        [
         2018,
         "homosassa springs",
         22.38010204081632
        ],
        [
         2018,
         "deltona-daytona beach-ormond b",
         22.301474201474182
        ],
        [
         2018,
         "ocala",
         22.23565217391304
        ],
        [
         2018,
         "sebring",
         20.37704918032787
        ],
        [
         2019,
         "west palm beach-boca raton",
         27.516346153846165
        ],
        [
         2019,
         "miami-miami beach-kendall, fl",
         26.558734567901254
        ],
        [
         2019,
         "ft. lauderdale-pompano beach-de",
         26.494268907563036
        ],
        [
         2019,
         "naples-immokalee-marco island",
         26.315566502463053
        ],
        [
         2019,
         "miami-fort lauderdale-west palm",
         26.29281163434907
        ],
        [
         2019,
         "north port-sarasota-bradenton",
         26.290743639921732
        ],
        [
         2019,
         "tampa-st. petersburg-clearwater",
         26.20517503805177
        ],
        [
         2019,
         "florida - statewide",
         26.200303797468337
        ],
        [
         2019,
         "palm bay-melbourne-titusville",
         26.02203354297696
        ],
        [
         2019,
         "orlando-kissimmee-sanford",
         26.01919504643964
        ],
        [
         2019,
         "jacksonville",
         25.75664948453612
        ],
        [
         2019,
         "port st. lucie, fl",
         25.392686915887897
        ],
        [
         2019,
         "cape coral-fort myers",
         25.390124740124723
        ],
        [
         2019,
         "crestview-fort walton beach-de",
         25.238045112781954
        ],
        [
         2019,
         "panama city",
         25.022572254335252
        ],
        [
         2019,
         "the villages, fl",
         24.91099056603773
        ],
        [
         2019,
         "pensacola-ferry pass-brent",
         24.857114093959733
        ],
        [
         2019,
         "lakeland-winter haven",
         24.743312368972756
        ],
        [
         2019,
         "gainesville",
         24.524320987654338
        ],
        [
         2019,
         "sebastian-vero beach, fl",
         24.415784313725474
        ],
        [
         2019,
         "south florida bos",
         24.387828571428564
        ],
        [
         2019,
         "homosassa springs",
         23.944374999999997
        ],
        [
         2019,
         "tallahassee, fl",
         23.93484918793504
        ],
        [
         2019,
         "punta gorda, fl",
         23.603560606060604
        ],
        [
         2019,
         "ocala, fl",
         23.308179347826087
        ],
        [
         2019,
         "deltona-daytona beach-ormond b",
         23.049265033407554
        ],
        [
         2019,
         "northwest florida bos",
         22.36020408163265
        ],
        [
         2019,
         "northeast florida bos",
         21.709463806970497
        ],
        [
         2019,
         "north florida bos",
         21.273422330097095
        ],
        [
         2019,
         "sebring, fl",
         21.202920792079208
        ],
        [
         2020,
         "miami-fort lauderdale-west palm",
         27.401926863572417
        ],
        [
         2020,
         "tampa-st. petersburg-clearwater",
         27.20723502304148
        ],
        [
         2020,
         "crestview-fort walton beach-de",
         27.034481865284974
        ],
        [
         2020,
         "florida - statewide",
         26.98870113493065
        ],
        [
         2020,
         "jacksonville",
         26.965962521294678
        ],
        [
         2020,
         "palm bay-melbourne-titusville",
         26.789728033472777
        ],
        [
         2020,
         "naples-immokalee-marco island",
         26.78571428571425
        ],
        [
         2020,
         "cape coral-fort myers",
         26.640101626016236
        ],
        [
         2020,
         "pensacola-ferry pass-brent",
         26.512665148063764
        ],
        [
         2020,
         "orlando-kissimmee-sanford",
         26.491317829457362
        ],
        [
         2020,
         "the villages, fl",
         26.471095890410947
        ],
        [
         2020,
         "north port-sarasota-bradenton",
         26.265479999999997
        ],
        [
         2020,
         "port st. lucie, fl",
         25.92596618357486
        ],
        [
         2020,
         "lakeland-winter haven",
         25.83948827292112
        ],
        [
         2020,
         "panama city",
         25.82163742690057
        ],
        [
         2020,
         "tallahassee, fl",
         25.306872146118728
        ],
        [
         2020,
         "sebastian-vero beach, fl",
         25.1257627118644
        ],
        [
         2020,
         "gainesville",
         25.057386091127068
        ],
        [
         2020,
         "south florida non-metropolitan",
         24.635433526011553
        ],
        [
         2020,
         "punta gorda, fl",
         24.52827999999999
        ],
        [
         2020,
         "deltona-daytona beach-ormond b",
         24.42927927927926
        ],
        [
         2020,
         "ocala, fl",
         24.03602209944749
        ],
        [
         2020,
         "homosassa springs",
         23.576375545851516
        ],
        [
         2020,
         "north florida non-metropolitan",
         22.532499999999978
        ],
        [
         2020,
         "sebring, fl",
         21.329211822660103
        ],
        [
         2021,
         "crestview-fort walton beach-de",
         29.187943262411387
        ],
        [
         2021,
         "naples-immokalee-marco island",
         29.032328767123264
        ],
        [
         2021,
         "jacksonville",
         28.961423999999987
        ],
        [
         2021,
         "palm bay-melbourne-titusville",
         28.9442940038685
        ],
        [
         2021,
         "miami-fort lauderdale-west palm",
         28.89290055248621
        ],
        [
         2021,
         "tampa-st. petersburg-clearwater",
         28.883417533432414
        ],
        [
         2021,
         "florida - statewide",
         28.436887816646575
        ],
        [
         2021,
         "north port-sarasota-bradenton",
         28.26024952015351
        ],
        [
         2021,
         "cape coral-fort myers",
         28.25141732283466
        ],
        [
         2021,
         "orlando-kissimmee-sanford",
         28.13152108433733
        ],
        [
         2021,
         "pensacola-ferry pass-brent",
         28.004406779660986
        ],
        [
         2021,
         "lakeland-winter haven",
         27.860096153846147
        ],
        [
         2021,
         "the villages, fl",
         27.142301255230127
        ],
        [
         2021,
         "port st. lucie, fl",
         27.00188340807173
        ],
        [
         2021,
         "panama city",
         26.95145945945947
        ],
        [
         2021,
         "gainesville",
         26.70712616822431
        ],
        [
         2021,
         "tallahassee, fl",
         26.621279317697184
        ],
        [
         2021,
         "sebastian-vero beach, fl",
         26.44636645962734
        ],
        [
         2021,
         "ocala, fl",
         26.010122850122844
        ],
        [
         2021,
         "south florida non-metropolitan",
         25.888626943005153
        ],
        [
         2021,
         "punta gorda, fl",
         25.688374558303888
        ],
        [
         2021,
         "north florida non-metropolitan",
         25.12461716937354
        ],
        [
         2021,
         "deltona-daytona beach-ormond b",
         25.036804123711306
        ],
        [
         2021,
         "homosassa springs",
         23.31876033057851
        ],
        [
         2021,
         "sebring, fl",
         22.587702702702707
        ],
        [
         2022,
         "miami-ft. laud-wpb",
         30.44254098360661
        ],
        [
         2022,
         "naples-immokalee-marco island",
         30.15117370892017
        ],
        [
         2022,
         "tampa-st. petersburg-clearwater",
         29.95831884057971
        ],
        [
         2022,
         "palm bay-melbourne-titusville",
         29.779371316306484
        ],
        [
         2022,
         "jacksonville",
         29.46154929577466
        ],
        [
         2022,
         "cape coral-fort myers",
         29.433531746031747
        ],
        [
         2022,
         "florida - statewide",
         29.424816625916897
        ],
        [
         2022,
         "orlando-kissimmee-sanford",
         29.23954344624451
        ],
        [
         2022,
         "crestview-fort walton beach-de",
         29.00582547169812
        ],
        [
         2022,
         "lakeland-winter haven",
         28.84832391713747
        ],
        [
         2022,
         "north port-sarasota-bradenton",
         28.75848314606742
        ],
        [
         2022,
         "port st. lucie, fl",
         28.46277899343544
        ],
        [
         2022,
         "the villages, fl",
         28.090860655737707
        ],
        [
         2022,
         "pensacola-ferry pass-brent",
         27.80374468085104
        ],
        [
         2022,
         "punta gorda, fl",
         27.789379310344835
        ],
        [
         2022,
         "gainesville",
         27.621631701631703
        ],
        [
         2022,
         "south florida balance of state",
         27.535329815303434
        ],
        [
         2022,
         "tallahassee, fl",
         27.522000000000006
        ],
        [
         2022,
         "sebastian-vero beach, fl",
         27.317672955974846
        ],
        [
         2022,
         "panama city",
         27.271822916666682
        ],
        [
         2022,
         "ocala, fl",
         26.90813602015113
        ],
        [
         2022,
         "deltona-daytona beach-ormond b",
         26.417151162790695
        ],
        [
         2022,
         "north florida balance of state",
         26.12085918854413
        ],
        [
         2022,
         "homosassa springs",
         25.711526104417675
        ],
        [
         2022,
         "sebring, fl",
         24.33105990783412
        ],
        [
         2023,
         "miami-ft. laud-wpb",
         32.01456790123457
        ],
        [
         2023,
         "naples-immokalee-marco island",
         32.006250000000016
        ],
        [
         2023,
         "palm bay-melbourne-titusville",
         31.683385518590978
        ],
        [
         2023,
         "florida - statewide",
         31.42161800486621
        ],
        [
         2023,
         "tampa-st. petersburg-clearwater",
         31.242239884393108
        ],
        [
         2023,
         "cape coral-fort myers",
         31.03142034548945
        ],
        [
         2023,
         "crestview-fort walton beach-de",
         30.908070588235283
        ],
        [
         2023,
         "jacksonville",
         30.84290769230772
        ],
        [
         2023,
         "north port-sarasota-bradenton",
         30.695952380952363
        ],
        [
         2023,
         "the villages, fl",
         30.40138211382114
        ],
        [
         2023,
         "orlando-kissimmee-sanford",
         30.398093093093127
        ],
        [
         2023,
         "port st. lucie, fl",
         29.744545454545452
        ],
        [
         2023,
         "pensacola-ferry pass-brent",
         29.643333333333306
        ],
        [
         2023,
         "gainesville",
         29.38658314350796
        ],
        [
         2023,
         "lakeland-winter haven",
         29.3630827067669
        ],
        [
         2023,
         "south florida balance of state",
         29.293516209476273
        ],
        [
         2023,
         "punta gorda, fl",
         29.129735973597363
        ],
        [
         2023,
         "sebastian-vero beach, fl",
         29.011196319018403
        ],
        [
         2023,
         "panama city",
         28.790051679586565
        ],
        [
         2023,
         "deltona-daytona beach-ormond b",
         28.135117187499997
        ],
        [
         2023,
         "tallahassee, fl",
         27.865805739514336
        ],
        [
         2023,
         "north florida balance of state",
         27.85846335697399
        ],
        [
         2023,
         "homosassa springs",
         27.534687499999997
        ],
        [
         2023,
         "ocala, fl",
         27.47074074074075
        ],
        [
         2023,
         "sebring, fl",
         26.73317796610169
        ],
        [
         2024,
         "naples-marco island",
         33.73708333333337
        ],
        [
         2024,
         "miami-ft. laud-wpb",
         33.21099050203525
        ],
        [
         2024,
         "tampa-st. petersburg-clearwater",
         32.783539568345354
        ],
        [
         2024,
         "palm bay-melbourne-titusville",
         32.7144359464627
        ],
        [
         2024,
         "florida - statewide",
         32.48144430844554
        ],
        [
         2024,
         "crestview-fort walton beach-de",
         32.15914081145584
        ],
        [
         2024,
         "cape coral-fort myers",
         32.06007858546168
        ],
        [
         2024,
         "jacksonville",
         32.015685358255496
        ],
        [
         2024,
         "wildwood-the villages",
         31.655976562499994
        ],
        [
         2024,
         "north port-bradenton-sarasota",
         31.427463768115945
        ],
        [
         2024,
         "orlando-kissimmee-sanford",
         31.3462125748503
        ],
        [
         2024,
         "port st. lucie",
         31.222510729613767
        ],
        [
         2024,
         "south florida balance of state",
         30.980203562340982
        ],
        [
         2024,
         "punta gorda",
         30.737973421926885
        ],
        [
         2024,
         "pensacola-ferry pass-brent",
         30.664547368421076
        ],
        [
         2024,
         "lakeland-winter haven",
         30.521566731141213
        ],
        [
         2024,
         "sebastian-vero beach",
         30.514110429447854
        ],
        [
         2024,
         "gainesville",
         30.289372197309405
        ],
        [
         2024,
         "deltona-daytona beach-ormond b",
         30.05528375733857
        ],
        [
         2024,
         "tallahassee",
         29.974944812362043
        ],
        [
         2024,
         "panama city-panama city beach",
         29.95577608142491
        ],
        [
         2024,
         "ocala",
         29.59471464019851
        ],
        [
         2024,
         "north florida balance of state",
         28.954441747572822
        ],
        [
         2024,
         "homosassa springs",
         28.80152892561983
        ],
        [
         2024,
         "sebring",
         27.31632034632035
        ]
       ],
       "datasetInfos": [],
       "dbfsResultPath": null,
       "isJsonSchema": true,
       "metadata": {},
       "overflow": false,
       "plotOptions": {
        "customPlotOptions": {},
        "displayType": "table",
        "pivotAggregation": null,
        "pivotColumns": null,
        "xColumns": null,
        "yColumns": null
       },
       "removedWidgets": [],
       "schema": [
        {
         "metadata": "{}",
         "name": "Year",
         "type": "\"integer\""
        },
        {
         "metadata": "{}",
         "name": "City",
         "type": "\"string\""
        },
        {
         "metadata": "{}",
         "name": "AvgWage",
         "type": "\"double\""
        }
       ],
       "type": "table"
      }
     },
     "output_type": "display_data"
    },
    {
     "output_type": "display_data",
     "data": {
      "text/plain": [
       "Databricks visualization. Run in Databricks to view."
      ]
     },
     "metadata": {
      "application/vnd.databricks.v1.subcommand+json": {
       "baseErrorDetails": null,
       "bindings": {},
       "collapsed": false,
       "command": "%python\n__backend_agg_display_orig = display\n__backend_agg_dfs = []\ndef __backend_agg_display_new(df):\n    __backend_agg_df_modules = [\"pandas.core.frame\", \"databricks.koalas.frame\", \"pyspark.sql.dataframe\", \"pyspark.pandas.frame\", \"pyspark.sql.connect.dataframe\"]\n    if (type(df).__module__ in __backend_agg_df_modules and type(df).__name__ == 'DataFrame') or isinstance(df, list):\n        __backend_agg_dfs.append(df)\n\ndisplay = __backend_agg_display_new\n\ndef __backend_agg_user_code_fn():\n    import base64\n    exec(base64.standard_b64decode(\"Y2l0eV93YWdlX3RyZW5kcyA9IHNwYXJrLnNxbCgiIiIKICAgIFNFTEVDVCBZZWFyLCBDaXR5LCBBVkcoTWVhbl9Ib3VybHlfV2FnZSkgQVMgQXZnV2FnZQogICAgRlJPTSBmbG9yaWRhX2xhYm9yX2RhdGEKICAgIEdST1VQIEJZIFllYXIsIENpdHkKICAgIE9SREVSIEJZIFllYXIsIEF2Z1dhZ2UgREVTQwoiIiIpCmRpc3BsYXkoY2l0eV93YWdlX3RyZW5kcykKCiMgQ29udmVydCBTcGFyayBEYXRhRnJhbWUgdG8gUGFuZGFzCmNpdHlfd2FnZV90cmVuZHNfcGQgPSBjaXR5X3dhZ2VfdHJlbmRzLnRvUGFuZGFzKCkKCiMgKE9wdGlvbmFsKSBzdGFuZGFyZGl6ZSBjaXR5IG5hbWVzIChyZW1vdmUgd2hpdGVzcGFjZS9jYXNlKQpjaXR5X3dhZ2VfdHJlbmRzX3BkWydDaXR5J10gPSBjaXR5X3dhZ2VfdHJlbmRzX3BkWydDaXR5J10uc3RyLnN0cmlwKCkuc3RyLmxvd2VyKCkKCiMgSWRlbnRpZnkgdG9wIE4gY2l0aWVzIChlLmcuLCBieSBvdmVyYWxsIGF2ZXJhZ2Ugd2FnZSkKdG9wX2NpdGllcyA9IGNpdHlfd2FnZV90cmVuZHNfcGQuZ3JvdXBieSgnQ2l0eScpWydBdmdXYWdlJ10ubWVhbigpLm5sYXJnZXN0KDgpLmluZGV4LnRvbGlzdCgpCgojIEZpbHRlciBmb3Igb25seSB0b3AgY2l0aWVzCmZpbHRlcmVkX3BkID0gY2l0eV93YWdlX3RyZW5kc19wZFtjaXR5X3dhZ2VfdHJlbmRzX3BkWydDaXR5J10uaXNpbih0b3BfY2l0aWVzKV0KCiMgUGxvdApwbHQuZmlndXJlKGZpZ3NpemU9KDE0LCA4KSkKCmZvciBjaXR5IGluIGZpbHRlcmVkX3BkWydDaXR5J10udW5pcXVlKCk6CiAgICBjaXR5X2RhdGEgPSBmaWx0ZXJlZF9wZFtmaWx0ZXJlZF9wZFsnQ2l0eSddID09IGNpdHldCiAgICBwbHQucGxvdChjaXR5X2RhdGFbJ1llYXInXSwgY2l0eV9kYXRhWydBdmdXYWdlJ10sIG1hcmtlcj0nbycsIGxhYmVsPWNpdHkudGl0bGUoKSkKCnBsdC54bGFiZWwoJ1llYXInKQpwbHQueWxhYmVsKCdBdmVyYWdlIEhvdXJseSBXYWdlJykKcGx0LnRpdGxlKCdBdmVyYWdlIEhvdXJseSBXYWdlIFRyZW5kcyBieSBUb3AgOCBDaXRpZXMnKQpwbHQubGVnZW5kKHRpdGxlPSdDaXR5JykKcGx0LmdyaWQoVHJ1ZSkKcGx0LnRpZ2h0X2xheW91dCgpCnBsdC5zaG93KCkK\").decode())\n\ntry:\n    # run user code\n    __backend_agg_user_code_fn()\n\n    #reset display function\n    display = __backend_agg_display_orig\n\n    if len(__backend_agg_dfs) > 0:\n        # create a temp view\n        if type(__backend_agg_dfs[0]).__module__ == \"databricks.koalas.frame\":\n            # koalas dataframe\n            __backend_agg_dfs[0].to_spark().createOrReplaceTempView(\"DatabricksView3de7128\")\n        elif type(__backend_agg_dfs[0]).__module__ == \"pandas.core.frame\" or isinstance(__backend_agg_dfs[0], list):\n            # pandas dataframe\n            spark.createDataFrame(__backend_agg_dfs[0]).createOrReplaceTempView(\"DatabricksView3de7128\")\n        else:\n            __backend_agg_dfs[0].createOrReplaceTempView(\"DatabricksView3de7128\")\n        #run backend agg\n        display(spark.sql(\"\"\"WITH q AS (select * from DatabricksView3de7128) SELECT `Year`,SUM(`AvgWage`) `column_7806dfaf264` FROM q GROUP BY `Year`\"\"\"))\n    else:\n        displayHTML(\"dataframe no longer exists. If you're using dataframe.display(), use display(dataframe) instead.\")\n\n\nfinally:\n    spark.sql(\"drop view if exists DatabricksView3de7128\")\n    display = __backend_agg_display_orig\n    del __backend_agg_display_new\n    del __backend_agg_display_orig\n    del __backend_agg_dfs\n    del __backend_agg_user_code_fn\n\n",
       "commandTitle": "Average Hourly Wage Trends (2015–2024)",
       "commandType": "auto",
       "commandVersion": 0,
       "commentThread": [],
       "commentsVisible": false,
       "contentSha256Hex": null,
       "customPlotOptions": {
        "redashChart": [
         {
          "key": "type",
          "value": "CHART"
         },
         {
          "key": "options",
          "value": {
           "alignYAxesAtZero": true,
           "coefficient": 1,
           "columnConfigurationMap": {
            "x": {
             "column": "Year",
             "id": "column_7806dfaf262"
            },
            "y": [
             {
              "column": "AvgWage",
              "id": "column_7806dfaf264",
              "transform": "SUM"
             }
            ]
           },
           "dateTimeFormat": "DD/MM/YYYY HH:mm",
           "direction": {
            "type": "counterclockwise"
           },
           "error_y": {
            "type": "data",
            "visible": true
           },
           "globalSeriesType": "line",
           "isAggregationOn": true,
           "legend": {
            "traceorder": "normal"
           },
           "missingValuesAsZero": true,
           "numberFormat": "0,0.[00000]",
           "percentFormat": "0[.]00%",
           "series": {
            "error_y": {
             "type": "data",
             "visible": true
            },
            "stacking": null
           },
           "seriesOptions": {
            "column_7806dfaf264": {
             "name": "Average Wage",
             "type": "line",
             "yAxis": 0
            }
           },
           "showDataLabels": false,
           "sizemode": "diameter",
           "sortX": true,
           "sortY": true,
           "swappedAxes": false,
           "textFormat": "",
           "useAggregationsUi": true,
           "valuesOptions": {},
           "version": 2,
           "xAxis": {
            "labels": {
             "enabled": true
            },
            "type": "-"
           },
           "yAxis": [
            {
             "type": "-"
            },
            {
             "opposite": true,
             "type": "-"
            }
           ]
          }
         }
        ]
       },
       "datasetPreviewNameToCmdIdMap": {},
       "diffDeletes": [],
       "diffInserts": [],
       "displayType": "redashChart",
       "error": null,
       "errorDetails": null,
       "errorSummary": null,
       "errorTraceType": null,
       "finishTime": 0,
       "globalVars": {},
       "guid": "",
       "height": "auto",
       "hideCommandCode": false,
       "hideCommandResult": false,
       "iPythonMetadata": null,
       "inputWidgets": {},
       "isLockedInExamMode": false,
       "latestUser": "a user",
       "latestUserId": null,
       "listResultMetadata": null,
       "metadata": {
        "byteLimit": 2048000,
        "rowLimit": 10000
       },
       "nuid": "2832a0d5-7f96-4ec5-8dd3-28d4f84c468f",
       "origId": 0,
       "parentHierarchy": [],
       "pivotAggregation": null,
       "pivotColumns": null,
       "position": 9.5,
       "resultDbfsErrorMessage": null,
       "resultDbfsStatus": "INLINED_IN_TREE",
       "results": null,
       "showCommandTitle": false,
       "startTime": 0,
       "state": "finished",
       "streamStates": {},
       "subcommandOptions": {
        "queryPlan": {
         "groups": [
          {
           "column": "Year",
           "type": "column"
          }
         ],
         "selects": [
          {
           "column": "Year",
           "type": "column"
          },
          {
           "alias": "column_7806dfaf264",
           "args": [
            {
             "column": "AvgWage",
             "type": "column"
            }
           ],
           "function": "SUM",
           "type": "function"
          }
         ]
        }
       },
       "submitTime": 0,
       "subtype": "tableResultSubCmd.visualization",
       "tableResultIndex": 0,
       "tableResultSettingsMap": {},
       "useConsistentColors": false,
       "version": "CommandV1",
       "width": "auto",
       "workflows": [],
       "xColumns": null,
       "yColumns": null
      }
     },
     "output_type": "display_data"
    },
    {
     "output_type": "display_data",
     "data": {
      "text/plain": [
       "Databricks visualization. Run in Databricks to view."
      ]
     },
     "metadata": {
      "application/vnd.databricks.v1.subcommand+json": {
       "baseErrorDetails": null,
       "bindings": {},
       "collapsed": false,
       "command": "%python\n__backend_agg_display_orig = display\n__backend_agg_dfs = []\ndef __backend_agg_display_new(df):\n    __backend_agg_df_modules = [\"pandas.core.frame\", \"databricks.koalas.frame\", \"pyspark.sql.dataframe\", \"pyspark.pandas.frame\", \"pyspark.sql.connect.dataframe\"]\n    if (type(df).__module__ in __backend_agg_df_modules and type(df).__name__ == 'DataFrame') or isinstance(df, list):\n        __backend_agg_dfs.append(df)\n\ndisplay = __backend_agg_display_new\n\ndef __backend_agg_user_code_fn():\n    import base64\n    exec(base64.standard_b64decode(\"Y2l0eV93YWdlX3RyZW5kcyA9IHNwYXJrLnNxbCgiIiIKICAgIFNFTEVDVCBZZWFyLCBDaXR5LCBBVkcoTWVhbl9Ib3VybHlfV2FnZSkgQVMgQXZnV2FnZQogICAgRlJPTSBmbG9yaWRhX2xhYm9yX2RhdGEKICAgIEdST1VQIEJZIFllYXIsIENpdHkKICAgIE9SREVSIEJZIFllYXIsIEF2Z1dhZ2UgREVTQwoiIiIpCmRpc3BsYXkoY2l0eV93YWdlX3RyZW5kcykKCiMgQ29udmVydCBTcGFyayBEYXRhRnJhbWUgdG8gUGFuZGFzCmNpdHlfd2FnZV90cmVuZHNfcGQgPSBjaXR5X3dhZ2VfdHJlbmRzLnRvUGFuZGFzKCkKCiMgKE9wdGlvbmFsKSBzdGFuZGFyZGl6ZSBjaXR5IG5hbWVzIChyZW1vdmUgd2hpdGVzcGFjZS9jYXNlKQpjaXR5X3dhZ2VfdHJlbmRzX3BkWydDaXR5J10gPSBjaXR5X3dhZ2VfdHJlbmRzX3BkWydDaXR5J10uc3RyLnN0cmlwKCkuc3RyLmxvd2VyKCkKCiMgSWRlbnRpZnkgdG9wIE4gY2l0aWVzIChlLmcuLCBieSBvdmVyYWxsIGF2ZXJhZ2Ugd2FnZSkKdG9wX2NpdGllcyA9IGNpdHlfd2FnZV90cmVuZHNfcGQuZ3JvdXBieSgnQ2l0eScpWydBdmdXYWdlJ10ubWVhbigpLm5sYXJnZXN0KDgpLmluZGV4LnRvbGlzdCgpCgojIEZpbHRlciBmb3Igb25seSB0b3AgY2l0aWVzCmZpbHRlcmVkX3BkID0gY2l0eV93YWdlX3RyZW5kc19wZFtjaXR5X3dhZ2VfdHJlbmRzX3BkWydDaXR5J10uaXNpbih0b3BfY2l0aWVzKV0KCiMgUGxvdApwbHQuZmlndXJlKGZpZ3NpemU9KDE0LCA4KSkKCmZvciBjaXR5IGluIGZpbHRlcmVkX3BkWydDaXR5J10udW5pcXVlKCk6CiAgICBjaXR5X2RhdGEgPSBmaWx0ZXJlZF9wZFtmaWx0ZXJlZF9wZFsnQ2l0eSddID09IGNpdHldCiAgICBwbHQucGxvdChjaXR5X2RhdGFbJ1llYXInXSwgY2l0eV9kYXRhWydBdmdXYWdlJ10sIG1hcmtlcj0nbycsIGxhYmVsPWNpdHkudGl0bGUoKSkKCnBsdC54bGFiZWwoJ1llYXInKQpwbHQueWxhYmVsKCdBdmVyYWdlIEhvdXJseSBXYWdlJykKcGx0LnRpdGxlKCdBdmVyYWdlIEhvdXJseSBXYWdlIFRyZW5kcyBieSBUb3AgOCBDaXRpZXMnKQpwbHQubGVnZW5kKHRpdGxlPSdDaXR5JykKcGx0LmdyaWQoVHJ1ZSkKcGx0LnRpZ2h0X2xheW91dCgpCnBsdC5zaG93KCkK\").decode())\n\ntry:\n    # run user code\n    __backend_agg_user_code_fn()\n\n    #reset display function\n    display = __backend_agg_display_orig\n\n    if len(__backend_agg_dfs) > 0:\n        # create a temp view\n        if type(__backend_agg_dfs[0]).__module__ == \"databricks.koalas.frame\":\n            # koalas dataframe\n            __backend_agg_dfs[0].to_spark().createOrReplaceTempView(\"DatabricksView5c6cbec\")\n        elif type(__backend_agg_dfs[0]).__module__ == \"pandas.core.frame\" or isinstance(__backend_agg_dfs[0], list):\n            # pandas dataframe\n            spark.createDataFrame(__backend_agg_dfs[0]).createOrReplaceTempView(\"DatabricksView5c6cbec\")\n        else:\n            __backend_agg_dfs[0].createOrReplaceTempView(\"DatabricksView5c6cbec\")\n        #run backend agg\n        display(spark.sql(\"\"\"WITH q AS (select * from DatabricksView5c6cbec) SELECT `Year`,SUM(`AvgWage`) `column_7806dfaf269`,`City` FROM q GROUP BY `City`,`Year`\"\"\"))\n    else:\n        displayHTML(\"dataframe no longer exists. If you're using dataframe.display(), use display(dataframe) instead.\")\n\n\nfinally:\n    spark.sql(\"drop view if exists DatabricksView5c6cbec\")\n    display = __backend_agg_display_orig\n    del __backend_agg_display_new\n    del __backend_agg_display_orig\n    del __backend_agg_dfs\n    del __backend_agg_user_code_fn\n\n",
       "commandTitle": "Average Hourly Wage Trends by City (2015–2024)",
       "commandType": "auto",
       "commandVersion": 0,
       "commentThread": [],
       "commentsVisible": false,
       "contentSha256Hex": null,
       "customPlotOptions": {
        "redashChart": [
         {
          "key": "type",
          "value": "CHART"
         },
         {
          "key": "options",
          "value": {
           "alignYAxesAtZero": true,
           "coefficient": 1,
           "columnConfigurationMap": {
            "series": {
             "column": "City",
             "id": "column_7806dfaf271"
            },
            "x": {
             "column": "Year",
             "id": "column_7806dfaf267"
            },
            "y": [
             {
              "column": "AvgWage",
              "id": "column_7806dfaf269",
              "transform": "SUM"
             }
            ]
           },
           "dateTimeFormat": "DD/MM/YYYY HH:mm",
           "direction": {
            "type": "counterclockwise"
           },
           "error_y": {
            "type": "data",
            "visible": true
           },
           "globalSeriesType": "line",
           "isAggregationOn": true,
           "legend": {
            "enabled": true,
            "placement": "right",
            "traceorder": "normal"
           },
           "missingValuesAsZero": false,
           "numberFormat": "0,0.[00000]",
           "percentFormat": "0[.]00%",
           "series": {
            "error_y": {
             "type": "data",
             "visible": true
            },
            "percentValues": false,
            "stacking": null
           },
           "seriesOptions": {
            "column_7806dfaf269": {
             "type": "line",
             "yAxis": 0
            }
           },
           "showDataLabels": false,
           "sizemode": "diameter",
           "sortX": true,
           "sortY": true,
           "swappedAxes": false,
           "textFormat": "",
           "useAggregationsUi": true,
           "valuesOptions": {},
           "version": 2,
           "xAxis": {
            "labels": {
             "enabled": true
            },
            "type": "-"
           },
           "yAxis": [
            {
             "type": "-"
            },
            {
             "opposite": true,
             "type": "-"
            }
           ]
          }
         }
        ]
       },
       "datasetPreviewNameToCmdIdMap": {},
       "diffDeletes": [],
       "diffInserts": [],
       "displayType": "redashChart",
       "error": null,
       "errorDetails": null,
       "errorSummary": null,
       "errorTraceType": null,
       "finishTime": 0,
       "globalVars": {},
       "guid": "",
       "height": "auto",
       "hideCommandCode": false,
       "hideCommandResult": false,
       "iPythonMetadata": null,
       "inputWidgets": {},
       "isLockedInExamMode": false,
       "latestUser": "a user",
       "latestUserId": null,
       "listResultMetadata": null,
       "metadata": {
        "byteLimit": 2048000,
        "rowLimit": 10000
       },
       "nuid": "b5512ea0-cb88-4113-8f61-6aa75b874982",
       "origId": 0,
       "parentHierarchy": [],
       "pivotAggregation": null,
       "pivotColumns": null,
       "position": 10.5,
       "resultDbfsErrorMessage": null,
       "resultDbfsStatus": "INLINED_IN_TREE",
       "results": null,
       "showCommandTitle": false,
       "startTime": 0,
       "state": "finished",
       "streamStates": {},
       "subcommandOptions": {
        "queryPlan": {
         "groups": [
          {
           "column": "Year",
           "type": "column"
          },
          {
           "column": "City",
           "type": "column"
          }
         ],
         "selects": [
          {
           "column": "Year",
           "type": "column"
          },
          {
           "alias": "column_7806dfaf269",
           "args": [
            {
             "column": "AvgWage",
             "type": "column"
            }
           ],
           "function": "SUM",
           "type": "function"
          },
          {
           "column": "City",
           "type": "column"
          }
         ]
        }
       },
       "submitTime": 0,
       "subtype": "tableResultSubCmd.visualization",
       "tableResultIndex": 0,
       "tableResultSettingsMap": {},
       "useConsistentColors": false,
       "version": "CommandV1",
       "width": "auto",
       "workflows": [],
       "xColumns": null,
       "yColumns": null
      }
     },
     "output_type": "display_data"
    },
    {
     "output_type": "display_data",
     "data": {
      "image/png": "[encoded data removed]",
      "text/plain": [
       "<Figure size 1400x800 with 1 Axes>"
      ]
     },
     "metadata": {},
     "output_type": "display_data"
    }
   ],
   "source": [
    "city_wage_trends = spark.sql(\"\"\"\n",
    "    SELECT Year, City, AVG(Mean_Hourly_Wage) AS AvgWage\n",
    "    FROM florida_labor_data\n",
    "    GROUP BY Year, City\n",
    "    ORDER BY Year, AvgWage DESC\n",
    "\"\"\")\n",
    "display(city_wage_trends)\n",
    "\n",
    "# Convert Spark DataFrame to Pandas\n",
    "city_wage_trends_pd = city_wage_trends.toPandas()\n",
    "\n",
    "# standardize city names (remove whitespace/case)\n",
    "city_wage_trends_pd['City'] = city_wage_trends_pd['City'].str.strip().str.lower()\n",
    "\n",
    "# Identify top N cities (e.g., by overall average wage)\n",
    "top_cities = city_wage_trends_pd.groupby('City')['AvgWage'].mean().nlargest(8).index.tolist()\n",
    "\n",
    "# Filter for only top cities\n",
    "filtered_pd = city_wage_trends_pd[city_wage_trends_pd['City'].isin(top_cities)]\n",
    "\n",
    "# Plot\n",
    "plt.figure(figsize=(14, 8))\n",
    "\n",
    "for city in filtered_pd['City'].unique():\n",
    "    city_data = filtered_pd[filtered_pd['City'] == city]\n",
    "    plt.plot(city_data['Year'], city_data['AvgWage'], marker='o', label=city.title())\n",
    "\n",
    "plt.xlabel('Year')\n",
    "plt.ylabel('Average Hourly Wage')\n",
    "plt.title('Average Hourly Wage Trends by Top 8 Cities')\n",
    "plt.legend(title='City')\n",
    "plt.grid(True)\n",
    "plt.tight_layout()\n",
    "plt.show()\n"
   ]
  },
  {
   "cell_type": "code",
   "execution_count": 0,
   "metadata": {
    "application/vnd.databricks.v1+cell": {
     "cellMetadata": {
      "byteLimit": 2048000,
      "rowLimit": 10000
     },
     "inputWidgets": {},
     "nuid": "017447e1-49b7-4337-b367-efbbc9d12488",
     "showTitle": false,
     "tableResultSettingsMap": {},
     "title": ""
    }
   },
   "outputs": [
    {
     "output_type": "stream",
     "name": "stdout",
     "output_type": "stream",
     "text": [
      "+--------------------+--------------------+----------------+--------+\n|                City|    Occupation_Title|Mean_Hourly_Wage|WageRank|\n+--------------------+--------------------+----------------+--------+\n|crestview-ft. wal...|family and genera...|           100.8|       1|\n|crestview-ft. wal...|family and genera...|            96.2|       2|\n|crestview-ft. wal...|    chief executives|            91.6|       3|\n|crestview-ft. wal...|family and genera...|            91.2|       4|\n|crestview-ft. wal...|    chief executives|            91.0|       5|\n|crestview-ft. wal...|    chief executives|            77.9|       6|\n|crestview-ft. wal...|physicians and su...|            77.5|       7|\n|crestview-ft. wal...|physicians and su...|            77.4|       8|\n|crestview-ft. wal...|psychologists, al...|            73.0|       9|\n|crestview-ft. wal...|physicians and su...|            70.9|      10|\n|crestview-ft. wal...|general and opera...|            65.9|      11|\n|crestview-ft. wal...|  marketing managers|            64.7|      12|\n|crestview-ft. wal...|computer and info...|            63.6|      13|\n|crestview-ft. wal...|  financial managers|            62.7|      14|\n|crestview-ft. wal...|         pharmacists|            62.3|      15|\n|crestview-ft. wal...|architectural and...|            60.8|      16|\n|crestview-ft. wal...|computer and info...|            60.6|      17|\n|crestview-ft. wal...|personal financia...|            59.9|      18|\n|crestview-ft. wal...|  financial managers|            59.8|      19|\n|crestview-ft. wal...|architectural and...|            59.4|      20|\n+--------------------+--------------------+----------------+--------+\nonly showing top 20 rows\n\n"
     ]
    },
    {
     "output_type": "execute_result",
     "data": {
      "text/plain": [
       "DataFrame[]"
      ]
     },
     "execution_count": 18,
     "metadata": {},
     "output_type": "execute_result"
    }
   ],
   "source": [
    "\n",
    "# Rank Occupations Inside Each City Using Window Functions\n",
    "spark.sql(\"\"\"\n",
    "    SELECT City, Occupation_Title, Mean_Hourly_Wage,\n",
    "           RANK() OVER (PARTITION BY City ORDER BY Mean_Hourly_Wage DESC) AS WageRank\n",
    "    FROM florida_labor_data\n",
    "\"\"\").show()\n",
    "\n",
    "# Optimize Query Performance (Cache Table)\n",
    "spark.sql(\"CACHE TABLE florida_labor_data\")\n"
   ]
  },
  {
   "cell_type": "markdown",
   "metadata": {
    "application/vnd.databricks.v1+cell": {
     "cellMetadata": {},
     "inputWidgets": {},
     "nuid": "62ac0466-1a38-4d99-8dc1-720d13566daf",
     "showTitle": false,
     "tableResultSettingsMap": {},
     "title": ""
    }
   },
   "source": [
    "For each **city**, occupations are ranked by their **Mean_Hourly_Wage** (highest to lowest) using the `RANK()` window function.\n",
    "\n",
    "For example, in **Crestview-Fort Walton Beach**:\n",
    "\n",
    "- **Rank 1:** Family and General Practitioners → \\$96.20/hour\n",
    "- **Rank 2:** Chief Executives → \\$91.60/hour\n",
    "- **Ranks 5–10:** Multiple low-wage roles (cashiers, fast food cooks, baggage porters) cluster at \\$9.70–\\$9.90/hour\n",
    "\n",
    "The `WageRank` column shows the **relative pay position within the same city**, highlighting the **wage gap inside each local labor market**.\n"
   ]
  },
  {
   "cell_type": "code",
   "execution_count": 0,
   "metadata": {
    "application/vnd.databricks.v1+cell": {
     "cellMetadata": {
      "byteLimit": 2048000,
      "rowLimit": 10000
     },
     "inputWidgets": {},
     "nuid": "fdacffdd-6d3d-49bd-9fc1-2cb9ce5537f8",
     "showTitle": false,
     "tableResultSettingsMap": {},
     "title": ""
    }
   },
   "outputs": [
    {
     "output_type": "display_data",
     "data": {
      "image/png": "[encoded data removed]",
      "text/plain": [
       "<Figure size 1000x600 with 1 Axes>"
      ]
     },
     "metadata": {},
     "output_type": "display_data"
    }
   ],
   "source": [
    "from pyspark.sql import functions as F\n",
    "import matplotlib.pyplot as plt\n",
    "# Assuming 'florida_labor_data' is your Spark DataFrame\n",
    "group_avg_wage = df_normalized.withColumn(\n",
    "    'Occ_Group', F.substring('Occupation_Code', 1, 2)\n",
    ").groupBy('Occ_Group').agg(\n",
    "    F.avg('Mean_Hourly_Wage').alias('Mean_Hourly_Wage')\n",
    ").orderBy('Mean_Hourly_Wage', ascending=False)\n",
    "\n",
    "group_avg_wage_pd = group_avg_wage.toPandas()\n",
    "\n",
    "\n",
    "plt.figure(figsize=(10, 6))\n",
    "plt.bar(group_avg_wage_pd['Occ_Group'], group_avg_wage_pd['Mean_Hourly_Wage'], color='skyblue')\n",
    "plt.xlabel('Occupation Group (2-digit SOC Code)')\n",
    "plt.ylabel('Average Mean Hourly Wage ($)')\n",
    "plt.title('Average Hourly Wage by Major Occupation Group (2-digit SOC)')\n",
    "plt.show()\n",
    "\n"
   ]
  },
  {
   "cell_type": "markdown",
   "metadata": {
    "application/vnd.databricks.v1+cell": {
     "cellMetadata": {},
     "inputWidgets": {},
     "nuid": "50580bb1-d64d-4859-a5ed-13fb35fb0ad8",
     "showTitle": false,
     "tableResultSettingsMap": {},
     "title": ""
    }
   },
   "source": [
    "\n",
    "The numbers on the x-axis (like **11**, **29**, **15**) are **2-digit SOC Codes** — they represent **major occupational groups** under the **Standard Occupational Classification (SOC) system** used by the U.S. Bureau of Labor Statistics.\n",
    "\n",
    "Each 2-digit code is a broad occupation family grouping related jobs. For example:\n",
    "\n",
    "| SOC Code | Major Occupation Group                                 |\n",
    "|----------|-------------------------------------------------------|\n",
    "| **11**   | Management Occupations                                 |\n",
    "| **13**   | Business and Financial Operations Occupations          |\n",
    "| **15**   | Computer and Mathematical Occupations                  |\n",
    "| **17**   | Architecture and Engineering Occupations               |\n",
    "| **21**   | Community and Social Service Occupations               |\n",
    "| **23**   | Legal Occupations                                      |\n",
    "| **25**   | Education, Training, and Library Occupations           |\n",
    "| **27**   | Arts, Design, Entertainment, Sports, and Media         |\n",
    "| **29**   | Healthcare Practitioners and Technical Occupations     |\n",
    "| **31**   | Healthcare Support Occupations                         |\n",
    "| **33**   | Protective Service Occupations                         |\n",
    "| **35**   | Food Preparation and Serving Related Occupations       |\n",
    "| **37**   | Building and Grounds Cleaning and Maintenance          |\n",
    "| **39**   | Personal Care and Service Occupations                  |\n",
    "| **41**   | Sales and Related Occupations                          |\n",
    "| **43**   | Office and Administrative Support Occupations          |\n",
    "| **45**   | Farming, Fishing, and Forestry Occupations             |\n",
    "| **47**   | Construction and Extraction Occupations                |\n",
    "| **49**   | Installation, Maintenance, and Repair Occupations      |\n",
    "| **51**   | Production Occupations                                 |\n",
    "| **53**   | Transportation and Material Moving Occupations         |\n",
    "\n",
    "### Interpretation of the Chart\n",
    "\n",
    "1. **Occupation group 11 (Management) has the highest average hourly wage (~$48/hr).**\n",
    "2. **Occupation group 29 (Healthcare Practitioners) is also high (~$44/hr).**\n",
    "3. **Occupation groups 35 (Food Preparation), 37 (Cleaning), 39 (Personal Care) are at the lower end (~$14–$17/hr).**\n",
    "\n",
    "This chart shows a clear wage hierarchy across broad occupation families:\n",
    "\n",
    " **Management → highest pay**  \n",
    " **Healthcare → second highest**  \n",
    " **Service and food occupations → lowest pay**\n",
    "\n",
    "### Why is this useful?\n",
    "\n",
    "This visualization helps identify which major occupation groups are high-wage vs. low-wage, enabling:\n",
    "\n",
    "- Targeted wage policy interventions\n",
    "- Workforce development planning\n",
    "- Employer compensation benchmarking\n",
    "\n",
    "It provides a high-level overview of wage differences across occupational categories, guiding strategic decisions for policymakers, employers, and economic developers.\n"
   ]
  },
  {
   "cell_type": "markdown",
   "metadata": {
    "application/vnd.databricks.v1+cell": {
     "cellMetadata": {},
     "inputWidgets": {},
     "nuid": "78eff039-ed53-43ef-a4e6-84d24ae676ef",
     "showTitle": false,
     "tableResultSettingsMap": {},
     "title": ""
    }
   },
   "source": [
    "### Class imbalance check"
   ]
  },
  {
   "cell_type": "code",
   "execution_count": 0,
   "metadata": {
    "application/vnd.databricks.v1+cell": {
     "cellMetadata": {
      "byteLimit": 2048000,
      "rowLimit": 10000
     },
     "inputWidgets": {},
     "nuid": "323f79f1-ad44-4b0e-9cc0-464eabe6d563",
     "showTitle": false,
     "tableResultSettingsMap": {},
     "title": ""
    }
   },
   "outputs": [
    {
     "output_type": "stream",
     "name": "stdout",
     "output_type": "stream",
     "text": [
      "+--------------------+-----+\n|    Occupation_Title|count|\n+--------------------+-----+\n|first-line superv...|  256|\n|         pharmacists|  255|\n|maids and houseke...|  255|\n|            cashiers|  255|\n|pharmacy technicians|  255|\n|  nursing assistants|  255|\n|maintenance and r...|  255|\n|licensed practica...|  255|\n|             tellers|  255|\n|landscaping and g...|  255|\n+--------------------+-----+\nonly showing top 10 rows\n\n"
     ]
    }
   ],
   "source": [
    "# Count records per occupation\n",
    "occupation_counts = df.groupBy(\"Occupation_Title\").count().orderBy(\"count\", ascending=False)\n",
    "occupation_counts.show(10)\n",
    "\n"
   ]
  },
  {
   "cell_type": "code",
   "execution_count": 0,
   "metadata": {
    "application/vnd.databricks.v1+cell": {
     "cellMetadata": {
      "byteLimit": 2048000,
      "rowLimit": 10000
     },
     "inputWidgets": {},
     "nuid": "70b34c51-a436-4801-b140-c1d21db6a653",
     "showTitle": false,
     "tableResultSettingsMap": {},
     "title": ""
    }
   },
   "outputs": [
    {
     "output_type": "stream",
     "name": "stdout",
     "output_type": "stream",
     "text": [
      "+--------------------+-----+\n|                City|count|\n+--------------------+-----+\n|        jacksonville| 5957|\n|orlando-kissimmee...| 5678|\n| florida - statewide| 4869|\n|palm bay-melbourn...| 4823|\n|tampa-st. petersb...| 4710|\n|pensacola-ferry p...| 4491|\n|         gainesville| 4161|\n|deltona-daytona b...| 4149|\n|lakeland-winter h...| 3046|\n|cape coral-fort m...| 3015|\n|        fl-statewide| 2943|\n|north port-saraso...| 2612|\n|crestview-fort wa...| 2476|\n|north port-braden...| 2456|\n|     tallahassee, fl| 2251|\n|ft. lauderdale-po...| 2225|\n|  port st. lucie, fl| 2218|\n|  miami-ft. laud-wpb| 2198|\n|miami-fort lauder...| 2157|\n|west palm beach-b...| 2122|\n+--------------------+-----+\nonly showing top 20 rows\n\n"
     ]
    }
   ],
   "source": [
    "\n",
    "# Count records per city\n",
    "city_counts = df.groupBy(\"City\").count().orderBy(\"count\", ascending=False)\n",
    "city_counts.show()"
   ]
  },
  {
   "cell_type": "code",
   "execution_count": 0,
   "metadata": {
    "application/vnd.databricks.v1+cell": {
     "cellMetadata": {
      "byteLimit": 2048000,
      "rowLimit": 10000
     },
     "inputWidgets": {},
     "nuid": "cedafb04-6565-4b2c-8f62-3fb7c031a352",
     "showTitle": false,
     "tableResultSettingsMap": {},
     "title": ""
    }
   },
   "outputs": [
    {
     "output_type": "stream",
     "name": "stdout",
     "output_type": "stream",
     "text": [
      "Imbalance ratio (max/min) for occupations: 256.0\n"
     ]
    }
   ],
   "source": [
    "# Get min and max counts across occupations\n",
    "min_count = occupation_counts.agg({\"count\": \"min\"}).collect()[0][0]\n",
    "max_count = occupation_counts.agg({\"count\": \"max\"}).collect()[0][0]\n",
    "imbalance_ratio = max_count / min_count if min_count > 0 else None\n",
    "\n",
    "print(f\"Imbalance ratio (max/min) for occupations: {imbalance_ratio}\")\n"
   ]
  },
  {
   "cell_type": "markdown",
   "metadata": {
    "application/vnd.databricks.v1+cell": {
     "cellMetadata": {},
     "inputWidgets": {},
     "nuid": "bbe5719b-d1a7-441e-b315-b420d84769b1",
     "showTitle": false,
     "tableResultSettingsMap": {},
     "title": ""
    }
   },
   "source": [
    "### Class Imbalance Analysis Findings\n",
    "\n",
    "- **Occupation-Level Imbalance:**  \n",
    "  - The largest occupation group has 256 times more records than the smallest group.  \n",
    "  - Dominant occupations include *tellers* and *landscaping and groundskeeping workers*.  \n",
    "  - Many niche or specialized occupations are underrepresented.  \n",
    "  - This creates a high class imbalance risk for classification models, requiring balancing strategies such as oversampling, undersampling, or applying class weights.\n",
    "\n",
    "- **City-Level Imbalance:**  \n",
    "  - Major cities like *Jacksonville* (5,957 records) and *Orlando-Kissimmee-Sanford* (5,678 records) have the highest data volume.  \n",
    "  - Although the imbalance is less extreme than for occupations, regional dominance should be monitored to avoid city bias in models and analysis.\n",
    "\n",
    "- **Overall Implication:**  \n",
    "  - Occupation-level imbalance needs to be addressed before building predictive models to ensure fairness and accuracy.  \n",
    "  - City-level data is more balanced but still concentrated in key metro areas.\n"
   ]
  },
  {
   "cell_type": "markdown",
   "metadata": {
    "application/vnd.databricks.v1+cell": {
     "cellMetadata": {},
     "inputWidgets": {},
     "nuid": "62cae80f-4c73-4025-a486-394c7becc5a9",
     "showTitle": false,
     "tableResultSettingsMap": {},
     "title": ""
    }
   },
   "source": [
    "### Fixing Class Imbalance Using Oversampling\n",
    "We handle class imbalance in the **Wage_Band** column by applying an oversampling technique to increase the number of rows in the smaller classes until they match the largest class.\n",
    "\n",
    "* We calculate how many times each smaller class needs to be duplicated to reach the same count as the largest class (called the duplication factor).\n",
    "\n",
    "* We create extra copies of rows programmatically using Spark’s explode and sequence functions, instead of using manual loops or repeated unions.\n",
    "\n",
    "* We trim any extra rows to match the exact target count, ensuring each class ends up with the same number of rows for a balanced dataset.\n",
    "\n",
    "\n",
    "We did this to prevent the model from being biased toward majority classes and to give underrepresented classes an equal chance to influence the model’s learning.\n",
    "\n",
    "\n"
   ]
  },
  {
   "cell_type": "code",
   "execution_count": 0,
   "metadata": {
    "application/vnd.databricks.v1+cell": {
     "cellMetadata": {
      "byteLimit": 2048000,
      "rowLimit": 10000
     },
     "inputWidgets": {},
     "nuid": "0d458d95-a8a6-4e7f-a907-405b141bc885",
     "showTitle": false,
     "tableResultSettingsMap": {},
     "title": ""
    }
   },
   "outputs": [
    {
     "output_type": "stream",
     "name": "stdout",
     "output_type": "stream",
     "text": [
      "\nClass Counts Before Handling:\n  Wage_Band  count\n0      High  10841\n1       Low  45765\n2    Medium  57314\n\nClass Counts After Handling:\n  Wage_Band  count\n0      High  57314\n1       Low  57314\n2    Medium  57314\n"
     ]
    },
    {
     "output_type": "display_data",
     "data": {
      "image/png": "[encoded data removed]",
      "text/plain": [
       "<Figure size 800x400 with 1 Axes>"
      ]
     },
     "metadata": {},
     "output_type": "display_data"
    }
   ],
   "source": [
    "import matplotlib.pyplot as plt\n",
    "from pyspark.sql import SparkSession\n",
    "from pyspark.sql import functions as F\n",
    "from pyspark.sql.window import Window\n",
    "\n",
    "# Initialize Spark session\n",
    "spark = SparkSession.builder.getOrCreate()\n",
    "\n",
    "# Create Wage_Band column\n",
    "df = df.withColumn(\n",
    "    \"Wage_Band\",\n",
    "    when(df[\"Mean_Hourly_Wage\"] < 20, \"Low\")\n",
    "    .when((df[\"Mean_Hourly_Wage\"] >= 20) & (df[\"Mean_Hourly_Wage\"] < 45), \"Medium\")\n",
    "    .otherwise(\"High\")\n",
    ")\n",
    "\n",
    "df_clean = df.persist()\n",
    "\n",
    "#  Count class distribution\n",
    "class_counts_df = df_clean.groupBy(\"Wage_Band\").count()\n",
    "\n",
    "band_counts_before = class_counts_df.toPandas()\n",
    "print(\"\\nClass Counts Before Handling:\")\n",
    "print(band_counts_before)\n",
    "\n",
    "#  Compute max_count\n",
    "max_count = class_counts_df.agg(F.max(\"count\")).first()[0]\n",
    "\n",
    "# Join each row with duplication factors\n",
    "# Add a column `dup_factor` = ceiling(max_count / count) per class\n",
    "dup_factors_df = class_counts_df.withColumn(\n",
    "    \"dup_factor\", F.ceil(F.lit(max_count) / F.col(\"count\"))\n",
    ").select(\"Wage_Band\", \"dup_factor\")\n",
    "\n",
    "# Join `df_clean` with `dup_factors_df` to annotate each row\n",
    "df_annotated = df_clean.join(dup_factors_df, on=\"Wage_Band\", how=\"left\")\n",
    "\n",
    "# Create duplicate rows using `explode` + `sequence`\n",
    "balanced_df = df_annotated.withColumn(\n",
    "    \"dup_id\",\n",
    "    F.explode(F.sequence(F.lit(1), F.col(\"dup_factor\")))\n",
    ").drop(\"dup_factor\", \"dup_id\")\n",
    "\n",
    "# Trim rows to exact count\n",
    "# Add row_number per class\n",
    "w = Window.partitionBy(\"Wage_Band\").orderBy(F.monotonically_increasing_id())\n",
    "\n",
    "final_balanced_df = balanced_df.withColumn(\n",
    "    \"rn\", F.row_number().over(w)\n",
    ").filter(F.col(\"rn\") <= max_count).drop(\"rn\")\n",
    "\n",
    "#  Count balanced class distribution\n",
    "band_counts_after = final_balanced_df.groupBy(\"Wage_Band\").count().toPandas()\n",
    "\n",
    "print(\"\\nClass Counts After Handling:\")\n",
    "print(band_counts_after)\n",
    "\n",
    "#  Plot\n",
    "plt.figure(figsize=(8, 4))\n",
    "plt.bar(band_counts_after['Wage_Band'], band_counts_after['count'])\n",
    "plt.title('Class Distribution After Balancing')\n",
    "plt.xlabel('Wage Band')\n",
    "plt.ylabel('Count')\n",
    "plt.show()\n",
    "\n"
   ]
  },
  {
   "cell_type": "markdown",
   "metadata": {
    "application/vnd.databricks.v1+cell": {
     "cellMetadata": {},
     "inputWidgets": {},
     "nuid": "bd00eca2-7b8e-4117-9d23-2b50f82cd558",
     "showTitle": false,
     "tableResultSettingsMap": {},
     "title": ""
    }
   },
   "source": [
    "## Wage Band Classification\n",
    "\n",
    "The classification model predicts whether a worker belongs to the **Low, Medium, or High wage band** based on their occupation, city, and employment details. The business goal is to:\n",
    "\n",
    "- Identify which workers are at risk of falling into lower wage categories.\n",
    "- Support **salary benchmarking and compensation planning** by predicting wage categories for roles without published wages.\n",
    "- Analyze the impact of location and job type on wage band outcomes.\n",
    "\n",
    "This model enables organizations to **classify and compare roles across regions and occupations, support wage fairness audits, and guide compensation decisions.**\n"
   ]
  },
  {
   "cell_type": "markdown",
   "metadata": {
    "application/vnd.databricks.v1+cell": {
     "cellMetadata": {},
     "inputWidgets": {},
     "nuid": "67703cbd-def2-4b0d-97e6-976d119e5007",
     "showTitle": false,
     "tableResultSettingsMap": {},
     "title": ""
    }
   },
   "source": [
    "## Classification Modelling\n",
    "we are building a Logistic Regression classification model to predict the Wage Band (Low, Medium, High) for workers, based on various features such as city, occupation code, occupation title, and potentially other numerical features.\n",
    "\n",
    "Wage Band represents a worker’s income category based on their mean hourly wage. We’re grouping workers into income levels (Low, Medium, High) by applying thresholds to their hourly wage. Instead of predicting the exact wage number, we predict which wage group they belong to.\n",
    "\n",
    "This grouped label (Wage_Band) becomes the target variable for the classification model.\n",
    "\n",
    "The Wage_Band is created using the following logic:\n",
    "\n",
    "* Workers earning less than $20 per hour are classified as “Low” wage band.\n",
    "\n",
    "* Workers earning between $20 and $45 per hour are classified as “Medium” wage band.\n",
    "\n",
    "* Workers earning $45 or more per hour are classified as “High” wage band\n",
    "\n",
    "The prediction can be used for workforce analysis, salary benchmarking, HR planning, or policy evaluation.\n",
    "\n",
    "We are using LogisticRegression from pyspark.ml.classification with parameter maxIter=20.\n",
    "\n",
    "This performs multinomial logistic regression (softmax regression)handles more than 2 classes.\n",
    "\n",
    "The model learns a set of coefficients (per feature, per class) to estimate the probability of each wage band given the features.The model uses features such as:\n",
    "\n",
    "* Categorical features: City, Occupation_Code, Occupation_Title → encoded numerically using StringIndexer.\n",
    "\n",
    "* Other numerical features: (e.g., YearsExperience) depending on what's included in the DataFrame.\n",
    "\n",
    "\n",
    "* All features are combined into a single feature vector using VectorAssembler.\n",
    "\n"
   ]
  },
  {
   "cell_type": "code",
   "execution_count": 0,
   "metadata": {
    "application/vnd.databricks.v1+cell": {
     "cellMetadata": {
      "byteLimit": 2048000,
      "rowLimit": 10000
     },
     "inputWidgets": {},
     "nuid": "9f90c598-7428-4e32-98f3-928982a5dae3",
     "showTitle": false,
     "tableResultSettingsMap": {},
     "title": ""
    }
   },
   "outputs": [],
   "source": [
    "from pyspark.ml.feature import StringIndexer, VectorAssembler\n",
    "from pyspark.ml.classification import LogisticRegression, RandomForestClassifier\n",
    "from pyspark.ml.evaluation import MulticlassClassificationEvaluator\n",
    "\n",
    "# Encode target label\n",
    "# Encode target label (check if 'label' already exists)\n",
    "if \"label\" in final_balanced_df.columns:\n",
    "    final_balanced_df = final_balanced_df.drop(\"label\")\n",
    "\n",
    "indexer = StringIndexer(inputCol=\"Wage_Band\", outputCol=\"label\")\n",
    "indexer_model = indexer.fit(final_balanced_df)  \n",
    "final_balanced_df = indexer_model.transform(final_balanced_df)\n",
    "\n",
    "\n",
    "# List of categorical feature columns\n",
    "categorical_cols = ['City', 'Occupation_Code', 'Occupation_Title']\n",
    "\n",
    "# Index categorical feature columns\n",
    "for cat_col in categorical_cols:\n",
    "    indexed_col = f\"{cat_col}_indexed\"\n",
    "    if indexed_col in final_balanced_df.columns:\n",
    "        final_balanced_df = final_balanced_df.drop(indexed_col)\n",
    "    indexer = StringIndexer(inputCol=cat_col, outputCol=indexed_col)\n",
    "    final_balanced_df = indexer.fit(final_balanced_df).transform(final_balanced_df)\n",
    "\n",
    "# Define final feature columns: replace categorical columns with indexed versions\n",
    "feature_cols = [\n",
    "    f\"{col}_indexed\" if col in categorical_cols else col\n",
    "    for col in final_balanced_df.columns\n",
    "    if col not in [\"Wage_Band\", \"label\", \"Mean_Hourly_Wage\"] + categorical_cols\n",
    "]\n",
    "\n",
    "# Assemble features into a single vector\n",
    "assembler = VectorAssembler(inputCols=feature_cols, outputCol=\"features\")\n",
    "df_features = assembler.transform(final_balanced_df)\n",
    "\n",
    "# Split data into train and test sets\n",
    "train_df, test_df = df_features.randomSplit([0.8, 0.2], seed=42)\n"
   ]
  },
  {
   "cell_type": "markdown",
   "metadata": {
    "application/vnd.databricks.v1+cell": {
     "cellMetadata": {},
     "inputWidgets": {},
     "nuid": "fed45e3c-be9a-4343-94b5-48a18efc01c1",
     "showTitle": false,
     "tableResultSettingsMap": {},
     "title": ""
    }
   },
   "source": [
    "### Why logistic Regression\n",
    "Logistic Regression was chosen for its interpretability, allowing us to understand how input features affect the likelihood of belonging to each wage band. It provides insight through feature coefficients, works well for multiclass classification when classes are approximately linearly separable, and is computationally efficient even on large datasets. Additionally, it serves as a strong baseline for comparing against more complex models like Random Forest or Gradient Boosted Trees.\n",
    "\n",
    "The model is used to:\n",
    "\n",
    "* Classify new workers into wage bands based on their attributes (city, occupation, etc.).\n",
    "\n",
    "* Understand the importance of features (e.g., is occupation or city a stronger predictor of wages?).\n",
    "\n",
    "* Evaluate fairness or bias in wage prediction across locations or job roles.\n",
    "\n",
    "* Support workforce planning and salary prediction tasks."
   ]
  },
  {
   "cell_type": "markdown",
   "metadata": {
    "application/vnd.databricks.v1+cell": {
     "cellMetadata": {},
     "inputWidgets": {},
     "nuid": "68cc1338-9d32-495d-9479-5a59fed4b67c",
     "showTitle": false,
     "tableResultSettingsMap": {},
     "title": ""
    }
   },
   "source": [
    "## Evaluation Criteria\n",
    "For each input row, the model outputs:\n",
    "\n",
    "Predicted wage band (as numeric class → mapped back to Low, Medium, High)\n",
    "\n",
    "Probability distribution over all classes, We also measure:\n",
    "\n",
    "| Metric             | Description                                 |\n",
    "|-------------------|---------------------------------------------|\n",
    "| Accuracy           | Percentage of correct predictions            |\n",
    "| Precision, Recall  | Per-class evaluation of model performance    |\n",
    "| Confusion Matrix   | Shows which classes are often confused       |\n",
    "| Feature Importance | Identifies which features drive predictions  |\n"
   ]
  },
  {
   "cell_type": "code",
   "execution_count": 0,
   "metadata": {
    "application/vnd.databricks.v1+cell": {
     "cellMetadata": {
      "byteLimit": 2048000,
      "rowLimit": 10000
     },
     "inputWidgets": {},
     "nuid": "09d8b489-55fe-4273-9cff-c5c1da7b1e90",
     "showTitle": false,
     "tableResultSettingsMap": {},
     "title": ""
    }
   },
   "outputs": [],
   "source": [
    "\n",
    "# Train Logistic Regression model\n",
    "lr = LogisticRegression(featuresCol=\"features\", labelCol=\"label\", maxIter=20)\n",
    "lr_model = lr.fit(train_df)\n",
    "lr_pred = lr_model.transform(test_df)\n"
   ]
  },
  {
   "cell_type": "code",
   "execution_count": 0,
   "metadata": {
    "application/vnd.databricks.v1+cell": {
     "cellMetadata": {
      "byteLimit": 2048000,
      "rowLimit": 10000
     },
     "inputWidgets": {},
     "nuid": "b41d48a7-17ff-446e-acef-5e7361e25bf5",
     "showTitle": false,
     "tableResultSettingsMap": {},
     "title": ""
    }
   },
   "outputs": [
    {
     "output_type": "stream",
     "name": "stdout",
     "output_type": "stream",
     "text": [
      "\nLogistic Regression Performance:\nAccuracy: 0.9859\nPrecision: 0.9858\nRecall: 0.9859\n"
     ]
    }
   ],
   "source": [
    "\n",
    "# Evaluate the model\n",
    "evaluator_acc = MulticlassClassificationEvaluator(labelCol=\"label\", predictionCol=\"prediction\", metricName=\"accuracy\")\n",
    "evaluator_prec = MulticlassClassificationEvaluator(labelCol=\"label\", predictionCol=\"prediction\", metricName=\"weightedPrecision\")\n",
    "evaluator_rec = MulticlassClassificationEvaluator(labelCol=\"label\", predictionCol=\"prediction\", metricName=\"weightedRecall\")\n",
    "\n",
    "accuracy = evaluator_acc.evaluate(lr_pred)\n",
    "precision = evaluator_prec.evaluate(lr_pred)\n",
    "recall = evaluator_rec.evaluate(lr_pred)\n",
    "\n",
    "print(\"\\nLogistic Regression Performance:\")\n",
    "print(f\"Accuracy: {accuracy:.4f}\")\n",
    "print(f\"Precision: {precision:.4f}\")\n",
    "print(f\"Recall: {recall:.4f}\")\n",
    "\n"
   ]
  },
  {
   "cell_type": "markdown",
   "metadata": {
    "application/vnd.databricks.v1+cell": {
     "cellMetadata": {},
     "inputWidgets": {},
     "nuid": "e52770b4-5de9-4d2e-8732-9e0d94c5e99b",
     "showTitle": false,
     "tableResultSettingsMap": {},
     "title": ""
    }
   },
   "source": [
    "The Logistic Regression model achieved very high performance, with the following metrics:\n",
    "\n",
    "- **Accuracy: 0.9859**  This means the model correctly predicted the wage band for 98.59% of workers in the test set.\n",
    "- **Precision: 0.9858**  Precision measures how many of the predicted wage bands were actually correct. A precision of 98.58% indicates that almost all predicted categories were accurate.\n",
    "- **Recall: 0.9859**  Recall measures how many of the actual wage bands were correctly identified by the model. A recall of 98.59% shows that the model captured almost all true wage categories.\n",
    "\n",
    "So, we can conclude that\n",
    "\n",
    "- **Highly accurate** → nearly all predictions match the true wage band.\n",
    "- **Balanced performance** → precision and recall are very close, indicating no major bias toward over- or under-predicting any class.\n",
    "- **Reliable for practical use** → the model can confidently classify workers into the correct wage band based on input features.\n"
   ]
  },
  {
   "cell_type": "code",
   "execution_count": 0,
   "metadata": {
    "application/vnd.databricks.v1+cell": {
     "cellMetadata": {
      "byteLimit": 2048000,
      "rowLimit": 10000
     },
     "inputWidgets": {},
     "nuid": "6cd3dfd6-8d49-4eea-b8f2-85ddbf16c4a3",
     "showTitle": false,
     "tableResultSettingsMap": {},
     "title": ""
    }
   },
   "outputs": [
    {
     "output_type": "stream",
     "name": "stdout",
     "output_type": "stream",
     "text": [
      "+---------+-------------+------------------+\n|Wage_Band|True_Category|Predicted_Category|\n+---------+-------------+------------------+\n|     High|         High|            Medium|\n|     High|         High|            Medium|\n|     High|         High|            Medium|\n|     High|         High|            Medium|\n|     High|         High|            Medium|\n|     High|         High|            Medium|\n|     High|         High|            Medium|\n|     High|         High|            Medium|\n|     High|         High|            Medium|\n|     High|         High|            Medium|\n+---------+-------------+------------------+\nonly showing top 10 rows\n\n"
     ]
    }
   ],
   "source": [
    "# Create mapping from numeric label → original category\n",
    "label_to_category = {i: label for i, label in enumerate(indexer_model.labels)}\n",
    "\n",
    "# Add human-readable columns to the misclassified DataFrame\n",
    "from pyspark.sql.functions import udf\n",
    "from pyspark.sql.types import StringType\n",
    "\n",
    "# UDF to map label and prediction to category\n",
    "map_label_udf = udf(lambda x: label_to_category.get(int(x)), StringType())\n",
    "\n",
    "# Apply UDFs to get category names\n",
    "misclassified = lr_pred.filter(F.col(\"label\") != F.col(\"prediction\"))\n",
    "misclassified_named = misclassified.withColumn(\"True_Category\", map_label_udf(F.col(\"label\"))) \\\n",
    "                                   .withColumn(\"Predicted_Category\", map_label_udf(F.col(\"prediction\")))\n",
    "\n",
    "# Show the result\n",
    "misclassified_named.select(\"Wage_Band\", \"True_Category\", \"Predicted_Category\").show(10)\n"
   ]
  },
  {
   "cell_type": "markdown",
   "metadata": {
    "application/vnd.databricks.v1+cell": {
     "cellMetadata": {},
     "inputWidgets": {},
     "nuid": "025d07c7-d5b6-475a-8420-778ff1ef428c",
     "showTitle": false,
     "tableResultSettingsMap": {},
     "title": ""
    }
   },
   "source": [
    "- The model is sometimes underestimating high earners, predicting them as medium wage band.\n",
    "- Misclassification mainly happens between neighboring classes (Medium vs High) rather than far-apart classes (e.g., Low vs High).\n",
    "- It suggests boundary cases around the $45 threshold (used to define Wage_Band) may be harder to distinguish.\n"
   ]
  },
  {
   "cell_type": "code",
   "execution_count": 0,
   "metadata": {
    "application/vnd.databricks.v1+cell": {
     "cellMetadata": {
      "byteLimit": 2048000,
      "rowLimit": 10000
     },
     "inputWidgets": {},
     "nuid": "44c16565-0d90-4454-9706-f6efd968c07d",
     "showTitle": false,
     "tableResultSettingsMap": {},
     "title": ""
    }
   },
   "outputs": [
    {
     "output_type": "stream",
     "name": "stdout",
     "output_type": "stream",
     "text": [
      "\nLogistic Regression Feature Importance (per class):\n\nClass 0:\nExperienced_Hourly_Wage: 1.5051\nEntry_Hourly_Wage: 0.9601\nYear: 0.0119\nCity_indexed: 0.0059\nOccupation_Code_indexed: -0.0007\nOccupation_Title_indexed: 0.0001\nEmployment: -0.0000\n\nClass 1:\nExperienced_Hourly_Wage: -1.6904\nEntry_Hourly_Wage: -1.2987\nYear: 0.0271\nCity_indexed: -0.0223\nOccupation_Code_indexed: 0.0029\nOccupation_Title_indexed: -0.0023\nEmployment: 0.0000\n\nClass 2:\nEntry_Hourly_Wage: 0.3386\nExperienced_Hourly_Wage: 0.1853\nYear: -0.0390\nCity_indexed: 0.0165\nOccupation_Title_indexed: 0.0022\nOccupation_Code_indexed: -0.0021\nEmployment: 0.0000\n"
     ]
    }
   ],
   "source": [
    "if hasattr(lr_model, \"coefficientMatrix\"):\n",
    "    coeff_matrix = lr_model.coefficientMatrix.toArray()\n",
    "    num_classes = coeff_matrix.shape[0]\n",
    "    print(\"\\nLogistic Regression Feature Importance (per class):\")\n",
    "    for class_idx in range(num_classes):\n",
    "        print(f\"\\nClass {class_idx}:\")\n",
    "        feature_importances = list(zip(feature_cols, coeff_matrix[class_idx]))\n",
    "        sorted_feats = sorted(feature_importances, key=lambda x: abs(x[1]), reverse=True)\n",
    "        for feat, coef in sorted_feats:\n",
    "            print(f\"{feat}: {coef:.4f}\")\n"
   ]
  },
  {
   "cell_type": "markdown",
   "metadata": {
    "application/vnd.databricks.v1+cell": {
     "cellMetadata": {},
     "inputWidgets": {},
     "nuid": "6bf2afaa-9498-4185-ad00-3fc536c23046",
     "showTitle": false,
     "tableResultSettingsMap": {},
     "title": ""
    }
   },
   "source": [
    "### Interpretation of Logistic Regression Feature Importance\n",
    "\n",
    "#### Class 0 (Medium):\n",
    "- **Experienced_Hourly_Wage (+1.5051)** → Strongest positive driver; higher experienced wage increases likelihood of Medium wage band.\n",
    "- **Entry_Hourly_Wage (+0.9601)** → Also increases chance of being classified as Medium.\n",
    "- Other features (Year, City, Occupation) have minimal impact.\n",
    "\n",
    "#### Class 1 (Low):\n",
    "- **Experienced_Hourly_Wage (-1.6904)** → Strong negative coefficient; higher experienced wage reduces chance of Low wage band.\n",
    "- **Entry_Hourly_Wage (-1.2987)** → Higher entry wage also reduces chance of being classified as Low.\n",
    "- Other features have smaller negative or near-zero influence.\n",
    "\n",
    "#### Class 2 (High):\n",
    "- **Entry_Hourly_Wage (+0.3386)** and **Experienced_Hourly_Wage (+0.1853)** → Both positively contribute to High wage band, but with smaller effect compared to Medium.\n",
    "- **Year (-0.0390)** → Slight negative association with High wage band.\n",
    "- Other features (City, Occupation) show very small coefficients.\n",
    "\n",
    "### Overall insights:\n",
    "- Wage-related features (**Experienced_Hourly_Wage**, **Entry_Hourly_Wage**) are the most important predictors for wage band classification.\n",
    "- Categorical features like City, Occupation_Code, and Occupation_Title have minimal impact in this model.\n",
    "- The model primarily uses wage levels to distinguish between Low, Medium, and High wage bands.\n"
   ]
  },
  {
   "cell_type": "code",
   "execution_count": 0,
   "metadata": {
    "application/vnd.databricks.v1+cell": {
     "cellMetadata": {
      "byteLimit": 2048000,
      "rowLimit": 10000
     },
     "inputWidgets": {},
     "nuid": "50708578-fa6e-4dba-9cc6-de03225bbb8e",
     "showTitle": false,
     "tableResultSettingsMap": {},
     "title": ""
    }
   },
   "outputs": [
    {
     "output_type": "stream",
     "name": "stdout",
     "output_type": "stream",
     "text": [
      "+-----+----------+-----+\n|label|prediction|count|\n+-----+----------+-----+\n|  0.0|       0.0|11520|\n|  0.0|       2.0|   35|\n|  1.0|       1.0|11138|\n|  1.0|       2.0|  201|\n|  2.0|       0.0|  115|\n|  2.0|       1.0|  134|\n|  2.0|       2.0|11151|\n+-----+----------+-----+\n\n"
     ]
    }
   ],
   "source": [
    "# Confusion matrix\n",
    "confusion = lr_pred.groupBy(\"label\", \"prediction\").count().orderBy(\"label\", \"prediction\")\n",
    "confusion.show()"
   ]
  },
  {
   "cell_type": "code",
   "execution_count": 0,
   "metadata": {
    "application/vnd.databricks.v1+cell": {
     "cellMetadata": {
      "byteLimit": 2048000,
      "rowLimit": 10000
     },
     "inputWidgets": {},
     "nuid": "a04166cc-de64-4865-95e0-70b9b6895121",
     "showTitle": false,
     "tableResultSettingsMap": {},
     "title": ""
    }
   },
   "outputs": [
    {
     "output_type": "display_data",
     "data": {
      "image/png": "[encoded data removed]",
      "text/plain": [
       "<Figure size 800x600 with 2 Axes>"
      ]
     },
     "metadata": {},
     "output_type": "display_data"
    }
   ],
   "source": [
    "import seaborn as sns\n",
    "\n",
    "# class_names from fitted StringIndexerModel\n",
    "class_names = indexer_model.labels\n",
    "\n",
    "confusion_pd = confusion.toPandas()\n",
    "conf_matrix = confusion_pd.pivot(index='label', columns='prediction', values='count').fillna(0)\n",
    "\n",
    "conf_matrix.index = [class_names[int(i)] for i in conf_matrix.index]\n",
    "conf_matrix.columns = [class_names[int(i)] for i in conf_matrix.columns]\n",
    "\n",
    "plt.figure(figsize=(8, 6))\n",
    "sns.heatmap(conf_matrix, annot=True, fmt='g', cmap='Blues')\n",
    "plt.xlabel('Predicted Label')\n",
    "plt.ylabel('True Label')\n",
    "plt.title('Confusion Matrix')\n",
    "plt.show()\n"
   ]
  },
  {
   "cell_type": "markdown",
   "metadata": {
    "application/vnd.databricks.v1+cell": {
     "cellMetadata": {},
     "inputWidgets": {},
     "nuid": "0d8a3a32-2c69-4c30-88b6-6a4d45e591cb",
     "showTitle": false,
     "tableResultSettingsMap": {},
     "title": ""
    }
   },
   "source": [
    "### Interpretation of the Confusion Matrix\n",
    "\n",
    "This confusion matrix shows how well the logistic regression model classified workers into the wage bands: High, Low, and Medium. Each cell represents the number of records for a combination of true label (row) and predicted label (column).\n",
    "#### Key observations:\n",
    "- **High accuracy overall:** Most predictions are correct, as shown by the large numbers along the diagonal.\n",
    "- **Few misclassifications:** Small errors occur, mostly between neighboring classes (e.g., Medium predicted as High or Low).\n",
    "- **No extreme misclassification:** There are no cases where High was predicted as Low or vice versa.\n",
    "\n",
    "#### Overall interpretation:\n",
    "The model demonstrates strong performance, making accurate predictions for most workers. Misclassifications are rare and are limited to closely related wage bands, indicating that the features used effectively separate wage categories in most cases.\n"
   ]
  },
  {
   "cell_type": "markdown",
   "metadata": {
    "application/vnd.databricks.v1+cell": {
     "cellMetadata": {},
     "inputWidgets": {},
     "nuid": "aa9be706-83e3-4179-b8a1-2f57e309fe78",
     "showTitle": false,
     "tableResultSettingsMap": {},
     "title": ""
    }
   },
   "source": [
    "## Conclusion: Classification Model\n",
    "\n",
    "The logistic regression model developed for wage band classification demonstrates excellent predictive performance and interpretability. Achieving over 98% accuracy, precision, and recall, the model correctly classifies workers into Low, Medium, and High wage bands in the vast majority of cases.\n",
    "\n",
    "The confusion matrix shows that most predictions align with the true wage band, with minimal misclassifications primarily occurring between adjacent categories (Medium vs High or Medium vs Low). There are no cases of direct confusion between the most distant classes (High and Low), indicating robust separation between these groups.\n",
    "\n",
    "Feature importance analysis reveals that wage-related variables, such as `Experienced_Hourly_Wage` and `Entry_Hourly_Wage`, are the strongest predictors, while categorical features like `City`, `Occupation_Code`, and `Occupation_Title` have relatively minor influence. This aligns with expectations, as wage band classification is naturally driven by wage levels.\n",
    "\n",
    "In summary, the logistic regression model provides a reliable and interpretable solution for classifying workers by wage band. It can support workforce analytics, salary benchmarking, and wage equity evaluations across occupations and regions. The model’s transparency and high accuracy make it a strong baseline for further analysis or integration into decision-support tools.\n"
   ]
  },
  {
   "cell_type": "markdown",
   "metadata": {
    "application/vnd.databricks.v1+cell": {
     "cellMetadata": {},
     "inputWidgets": {},
     "nuid": "38b6887d-9927-486c-8e2f-f0679f420d9a",
     "showTitle": false,
     "tableResultSettingsMap": {},
     "title": ""
    }
   },
   "source": [
    "The classification model offers several actionable business insights:\n",
    "\n",
    "-  **Wage level is the primary driver** of wage band classification, suggesting compensation policies should focus more on wage progression than location or occupation title.\n",
    "- The model's high accuracy enables reliable **identification of workers at risk of low-wage categorization**, useful for wage equity and workforce uplift programs.\n",
    "- Minimal confusion between Low and High wage bands shows clear wage stratification, helping policymakers **target interventions to mid-wage roles that risk downward mobility.**\n",
    "- The model can be deployed for **salary benchmarking, compensation audits, or proactive wage planning** across regions and occupations.\n",
    "\n",
    "Overall, this model supports data-driven compensation strategies, helping organizations align pay structures with market patterns while addressing wage equity goals.\n"
   ]
  },
  {
   "cell_type": "markdown",
   "metadata": {
    "application/vnd.databricks.v1+cell": {
     "cellMetadata": {},
     "inputWidgets": {},
     "nuid": "4c2631b2-2276-4b6e-bc8e-bb4c3db8d524",
     "showTitle": false,
     "tableResultSettingsMap": {},
     "title": ""
    }
   },
   "source": []
  },
  {
   "cell_type": "markdown",
   "metadata": {
    "application/vnd.databricks.v1+cell": {
     "cellMetadata": {},
     "inputWidgets": {},
     "nuid": "51594e66-805b-4bc0-b474-de8b8b24abaf",
     "showTitle": false,
     "tableResultSettingsMap": {},
     "title": ""
    }
   },
   "source": [
    "## Predicting Mean Hourly Wage Using Random Forest Regression Model\n",
    "\n",
    "The regression model predicts the **average hourly wage** for a given occupation and region, using features like occupation code, job title, city, and employment size. The business goal is to:\n",
    "\n",
    "- Estimate wages for roles where wage data is incomplete or missing.\n",
    "- Benchmark salaries against predicted market rates.\n",
    "- Identify wage disparities or outliers in certain locations or occupations.\n",
    "\n",
    "This model empowers organizations to **make data-driven decisions on salary offers, assess wage competitiveness, and support equitable compensation strategies.**\n",
    "\n",
    "\n",
    "In this analysis, we are building a **Random Forest regression model using PySpark MLlib** to predict the **mean hourly wage** for different occupations across various metropolitan statistical areas (MSAs). The model uses features such as **occupation code, occupation title, city (MSA), and employment level** to estimate wages. \n",
    "\n",
    "We chose **Random Forest Regression** because it is a flexible, non-linear, ensemble learning method capable of capturing complex relationships and interactions between features, which simpler models like linear regression cannot effectively handle—especially when dealing with categorical data and high-cardinality variables.\n",
    "\n",
    "The goal of the model is to provide accurate wage predictions based on occupation and region characteristics, enabling us to understand how these factors influence wages. This has significant practical applications for **workforce planning, salary benchmarking, policy analysis, and compensation equity studies.** By quantifying the importance of each input feature, the model also helps identify the key drivers of wage variation, such as whether occupation or location plays a stronger role in determining pay.\n",
    "\n",
    "In summary, this model is designed to support data-driven decision-making by delivering both accurate wage estimates and interpretable insights into the factors affecting earnings across occupations and regions.\n"
   ]
  },
  {
   "cell_type": "code",
   "execution_count": 0,
   "metadata": {
    "application/vnd.databricks.v1+cell": {
     "cellMetadata": {
      "byteLimit": 2048000,
      "rowLimit": 10000
     },
     "inputWidgets": {},
     "nuid": "1cc069fa-316d-4ad5-a7d5-72525d4a0e84",
     "showTitle": false,
     "tableResultSettingsMap": {},
     "title": ""
    }
   },
   "outputs": [],
   "source": [
    "from pyspark.ml.feature import StringIndexer, VectorAssembler\n",
    "from pyspark.ml.regression import RandomForestRegressor\n",
    "from pyspark.ml.evaluation import RegressionEvaluator\n",
    "from pyspark.sql import functions as F\n",
    "\n",
    "# Input features\n",
    "categorical_cols = ['Occupation_Code', 'Occupation_Title', 'City']  # City as proxy for MSA\n",
    "numeric_cols = ['Employment']\n",
    "\n",
    "# Index categorical columns\n",
    "for col_name in categorical_cols:\n",
    "    indexed_col = f\"{col_name}_indexed\"\n",
    "    if indexed_col in df.columns:\n",
    "        df = df.drop(indexed_col)\n",
    "    indexer = StringIndexer(inputCol=col_name, outputCol=indexed_col)\n",
    "    df = indexer.fit(df).transform(df)\n",
    "\n",
    "\n",
    "# Define feature columns\n",
    "feature_cols = [f\"{col_name}_indexed\" for col_name in categorical_cols] + numeric_cols\n",
    "\n",
    "# Assemble features\n",
    "assembler = VectorAssembler(inputCols=feature_cols, outputCol=\"features\")\n",
    "df_features = assembler.transform(df)\n"
   ]
  },
  {
   "cell_type": "code",
   "execution_count": 0,
   "metadata": {
    "application/vnd.databricks.v1+cell": {
     "cellMetadata": {
      "byteLimit": 2048000,
      "rowLimit": 10000
     },
     "inputWidgets": {},
     "nuid": "4594ac75-525c-44a2-8975-1ff6a09aad37",
     "showTitle": false,
     "tableResultSettingsMap": {},
     "title": ""
    }
   },
   "outputs": [],
   "source": [
    "\n",
    "# Define Random Forest regression model\n",
    "rf = RandomForestRegressor(featuresCol=\"features\", labelCol=\"Mean_Hourly_Wage\", numTrees=100, maxBins=1024)\n",
    "\n",
    "# Train-test split\n",
    "train_df, test_df = df_features.randomSplit([0.8, 0.2], seed=42)\n",
    "\n",
    "# Fit the model\n",
    "rf_model = rf.fit(train_df)\n",
    "\n",
    "# Predict on test data\n",
    "predictions = rf_model.transform(test_df)"
   ]
  },
  {
   "cell_type": "code",
   "execution_count": 0,
   "metadata": {
    "application/vnd.databricks.v1+cell": {
     "cellMetadata": {
      "byteLimit": 2048000,
      "rowLimit": 10000
     },
     "inputWidgets": {},
     "nuid": "5a269659-2222-402e-a876-ef8a05ea22bf",
     "showTitle": false,
     "tableResultSettingsMap": {},
     "title": ""
    }
   },
   "outputs": [
    {
     "output_type": "stream",
     "name": "stdout",
     "output_type": "stream",
     "text": [
      "\nRandom Forest Regression Performance:\nRMSE: 6.1801\nR²: 0.8510\n"
     ]
    }
   ],
   "source": [
    "# Evaluate model\n",
    "evaluator_rmse = RegressionEvaluator(labelCol=\"Mean_Hourly_Wage\", predictionCol=\"prediction\", metricName=\"rmse\")\n",
    "evaluator_r2 = RegressionEvaluator(labelCol=\"Mean_Hourly_Wage\", predictionCol=\"prediction\", metricName=\"r2\")\n",
    "\n",
    "rmse = evaluator_rmse.evaluate(predictions)\n",
    "r2 = evaluator_r2.evaluate(predictions)\n",
    "\n",
    "print(f\"\\nRandom Forest Regression Performance:\")\n",
    "print(f\"RMSE: {rmse:.4f}\")\n",
    "print(f\"R²: {r2:.4f}\")"
   ]
  },
  {
   "cell_type": "markdown",
   "metadata": {
    "application/vnd.databricks.v1+cell": {
     "cellMetadata": {},
     "inputWidgets": {},
     "nuid": "296c844d-d2c6-4572-9013-b7d0157750d9",
     "showTitle": false,
     "tableResultSettingsMap": {},
     "title": ""
    }
   },
   "source": [
    "The Random Forest regression model achieved the following performance metrics:\n",
    "\n",
    "- **RMSE (Root Mean Squared Error)** of 6.18 indicates that the model's predictions are, on average, off by about $6.18 per hour from the actual mean hourly wage. This represents a substantial improvement compared to the linear regression model, which had a much higher error.\n",
    "- **R² (coefficient of determination)** of 0.8510 means that the model explains 85.1% of the variability in hourly wages. This shows that the model captures the majority of the factors driving wage differences in the dataset.\n",
    "\n",
    "#### Key takeaways:\n",
    "\n",
    "- The Random Forest model provides significantly better predictive performance than the linear regression model, reducing prediction error by more than half.\n",
    "- The model effectively captures non-linear relationships and interactions between occupation, city (MSA), and employment.\n",
    "- With low prediction error and high explanatory power, this model can be used reliably to estimate average wages across different occupations and regions.\n"
   ]
  },
  {
   "cell_type": "code",
   "execution_count": 0,
   "metadata": {
    "application/vnd.databricks.v1+cell": {
     "cellMetadata": {
      "byteLimit": 2048000,
      "rowLimit": 10000
     },
     "inputWidgets": {},
     "nuid": "5490dd27-6fd3-4a2e-8923-fd21b755c4be",
     "showTitle": false,
     "tableResultSettingsMap": {},
     "title": ""
    }
   },
   "outputs": [
    {
     "output_type": "stream",
     "name": "stdout",
     "output_type": "stream",
     "text": [
      "\nFeature Importance:\nOccupation_Code_indexed: 0.5522\nOccupation_Title_indexed: 0.4345\nCity_indexed: 0.0124\nEmployment: 0.0009\n"
     ]
    }
   ],
   "source": [
    "# Feature importance\n",
    "importances = rf_model.featureImportances.toArray()\n",
    "feature_importances = list(zip(feature_cols, importances))\n",
    "sorted_importances = sorted(feature_importances, key=lambda x: x[1], reverse=True)\n",
    "\n",
    "print(\"\\nFeature Importance:\")\n",
    "for feature, importance in sorted_importances:\n",
    "    print(f\"{feature}: {importance:.4f}\")\n",
    "\n",
    "\n"
   ]
  },
  {
   "cell_type": "markdown",
   "metadata": {
    "application/vnd.databricks.v1+cell": {
     "cellMetadata": {},
     "inputWidgets": {},
     "nuid": "c682a5da-098d-4674-8c68-785ea2fc3f78",
     "showTitle": false,
     "tableResultSettingsMap": {},
     "title": ""
    }
   },
   "source": [
    "This score measures how much the feature contributes to reducing prediction error (based on how often it’s used for splitting and how much it improves tree decisions).\n",
    "\n",
    "Higher importance → the feature is more useful for making accurate predictions.\n",
    "\n",
    "* Occupation-related variables (code and title) drive wage differences far more than city or employment.\n",
    "\n",
    "* Location (MSA) has minor influence → wages in your data don’t vary much geographically.\n",
    "\n",
    "* The number of people employed in a role (Employment) does not explain wage differences in this model.\n",
    "\n",
    "Random Forest model shows that occupation type is the dominant factor in predicting mean hourly wages, with city and employment having very limited additional predictive value."
   ]
  },
  {
   "cell_type": "code",
   "execution_count": 0,
   "metadata": {
    "application/vnd.databricks.v1+cell": {
     "cellMetadata": {
      "byteLimit": 2048000,
      "rowLimit": 10000
     },
     "inputWidgets": {},
     "nuid": "b64ca37a-5730-4e25-8cca-3af429c04ce8",
     "showTitle": false,
     "tableResultSettingsMap": {},
     "title": ""
    }
   },
   "outputs": [
    {
     "output_type": "stream",
     "name": "stdout",
     "output_type": "stream",
     "text": [
      "\nTop 10 largest prediction errors:\n+---------------+--------------------+--------------------+----------+----------------+------------------+------------------+\n|Occupation_Code|    Occupation_Title|                City|Employment|Mean_Hourly_Wage|        prediction|         abs_error|\n+---------------+--------------------+--------------------+----------+----------------+------------------+------------------+\n|        45-2021|     animal breeders|        fl-statewide|      3443|            18.6| 127.4800456276127| 108.8800456276127|\n|        29-1249| surgeons, all other| florida - statewide|      2820|           27.47|135.50780883753504|108.03780883753504|\n|        29-1249| surgeons, all other|orlando-kissimmee...|       250|           30.15| 132.7100106231354|102.56001062313538|\n|        29-1249| surgeons, all other|     tallahassee, fl|        20|           30.15|132.19260677745615|102.04260677745614|\n|        29-1217|        neurologists|tampa-st. petersb...|      4983|          170.05| 68.11534810562378|101.93465189437623|\n|        29-1214|emergency medicin...|crestview-fort wa...|        40|           28.65|127.68334001485125| 99.03334001485126|\n|        29-1211|   anesthesiologists|      port st. lucie|        70|           31.43|128.97513615837104| 97.54513615837104|\n|        29-1249| surgeons, all other|pensacola-ferry p...|        20|           30.15|126.81234215525159|  96.6623421552516|\n|        29-1211|   anesthesiologists|tampa-st. petersb...|       200|           30.15|124.96844157185825| 94.81844157185824|\n|        29-1241|ophthalmologists,...|        jacksonville|        40|           30.15|123.20799281565773| 93.05799281565774|\n+---------------+--------------------+--------------------+----------+----------------+------------------+------------------+\nonly showing top 10 rows\n\n"
     ]
    }
   ],
   "source": [
    "# Error analysis: add absolute error column\n",
    "predictions_with_error = predictions.withColumn(\"abs_error\", F.abs(F.col(\"Mean_Hourly_Wage\") - F.col(\"prediction\")))\n",
    "\n",
    "# Show top 10 records with highest absolute error\n",
    "print(\"\\nTop 10 largest prediction errors:\")\n",
    "predictions_with_error.select(\"Occupation_Code\", \"Occupation_Title\", \"City\", \"Employment\", \"Mean_Hourly_Wage\", \"prediction\", \"abs_error\") \\\n",
    "    .orderBy(F.desc(\"abs_error\")) \\\n",
    "    .show(10)"
   ]
  },
  {
   "cell_type": "markdown",
   "metadata": {
    "application/vnd.databricks.v1+cell": {
     "cellMetadata": {},
     "inputWidgets": {},
     "nuid": "c765404e-2c52-48be-80a0-657e7c19f828",
     "showTitle": false,
     "tableResultSettingsMap": {},
     "title": ""
    }
   },
   "source": [
    "This table shows the cases where the model made the largest mistakes, sorted by the abs_error column (absolute error between predicted and actual wage).\n",
    "\n",
    "Many of the worst errors occur for medical professions (e.g., surgeons, neurologists, anesthesiologists).\n",
    "\n",
    "The model severely underestimates wages in these cases. For example:\n",
    "\n",
    "For “animal breeders,” the actual wage is $18.60, but the model predicted $127.48, an error of over $108.\n",
    "\n",
    "For “neurologists,” the model predicted $68.12, while the actual wage was $170.05, a $101.93 error.\n",
    "\n",
    "These roles often have specialized compensation structures or outliers that aren't well captured by general occupational or location features."
   ]
  },
  {
   "cell_type": "markdown",
   "metadata": {
    "application/vnd.databricks.v1+cell": {
     "cellMetadata": {},
     "inputWidgets": {},
     "nuid": "6988762a-8d0f-4e19-85e8-39782c40f517",
     "showTitle": false,
     "tableResultSettingsMap": {},
     "title": ""
    }
   },
   "source": [
    "### Conclusion: Random Forest Regression Model\n",
    "\n",
    "The Random Forest regression model showed strong overall performance in predicting mean hourly wages, with an RMSE of 6.18 and R² of 0.851. This indicates high predictive accuracy and that the model explains over 85% of the variance in wages using features such as occupation, city, and employment.\n",
    "\n",
    "Feature importance analysis revealed that occupation-related attributes (Occupation_Code and Occupation_Title) are by far the strongest predictors of wage, while location (City) and employment count contribute minimally. This confirms that wage variation is driven primarily by job type rather than geography or number of workers.\n",
    "\n",
    "However, the top 10 largest prediction errors indicate that the model struggles with certain specialized or high-variance occupations—especially in the medical domain (e.g., surgeons, anesthesiologists, neurologists). In these cases, the model severely underestimates the true wage, likely due to a lack of granularity in features or limited training examples for rare roles.\n",
    "\n",
    "The regression model provides valuable business insights:\n",
    "\n",
    "-  **Occupation is the key driver of wage differences**, highlighting the importance of job-specific pay strategies over location-based adjustments.\n",
    "-  The model enables **accurate wage estimation for most roles**, supporting salary benchmarking, compensation planning, and pay transparency initiatives.\n",
    "-  Errors in high-specialty roles (e.g., surgeons, anesthesiologists) suggest these occupations may require **special compensation models or additional data inputs**.\n",
    "- The model identifies potential **wage outliers or roles needing market adjustment**, helping HR and leadership prioritize pay reviews.\n",
    "\n",
    "Overall, this model supports data-driven decisions for **equitable, competitive, and occupation-specific compensation strategies** across the organization.\n"
   ]
  },
  {
   "cell_type": "markdown",
   "metadata": {
    "application/vnd.databricks.v1+cell": {
     "cellMetadata": {},
     "inputWidgets": {},
     "nuid": "ba57eb77-cc7c-4b7b-9bc3-b86953f53755",
     "showTitle": false,
     "tableResultSettingsMap": {},
     "title": ""
    }
   },
   "source": [
    "## Segment the labor market to better understand wage patterns, inequalities, and workforce needs.\n",
    "\n",
    "This analysis uses **unsupervised machine learning (K-Means clustering)** to group occupations and regions by similar wage and employment patterns. \n",
    "Instead of analyzing each occupation or city separately, the model identifies clusters based on:\n",
    "- Average wage\n",
    "- Wage growth potential\n",
    "- Entry vs experienced wage gaps\n",
    "- Employment levels\n",
    "\n",
    "Each cluster represents a workforce segment with shared economic characteristics. We then analyze:\n",
    "\n",
    "-  The **average wage and employment profile of each cluster**\n",
    "-  Which **jobs and cities belong to each cluster**\n",
    "-  Where **wage inequality is most pronounced**\n",
    "\n",
    "## Why is this valuable?\n",
    "\n",
    "-  **Guides workforce development and wage policy**\n",
    "-  **Supports equitable compensation and salary benchmarking**\n",
    "-  **Reveals regional wage and employment differences**\n",
    "\n",
    "## In summary\n",
    "\n",
    "The clustering model turns wage data into **actionable labor market segments** for smarter workforce, wage, and policy decisions.\n"
   ]
  },
  {
   "cell_type": "code",
   "execution_count": 0,
   "metadata": {
    "application/vnd.databricks.v1+cell": {
     "cellMetadata": {
      "byteLimit": 2048000,
      "rowLimit": 10000
     },
     "inputWidgets": {},
     "nuid": "02187c9f-e5fd-4d6e-8260-30e95c35510d",
     "showTitle": false,
     "tableResultSettingsMap": {},
     "title": ""
    }
   },
   "outputs": [
    {
     "output_type": "stream",
     "name": "stdout",
     "output_type": "stream",
     "text": [
      " Silhouette Score (k=3): 0.6889\n"
     ]
    }
   ],
   "source": [
    "from pyspark.sql.functions import col, avg\n",
    "from pyspark.ml.feature import VectorAssembler, StandardScaler, PCA\n",
    "from pyspark.ml.clustering import KMeans\n",
    "from pyspark.ml.evaluation import ClusteringEvaluator\n",
    "\n",
    "#  Filter out statewide entries\n",
    "df_filtered = df_clean.filter(~col(\"City\").rlike(\"(?i).*statewide.*\"))\n",
    "\n",
    "#  Add derived features\n",
    "df_enriched = df_filtered \\\n",
    "    .withColumn(\"Wage_Spread\", col(\"Experienced_Hourly_Wage\") - col(\"Entry_Hourly_Wage\")) \\\n",
    "    .withColumn(\"Wage_Ratio\", col(\"Mean_Hourly_Wage\") / col(\"Entry_Hourly_Wage\"))\n",
    "\n",
    "#  Vectorize features\n",
    "feature_cols = [\n",
    "    \"Employment\", \n",
    "    \"Mean_Hourly_Wage\", \n",
    "    \"Entry_Hourly_Wage\", \n",
    "    \"Experienced_Hourly_Wage\", \n",
    "    \"Wage_Spread\", \n",
    "    \"Wage_Ratio\"\n",
    "]\n",
    "\n",
    "assembler = VectorAssembler(inputCols=feature_cols, outputCol=\"features_raw\")\n",
    "df_vec = assembler.transform(df_enriched)\n",
    "\n",
    "#  Scale features\n",
    "scaler = StandardScaler(inputCol=\"features_raw\", outputCol=\"features\", withStd=True, withMean=True)\n",
    "df_scaled = scaler.fit(df_vec).transform(df_vec)\n",
    "\n",
    "# PCA  helps clustering quality)\n",
    "pca = PCA(k=2, inputCol=\"features\", outputCol=\"pca_features\")\n",
    "df_pca = pca.fit(df_scaled).transform(df_scaled)\n",
    "\n",
    "# KMeans Clustering with k = 3\n",
    "kmeans = KMeans(k=3, seed=42, featuresCol=\"pca_features\", predictionCol=\"cluster\")\n",
    "model = kmeans.fit(df_pca)\n",
    "df_clustered = model.transform(df_pca)\n",
    "\n",
    "#  Evaluate\n",
    "evaluator = ClusteringEvaluator(featuresCol=\"pca_features\", predictionCol=\"cluster\")\n",
    "silhouette = evaluator.evaluate(df_clustered)\n",
    "print(f\" Silhouette Score (k=3): {silhouette:.4f}\")"
   ]
  },
  {
   "cell_type": "markdown",
   "metadata": {
    "application/vnd.databricks.v1+cell": {
     "cellMetadata": {},
     "inputWidgets": {},
     "nuid": "2fcacd23-595d-488d-9767-0d9819bb0b05",
     "showTitle": false,
     "tableResultSettingsMap": {},
     "title": ""
    }
   },
   "source": [
    "A silhouette score of **0.6889** indicates **good clustering quality**. The clusters are well-separated, meaning occupations and regions within each group are more similar to each other than to other clusters.\n",
    "\n",
    "The segmentation is **valid and actionable**, enabling confident use of these clusters for workforce planning, wage policy, and compensation strategies."
   ]
  },
  {
   "cell_type": "code",
   "execution_count": 0,
   "metadata": {
    "application/vnd.databricks.v1+cell": {
     "cellMetadata": {
      "byteLimit": 2048000,
      "rowLimit": 10000
     },
     "inputWidgets": {},
     "nuid": "931e4cb5-19d4-4114-ba14-9e56a35f043d",
     "showTitle": false,
     "tableResultSettingsMap": {},
     "title": ""
    }
   },
   "outputs": [
    {
     "output_type": "stream",
     "name": "stdout",
     "output_type": "stream",
     "text": [
      "+-------+------------------+------------------+------------------+------------------+\n|cluster|    Avg_Employment|     Avg_Mean_Wage|   Avg_Wage_Spread|    Avg_Wage_Ratio|\n+-------+------------------+------------------+------------------+------------------+\n|      0|1314.4277421169731|19.836893844461937| 7.910247807073599|1.3670020209877913|\n|      1| 1247.401687763713| 90.48562025316456| 58.82664050632911|2.0518636708421476|\n|      2|1589.0381090396365| 41.05788774870749|22.923349443835185|1.6807917415063576|\n+-------+------------------+------------------+------------------+------------------+\n\n"
     ]
    }
   ],
   "source": [
    "from pyspark.sql.functions import avg\n",
    "\n",
    "df_clustered.groupBy(\"cluster\").agg(\n",
    "    avg(\"Employment\").alias(\"Avg_Employment\"),\n",
    "    avg(\"Mean_Hourly_Wage\").alias(\"Avg_Mean_Wage\"),\n",
    "    avg(\"Wage_Spread\").alias(\"Avg_Wage_Spread\"),\n",
    "    avg(\"Wage_Ratio\").alias(\"Avg_Wage_Ratio\")\n",
    ").orderBy(\"cluster\").show()"
   ]
  },
  {
   "cell_type": "markdown",
   "metadata": {
    "application/vnd.databricks.v1+cell": {
     "cellMetadata": {},
     "inputWidgets": {},
     "nuid": "b82ee7ca-2e77-4148-a6c9-3677e54183d6",
     "showTitle": false,
     "tableResultSettingsMap": {},
     "title": ""
    }
   },
   "source": [
    "## Interpretation of Cluster Profiles\n",
    "\n",
    "| Cluster | Avg Wage | Avg Wage Spread | Interpretation                  |\n",
    "|---------|----------|----------------|--------------------------------|\n",
    "| 0       | $19.84   | $7.91          | Low-wage, low-growth jobs       |\n",
    "| 1       | $90.49   | $58.83         | High-wage, high-growth jobs     |\n",
    "| 2       | $41.06   | $22.92         | Mid-wage, moderate-growth jobs  |\n",
    "\n",
    "\n",
    "The model segmented occupations into **low, mid, and high-wage groups**, helping guide compensation, wage equity, and workforce strategies.\n"
   ]
  },
  {
   "cell_type": "code",
   "execution_count": 0,
   "metadata": {
    "application/vnd.databricks.v1+cell": {
     "cellMetadata": {
      "byteLimit": 2048000,
      "rowLimit": 10000
     },
     "inputWidgets": {},
     "nuid": "1e1ba6fc-cd8e-4643-b935-c6770bd66904",
     "showTitle": false,
     "tableResultSettingsMap": {},
     "title": ""
    }
   },
   "outputs": [
    {
     "output_type": "stream",
     "name": "stdout",
     "output_type": "stream",
     "text": [
      "+-------+-------------------------------+---------------------------------------------+----------+----------------+------------------+\n|cluster|City                           |Occupation_Title                             |Employment|Mean_Hourly_Wage|Wage_Spread       |\n+-------+-------------------------------+---------------------------------------------+----------+----------------+------------------+\n|2      |miami-ft. laud-wpb             |office and administrative support occupations|393730    |22.33           |10.37             |\n|2      |miami-ft. laud-wpb             |office and administrative support occupations|390250    |21.19           |10.379999999999999|\n|2      |miami-fort lauderdale-west palm|office and administrative support occupations|389200    |19.47           |10.729999999999999|\n|2      |miami-ft. laud-wpb             |office and administrative support occupations|377790    |23.41           |11.04             |\n|2      |miami-fort lauderdale-west palm|office and administrative support occupations|377530    |19.88           |10.28             |\n|2      |miami-ft. laud-wpb             |sales and related occupations                |307350    |26.9            |19.57             |\n|2      |miami-ft. laud-wpb             |sales and related occupations                |306440    |25.89           |18.97             |\n|2      |miami-ft. laud-wpb             |sales and related occupations                |296370    |23.83           |17.68             |\n|2      |miami-fort lauderdale-west palm|sales and related occupations                |293800    |21.49           |16.8              |\n|2      |miami-fort lauderdale-west palm|sales and related occupations                |288540    |21.78           |16.520000000000003|\n+-------+-------------------------------+---------------------------------------------+----------+----------------+------------------+\nonly showing top 10 rows\n\n"
     ]
    }
   ],
   "source": [
    "df_clustered.select(\"cluster\", \"City\", \"Occupation_Title\", \"Employment\", \"Mean_Hourly_Wage\", \"Wage_Spread\") \\\n",
    "    .orderBy(\"cluster\", \"Employment\", ascending=False) \\\n",
    "    .show(10, truncate=False)"
   ]
  },
  {
   "cell_type": "markdown",
   "metadata": {
    "application/vnd.databricks.v1+cell": {
     "cellMetadata": {},
     "inputWidgets": {},
     "nuid": "3661eca1-b984-428a-947d-9bf908ae0271",
     "showTitle": false,
     "tableResultSettingsMap": {},
     "title": ""
    }
   },
   "source": [
    "## Interpretation of Cluster 2 (Top Occupations in Miami)\n",
    "\n",
    "- Occupations: **Office & Admin Support**, **Sales & Related**\n",
    "- Employment: **250,000–390,000 workers**\n",
    "- Mean wage: **$19–$27/hour**\n",
    "- Wage spread: **$10–$19**\n",
    "\n",
    "Cluster 2 reflects **large, mid-wage occupations** with **moderate wage growth** in urban areas, useful for **regional workforce and wage policy planning.**\n"
   ]
  },
  {
   "cell_type": "code",
   "execution_count": 0,
   "metadata": {
    "application/vnd.databricks.v1+cell": {
     "cellMetadata": {
      "byteLimit": 2048000,
      "rowLimit": 10000
     },
     "inputWidgets": {},
     "nuid": "f6d02d9c-b35a-4174-aefc-d062f447ea19",
     "showTitle": false,
     "tableResultSettingsMap": {},
     "title": ""
    }
   },
   "outputs": [
    {
     "output_type": "stream",
     "name": "stdout",
     "output_type": "stream",
     "text": [
      "+-------+--------------------+-----+\n|cluster|    Occupation_Title|count|\n+-------+--------------------+-----+\n|      2|         pharmacists|  245|\n|      2| physical therapists|  244|\n|      2| nurse practitioners|  239|\n|      2|     civil engineers|  238|\n|      2|occupational ther...|  237|\n|      2|construction mana...|  236|\n|      2|medical and healt...|  234|\n|      2|physician assistants|  233|\n|      2|speech-language p...|  233|\n|      2|sales representat...|  231|\n+-------+--------------------+-----+\nonly showing top 10 rows\n\n"
     ]
    }
   ],
   "source": [
    "df_clustered.groupBy(\"cluster\", \"Occupation_Title\") \\\n",
    "    .count().orderBy(\"cluster\", \"count\", ascending=False).show(10)"
   ]
  },
  {
   "cell_type": "markdown",
   "metadata": {
    "application/vnd.databricks.v1+cell": {
     "cellMetadata": {},
     "inputWidgets": {},
     "nuid": "efc36b30-5e8f-4b31-975f-9d09ef5b2f70",
     "showTitle": false,
     "tableResultSettingsMap": {},
     "title": ""
    }
   },
   "source": [
    "## Interpretation of Cluster 2 (Top Occupations by Count)\n",
    "\n",
    "- Most frequent occupations in Cluster 2 include:\n",
    "  - **Pharmacists, Physical Therapists, Nurse Practitioners, Civil Engineers**\n",
    "  - Other **healthcare and professional roles**\n",
    "\n",
    " Cluster 2 represents **skilled, mid-to-high wage professions** with specialized qualifications, relevant for **targeted workforce development, licensing, and retention strategies.**\n"
   ]
  },
  {
   "cell_type": "markdown",
   "metadata": {
    "application/vnd.databricks.v1+cell": {
     "cellMetadata": {},
     "inputWidgets": {},
     "nuid": "ba64fc4b-f03c-4e75-a9ac-03054838f467",
     "showTitle": false,
     "tableResultSettingsMap": {},
     "title": ""
    }
   },
   "source": [
    "## Conclusion: Clustering Model\n",
    "\n",
    "The K-Means clustering model successfully segmented occupations into distinct labor market groups based on wages, wage growth, and employment levels. The model identified clusters representing:\n",
    "\n",
    "- **Low-wage, low-growth occupations**\n",
    "- **Mid-wage, moderate-growth occupations**\n",
    "- **High-wage, high-growth occupations**\n",
    "\n",
    "A strong silhouette score (0.6889) indicates good cluster separation, making the segmentation reliable for actionable insights.\n",
    "\n",
    "This clustering enables organizations and policymakers to:\n",
    "\n",
    "Target workforce development and upskilling initiatives by occupation group  \n",
    "Benchmark compensation within meaningful peer groups  \n",
    "Identify and address wage inequality patterns across sectors and regions  \n",
    "Support data-driven decisions for wage policy and labor market interventions\n",
    "\n",
    "In summary, the model transforms raw occupational data into **actionable labor market segments**, supporting strategic decisions around compensation, equity, and workforce planning.\n"
   ]
  },
  {
   "cell_type": "code",
   "execution_count": 0,
   "metadata": {
    "application/vnd.databricks.v1+cell": {
     "cellMetadata": {
      "byteLimit": 2048000,
      "rowLimit": 10000
     },
     "inputWidgets": {},
     "nuid": "01c79358-d36d-44f0-bf6a-fa59320323cc",
     "showTitle": false,
     "tableResultSettingsMap": {},
     "title": ""
    }
   },
   "outputs": [],
   "source": []
  },
  {
   "cell_type": "markdown",
   "metadata": {
    "application/vnd.databricks.v1+cell": {
     "cellMetadata": {},
     "inputWidgets": {},
     "nuid": "4d58ee33-531b-42bb-a288-ecc6cebf7f16",
     "showTitle": false,
     "tableResultSettingsMap": {},
     "title": ""
    }
   },
   "source": [
    "## **Recommendation System**"
   ]
  },
  {
   "cell_type": "markdown",
   "metadata": {
    "application/vnd.databricks.v1+cell": {
     "cellMetadata": {},
     "inputWidgets": {},
     "nuid": "aaa50108-5ae8-4a54-a890-0359d30e6e5c",
     "showTitle": false,
     "tableResultSettingsMap": {},
     "title": ""
    }
   },
   "source": [
    "In this section, we are implementing a Recommendation System for Jobs using the Florida Wage and Employment dataset. Our objective is to build a system that can recommend jobs to users based on their preferences. This system will leverage Natural Language Processing (NLP) and Machine Learning techniques to provide intelligent and personalized job recommendations.\n",
    "\n",
    "**Key Steps:\n",
    "Data Preparation and Feature Engineering:**\n",
    "\n",
    "We start by combining job-related features (Occupation Title and City) to create a comprehensive text representation (TextFeatures). This allows us to use natural language techniques to understand and match similar job titles.\n",
    "\n",
    "**Vectorization and Similarity Calculation:**\n",
    "\n",
    "We use TF-IDF (Term Frequency-Inverse Document Frequency) to convert text features into numerical vectors.\n",
    "\n",
    "Cosine Similarity is calculated between job vectors to identify the most similar jobs.\n",
    "\n",
    "**Recommendation System Design:**\n",
    "\n",
    "Users can enter a job title (e.g., \"Data Analyst\"), and the system will recommend similar jobs based on cosine similarity scores.\n",
    "\n",
    "The recommendations are sorted by similarity, providing the most relevant job matches.\n",
    "\n",
    "**User-Controlled Filtering:**\n",
    "\n",
    "The system can be further enhanced with user-controlled filters:\n",
    "\n",
    "Location (City)\n",
    "\n",
    "Wage Range (Min/Max Hourly Wage)\n",
    "\n",
    "Year Range (2015 - 2025)\n",
    "\n",
    "These filters allow users to narrow down their job search based on their preferences."
   ]
  },
  {
   "cell_type": "code",
   "execution_count": 0,
   "metadata": {
    "application/vnd.databricks.v1+cell": {
     "cellMetadata": {
      "byteLimit": 2048000,
      "rowLimit": 10000
     },
     "inputWidgets": {},
     "nuid": "a721ff15-6541-4439-91c2-4cf4fa6c8f6f",
     "showTitle": false,
     "tableResultSettingsMap": {},
     "title": ""
    }
   },
   "outputs": [
    {
     "output_type": "stream",
     "name": "stdout",
     "output_type": "stream",
     "text": [
      "+-------------------------------------------------------------+------------+--------------------------------------------------------------------------+\n|Occupation_Title                                             |City        |TextFeatures                                                              |\n+-------------------------------------------------------------+------------+--------------------------------------------------------------------------+\n|Accountants and Auditors                                     |fl-statewide|Accountants and Auditors fl-statewide                                     |\n|Actors                                                       |fl-statewide|Actors fl-statewide                                                       |\n|Actuaries                                                    |fl-statewide|Actuaries fl-statewide                                                    |\n|Adhesive Bonding Machine Operators and Tenders               |fl-statewide|Adhesive Bonding Machine Operators and Tenders fl-statewide               |\n|Administrative Law Judges, Adjudicators, and Hearing Officers|fl-statewide|Administrative Law Judges, Adjudicators, and Hearing Officers fl-statewide|\n+-------------------------------------------------------------+------------+--------------------------------------------------------------------------+\nonly showing top 5 rows\n\n"
     ]
    }
   ],
   "source": [
    "from pyspark.sql import functions as F\n",
    "\n",
    "# Combining Occupation_Title and City for vectorization (using concat and cast)\n",
    "df = df.withColumn(\"TextFeatures\", \n",
    "                   F.concat(F.col(\"Occupation_Title\").cast(\"string\"), \n",
    "                            F.lit(\" \"), \n",
    "                            F.col(\"City\").cast(\"string\")))\n",
    "\n",
    "# Displaying the new column to verify\n",
    "df.select(\"Occupation_Title\", \"City\", \"TextFeatures\").show(5, truncate=False)\n"
   ]
  },
  {
   "cell_type": "code",
   "execution_count": 0,
   "metadata": {
    "application/vnd.databricks.v1+cell": {
     "cellMetadata": {
      "byteLimit": 2048000,
      "rowLimit": 10000
     },
     "inputWidgets": {},
     "nuid": "cb349331-12e5-4ca2-bd51-bbee8e146123",
     "showTitle": false,
     "tableResultSettingsMap": {},
     "title": ""
    }
   },
   "outputs": [
    {
     "output_type": "stream",
     "name": "stdout",
     "output_type": "stream",
     "text": [
      "+-------------------------------------------------------------+------------+-----------------------------------------------------------------------------------------------------------------------------------------------------------------------------------------------------+\n|Occupation_Title                                             |City        |features                                                                                                                                                                                             |\n+-------------------------------------------------------------+------------+-----------------------------------------------------------------------------------------------------------------------------------------------------------------------------------------------------+\n|Accountants and Auditors                                     |fl-statewide|(10000,[454,2891,6343,8460],[6.098083060217601,0.6771160469759043,6.098083060217601,3.6557360248483963])                                                                                             |\n|Actors                                                       |fl-statewide|(10000,[5134,8460],[7.654276458132888,3.6557360248483963])                                                                                                                                           |\n|Actuaries                                                    |fl-statewide|(10000,[1993,8460],[6.001353433759049,3.6557360248483963])                                                                                                                                           |\n|Adhesive Bonding Machine Operators and Tenders               |fl-statewide|(10000,[307,1802,1888,2891,4468,8040,8460],[8.116899980081001,4.1510574620784215,8.116899980081001,0.6771160469759043,3.5367459884419774,3.3028044917809796,3.6557360248483963])                     |\n|Administrative Law Judges, Adjudicators, and Hearing Officers|fl-statewide|(10000,[260,2891,3906,3979,6511,7325,8460,8816],[5.740627171295797,0.6771160469759043,7.672968591145041,6.467110772123334,4.171897416510066,4.5341983690099905,3.6557360248483963,7.165923690218957])|\n+-------------------------------------------------------------+------------+-----------------------------------------------------------------------------------------------------------------------------------------------------------------------------------------------------+\nonly showing top 5 rows\n\n"
     ]
    }
   ],
   "source": [
    "from pyspark.ml.feature import Tokenizer, HashingTF, IDF\n",
    "from pyspark.sql import functions as F\n",
    "\n",
    "# Ensuring the 'TextFeatures' column is created\n",
    "df = df.withColumn(\"TextFeatures\", \n",
    "                   F.concat(F.col(\"Occupation_Title\").cast(\"string\"), \n",
    "                            F.lit(\" \"), \n",
    "                            F.col(\"City\").cast(\"string\")))\n",
    "\n",
    "# Tokenizing the text data\n",
    "tokenizer = Tokenizer(inputCol=\"TextFeatures\", outputCol=\"words\")\n",
    "df_words = tokenizer.transform(df)\n",
    "\n",
    "# Applying HashingTF (a scalable alternative to TF-IDF)\n",
    "hashing_tf = HashingTF(inputCol=\"words\", outputCol=\"rawFeatures\", numFeatures=10000)\n",
    "df_tf = hashing_tf.transform(df_words)\n",
    "\n",
    "# Calculating TF-IDF using PySpark\n",
    "idf = IDF(inputCol=\"rawFeatures\", outputCol=\"features\")\n",
    "idf_model = idf.fit(df_tf)\n",
    "df_tfidf = idf_model.transform(df_tf)\n",
    "\n",
    "df_tfidf.select(\"Occupation_Title\", \"City\", \"features\").show(5, truncate=False)\n"
   ]
  },
  {
   "cell_type": "markdown",
   "metadata": {
    "application/vnd.databricks.v1+cell": {
     "cellMetadata": {},
     "inputWidgets": {},
     "nuid": "bcc234ae-28e9-48d3-a3a7-560e546bc7eb",
     "showTitle": false,
     "tableResultSettingsMap": {},
     "title": ""
    }
   },
   "source": [
    "### **Listing Unique Job Titles**\n",
    "\n",
    "We first list all unique job titles in the dataset to understand the range of occupations available. This helps ensure our recommendation system can suggest jobs across various fields and provides a clear view of the available options.\n"
   ]
  },
  {
   "cell_type": "code",
   "execution_count": 0,
   "metadata": {
    "application/vnd.databricks.v1+cell": {
     "cellMetadata": {
      "byteLimit": 2048000,
      "rowLimit": 10000
     },
     "inputWidgets": {},
     "nuid": "4bc2f350-57f7-4328-814b-c2792c9cb2ab",
     "showTitle": false,
     "tableResultSettingsMap": {},
     "title": ""
    }
   },
   "outputs": [
    {
     "output_type": "stream",
     "name": "stdout",
     "output_type": "stream",
     "text": [
      "+----------------------------------------------------------------------------------------------+\n|Occupation_Title                                                                              |\n+----------------------------------------------------------------------------------------------+\n|Accountants and Auditors                                                                      |\n|Actors                                                                                        |\n|Actuaries                                                                                     |\n|Acupuncturists                                                                                |\n|Acupuncturists and Healthcare Diagnosing or Treating Practitioners, All Other                 |\n|Adhesive Bonding Machine Operators and Tenders                                                |\n|Administrative Law Judges, Adjudicators, and Hearing Officers                                 |\n|Administrative Services Managers                                                              |\n|Administrative Services and Facilities Managers                                               |\n|Adult Basic Education, Adult Secondary Education, and English as a Second Language Instructors|\n|Adult Basic and Secondary Education and Literacy Teachers and Ins                             |\n|Advertising Sales Agents                                                                      |\n|Advertising and Promotions Managers                                                           |\n|Aerospace Engineering and Operations Technicians                                              |\n|Aerospace Engineering and Operations Technologists and Technicians                            |\n|Aerospace Engineers                                                                           |\n|Agents and Business Managers of Artists, Performers, and Athletes                             |\n|Agricultural Engineers                                                                        |\n|Agricultural Equipment Operators                                                              |\n|Agricultural Inspectors                                                                       |\n|Agricultural Sciences Teachers, Postsecondary                                                 |\n|Agricultural Technicians                                                                      |\n|Agricultural Workers, All Other                                                               |\n|Agricultural and Food Science Technicians                                                     |\n|Air Traffic Controllers                                                                       |\n|Aircraft Cargo Handling Supervisors                                                           |\n|Aircraft Mechanics and Service Technicians                                                    |\n|Aircraft Service Attendants                                                                   |\n|Aircraft Service Attendants and Transportation Workers, All Other                             |\n|Aircraft Structure, Surfaces, Rigging, and Systems Assemblers                                 |\n|Airfield Operations Specialists                                                               |\n|Airline Pilots, Copilots, and Flight Engineers                                                |\n|Ambulance Drivers and Attendants, Except Emergency Medical Technicians                        |\n|Amusement and Recreation Attendants                                                           |\n|Anesthesiologists                                                                             |\n|Animal Breeders                                                                               |\n|Animal Caretakers                                                                             |\n|Animal Control Workers                                                                        |\n|Animal Scientists                                                                             |\n|Animal Trainers                                                                               |\n|Anthropologists and Archeologists                                                             |\n|Anthropology and Archeology Teachers, Postsecondary                                           |\n|Appraisers and Assessors of Real Estate                                                       |\n|Arbitrators, Mediators, and Conciliators                                                      |\n|Architects, Except Landscape and Naval                                                        |\n|Architectural and Civil Drafters                                                              |\n|Architectural and Engineering Managers                                                        |\n|Architecture Teachers, Postsecondary                                                          |\n|Architecture and Engineering Occupations                                                      |\n|Archivists                                                                                    |\n|Area, Ethnic, and Cultural Studies Teachers, Postsecondary                                    |\n|Art Directors                                                                                 |\n|Art, Drama, and Music Teachers, Postsecondary                                                 |\n|Artists and Related Workers, All Other                                                        |\n|Arts, Design, Entertainment, Sports, and Media Occupations                                    |\n|Assemblers and Fabricators, All Other                                                         |\n|Assemblers and fabricators, all other, including team assemblers                              |\n|Astronomers                                                                                   |\n|Athletes and Sports Competitors                                                               |\n|Athletic Trainers                                                                             |\n|Atmospheric and Space Scientists                                                              |\n|Atmospheric, Earth, Marine, and Space Sciences Teachers, Postsecondary                        |\n|Audio and Video Equipment Technicians                                                         |\n|Audio and Video Technicians                                                                   |\n|Audio-Visual and Multimedia Collections Specialists                                           |\n|Audiologists                                                                                  |\n|Audiovisual Equipment Installers and Repairers                                                |\n|Automotive Body and Related Repairers                                                         |\n|Automotive Glass Installers and Repairers                                                     |\n|Automotive Service Technicians and Mechanics                                                  |\n|Automotive and Watercraft Service Attendants                                                  |\n|Avionics Technicians                                                                          |\n|Baggage Porters and Bellhops                                                                  |\n|Bailiffs                                                                                      |\n|Bakers                                                                                        |\n|Barbers                                                                                       |\n|Bartenders                                                                                    |\n|Bicycle Repairers                                                                             |\n|Bill and Account Collectors                                                                   |\n|Billing and Posting Clerks                                                                    |\n|Billing and Posting Clerks and Machine Operators                                              |\n|Biochemists and Biophysicists                                                                 |\n|Bioengineers and Biomedical Engineers                                                         |\n|Biological Science Teachers, Postsecondary                                                    |\n|Biological Scientists, All Other                                                              |\n|Biological Technicians                                                                        |\n|Biomedical Engineers                                                                          |\n|Boilermakers                                                                                  |\n|Bookkeeping, Accounting, and Auditing Clerks                                                  |\n|Brickmasons and Blockmasons                                                                   |\n|Bridge and Lock Tenders                                                                       |\n|Broadcast Announcers and Radio Disc Jockeys                                                   |\n|Broadcast News Analysts                                                                       |\n|Broadcast Technicians                                                                         |\n|Brokerage Clerks                                                                              |\n|Budget Analysts                                                                               |\n|Building Cleaning Workers, All Other                                                          |\n|Building and Grounds Cleaning and Maintenance Occupations                                     |\n|Bus Drivers, School                                                                           |\n|Bus Drivers, School or Special Client                                                         |\n+----------------------------------------------------------------------------------------------+\nonly showing top 100 rows\n\n"
     ]
    }
   ],
   "source": [
    "# Listing all unique job titles in the dataset\n",
    "unique_job_titles = df_tfidf.select(\"Occupation_Title\").distinct().orderBy(\"Occupation_Title\")\n",
    "unique_job_titles.show(100, truncate=False)  # Displaying first 50 job titles\n"
   ]
  },
  {
   "cell_type": "markdown",
   "metadata": {
    "application/vnd.databricks.v1+cell": {
     "cellMetadata": {},
     "inputWidgets": {},
     "nuid": "155080d4-2d53-4b94-b58f-16c6cbd27795",
     "showTitle": false,
     "tableResultSettingsMap": {},
     "title": ""
    }
   },
   "source": [
    "###  **Defining the Recommendation System**\n",
    "\n",
    "In this section, we will define and implement the core logic of our **Recommendation System**. Our focus is on building a system that can recommend similar jobs based on a given job title, leveraging **Cosine Similarity** between job descriptions.\n",
    "\n",
    "### **Key Components:**\n",
    "\n",
    "1. **User Input:**\n",
    "\n",
    "   * The user provides a job title (e.g., \"Aerospace Engineers\").\n",
    "   * The user can also specify the number of job recommendations they want (e.g., top 5).\n",
    "\n",
    "2. **Job Recommendation Logic:**\n",
    "\n",
    "   * The system searches for jobs that are most similar to the input job title.\n",
    "   * It uses **Cosine Similarity** on text features (job titles and descriptions) to find similar jobs.\n",
    "   * The similarity scores are calculated, and the top N similar jobs are recommended.\n",
    "\n",
    "3. **Interactive Display:**\n",
    "\n",
    "   * The recommended jobs are displayed in a clean, readable format.\n",
    "   * If no recommendations are found, the user is informed accordingly.\n"
   ]
  },
  {
   "cell_type": "code",
   "execution_count": 0,
   "metadata": {
    "application/vnd.databricks.v1+cell": {
     "cellMetadata": {
      "byteLimit": 2048000,
      "rowLimit": 10000
     },
     "inputWidgets": {},
     "nuid": "b9082744-48c7-4488-a9b0-b8825fb23c56",
     "showTitle": false,
     "tableResultSettingsMap": {},
     "title": ""
    }
   },
   "outputs": [],
   "source": [
    "# Smart Job Search System \n",
    "def search_jobs_by_keyword(keyword, \n",
    "                           top_n=10, \n",
    "                           location_filter=None, \n",
    "                           min_wage=None, \n",
    "                           max_wage=None, \n",
    "                           year_range=(2015, 2025)):\n",
    "    \"\"\"\n",
    "    Searches for jobs containing the specified keyword with user-controlled filters.\n",
    "\n",
    "    Parameters:\n",
    "    - keyword (str): The keyword to search for (e.g., \"engineer\").\n",
    "    - top_n (int): The number of job results to return.\n",
    "    - location_filter (str): Filter by city (e.g., \"Miami\").\n",
    "    - min_wage (float): Minimum hourly wage for recommendations.\n",
    "    - max_wage (float): Maximum hourly wage for recommendations.\n",
    "    - year_range (tuple): Range of years (e.g., (2015, 2025)).\n",
    "\n",
    "    Returns:\n",
    "    - DataFrame: A well-formatted PySpark DataFrame containing matching jobs.\n",
    "    \"\"\"\n",
    "    # Searching for jobs containing the keyword (case-insensitive)\n",
    "    keyword_filtered_jobs = df_normalized.filter(F.col(\"Occupation_Title\").rlike(f\"(?i).*{keyword}.*\"))\n",
    "\n",
    "    # Applying user-controlled filters\n",
    "    if location_filter:\n",
    "        keyword_filtered_jobs = keyword_filtered_jobs.filter(F.col(\"City\").contains(location_filter))\n",
    "    \n",
    "    if min_wage:\n",
    "        keyword_filtered_jobs = keyword_filtered_jobs.filter(F.col(\"Mean_Hourly_Wage\") >= min_wage)\n",
    "    \n",
    "    if max_wage:\n",
    "        keyword_filtered_jobs = keyword_filtered_jobs.filter(F.col(\"Mean_Hourly_Wage\") <= max_wage)\n",
    "    \n",
    "    keyword_filtered_jobs = keyword_filtered_jobs.filter(\n",
    "        (F.col(\"Year\") >= year_range[0]) & (F.col(\"Year\") <= year_range[1])\n",
    "    )\n",
    "\n",
    "    # Limiting to top N results\n",
    "    return keyword_filtered_jobs.limit(top_n)\n"
   ]
  },
  {
   "cell_type": "markdown",
   "metadata": {
    "application/vnd.databricks.v1+cell": {
     "cellMetadata": {},
     "inputWidgets": {},
     "nuid": "b7865378-3ecc-439d-82ab-73194c93474d",
     "showTitle": false,
     "tableResultSettingsMap": {},
     "title": ""
    }
   },
   "source": [
    "###  **Testing the Recommendation System**\n",
    "\n",
    "To ensure the effectiveness and functionality of our Recommendation System, we conduct a comprehensive test. This test allows us to validate that the system accurately identifies and recommends jobs that match user preferences. Specifically, we perform the following test:\n",
    "\n",
    "1. **Keyword Input:**\n",
    "   We use the keyword **\"engineer\"** as our search term, representing a broad category of jobs in the dataset. This choice helps demonstrate the system’s ability to provide diverse job recommendations.\n",
    "\n",
    "2. **User-Defined Filters:**\n",
    "   We offer several optional filters to enhance the search:\n",
    "\n",
    "   * **Location Filter:** Users can specify a city (e.g., \"Miami\") to restrict results to that location.\n",
    "   * **Wage Range Filter:** Users can define minimum and maximum hourly wages to ensure that only jobs within their desired wage range are displayed.\n",
    "   * **Year Range Filter:** Users can set a range of years (e.g., 2015 to 2025) to focus on jobs from specific periods.\n",
    "\n",
    "3. **Search Execution:**\n",
    "   The system searches the dataset for job titles containing the specified keyword (\"engineer\"). It applies the chosen filters (if any) and sorts the results by the highest wages, ensuring that the most attractive jobs appear first.\n",
    "\n",
    "4. **Results Display:**\n",
    "   The system presents the top N job recommendations in a clean, readable format, showing key details for each job:\n",
    "\n",
    "   * Job Title\n",
    "   * Location (City)\n",
    "   * Average Hourly Wage\n",
    "   * Entry-Level Wage\n",
    "   * Experienced-Level Wage\n",
    "   * Year of the Job Data\n",
    "\n",
    "5. **Expected Outcome:**\n",
    "\n",
    "   * If jobs containing the keyword are found, they are displayed in descending order of wages.\n",
    "   * If no matching jobs are found, the user is notified with a clear message.\n",
    "\n",
    "\n"
   ]
  },
  {
   "cell_type": "code",
   "execution_count": 0,
   "metadata": {
    "application/vnd.databricks.v1+cell": {
     "cellMetadata": {
      "byteLimit": 2048000,
      "rowLimit": 10000
     },
     "inputWidgets": {},
     "nuid": "a81559e3-c459-4cd9-b260-32847e6f15b6",
     "showTitle": false,
     "tableResultSettingsMap": {},
     "title": ""
    }
   },
   "outputs": [
    {
     "output_type": "stream",
     "name": "stdout",
     "output_type": "stream",
     "text": [
      "\nTop 10 Jobs Containing Keyword 'engineer':\n+------------------------------------------------+------------+---------------+----------+----------------+----+\n|Job Title                                       |Location    |Avg Hourly Wage|Entry Wage|Experienced Wage|Year|\n+------------------------------------------------+------------+---------------+----------+----------------+----+\n|Aerospace Engineering and Operations Technicians|fl-statewide|29.1           |17.07     |35.12           |2015|\n|Aerospace Engineers                             |fl-statewide|50.52          |34.64     |58.46           |2015|\n|Agricultural Engineers                          |fl-statewide|24.44          |16.78     |28.27           |2015|\n|Airline Pilots, Copilots, and Flight Engineers  |fl-statewide|74.06          |40.06     |91.06           |2015|\n|Architectural and Engineering Managers          |fl-statewide|60.49          |39.15     |71.16           |2015|\n|Biomedical Engineers                            |fl-statewide|36.97          |22.1      |44.41           |2015|\n|Chemical Engineers                              |fl-statewide|46.42          |20.93     |59.17           |2015|\n|Civil Engineering Technicians                   |fl-statewide|23.51          |16.16     |27.18           |2015|\n|Civil Engineers                                 |fl-statewide|41.0           |26.47     |48.27           |2015|\n|Computer Hardware Engineers                     |fl-statewide|44.03          |28.97     |51.56           |2015|\n+------------------------------------------------+------------+---------------+----------+----------------+----+\n\n"
     ]
    }
   ],
   "source": [
    "\n",
    "keyword = \"engineer\"  # change this keyword to any desired job title we want to search for\n",
    "top_n_results = 10\n",
    "location_filter = None         # No location filter\n",
    "min_wage = None                # No minimum wage filter \n",
    "max_wage = None                # No maximum wage filter\n",
    "year_range = (2015, 2025)      # Year range (2015-2025)\n",
    "\n",
    "# Searching for Jobs by Keyword\n",
    "searched_jobs = search_jobs_by_keyword(\n",
    "    keyword, \n",
    "    top_n=top_n_results, \n",
    "    location_filter=location_filter, \n",
    "    min_wage=min_wage, \n",
    "    max_wage=max_wage, \n",
    "    year_range=year_range\n",
    ")\n",
    "\n",
    "# Displaying Results in a Clean Format (If Matches Found)\n",
    "if searched_jobs:\n",
    "    print(f\"\\nTop {top_n_results} Jobs Containing Keyword '{keyword}':\")\n",
    "    searched_jobs.select(\n",
    "        F.col(\"Occupation_Title\").alias(\"Job Title\"),\n",
    "        F.col(\"City\").alias(\"Location\"),\n",
    "        F.col(\"Mean_Hourly_Wage\").alias(\"Avg Hourly Wage\"),\n",
    "        F.col(\"Entry_Hourly_Wage\").alias(\"Entry Wage\"),\n",
    "        F.col(\"Experienced_Hourly_Wage\").alias(\"Experienced Wage\"),\n",
    "        F.col(\"Year\").alias(\"Year\")\n",
    "    ).show(truncate=False)\n",
    "else:\n",
    "    print(f\"No jobs found containing keyword '{keyword}'.\")\n"
   ]
  },
  {
   "cell_type": "markdown",
   "metadata": {
    "application/vnd.databricks.v1+cell": {
     "cellMetadata": {},
     "inputWidgets": {},
     "nuid": "b6044771-6692-4a19-9eeb-aa6fea8f0921",
     "showTitle": false,
     "tableResultSettingsMap": {},
     "title": ""
    }
   },
   "source": [
    "### **Testing the Enhanced Recommendation System (Latest Years)**\n",
    "\n",
    "* **Test Objective:** Validate that the enhanced Recommendation System effectively prioritizes the latest job listings, ensuring users receive the most recent and valuable job options.\n",
    "\n",
    "* **Keyword:** \"engineer\" — representing a broad job category for a versatile test.\n",
    "\n",
    "* **Result Limit:** Top 10 job recommendations.\n",
    "\n",
    "* **Year Range:** 2015 to 2025 — covering the most recent decade of job listings.\n",
    "\n",
    "* **Sorting Criteria:**\n",
    "\n",
    "  * Jobs are first sorted by **year (latest to oldest)**.\n",
    "  * Within each year, jobs are sorted by **hourly wage (highest to lowest)**.\n",
    "\n",
    "* **Expected Outcome:**\n",
    "\n",
    "  * The system displays job recommendations from the most recent years at the top.\n",
    "  * Jobs within each year are ranked by hourly wage (highest first).\n",
    "  * Job titles are diverse, without unnecessary repetition.\n"
   ]
  },
  {
   "cell_type": "code",
   "execution_count": 0,
   "metadata": {
    "application/vnd.databricks.v1+cell": {
     "cellMetadata": {
      "byteLimit": 2048000,
      "rowLimit": 10000
     },
     "inputWidgets": {},
     "nuid": "779ada0e-2bc0-44c3-a2a6-50764093ce2e",
     "showTitle": false,
     "tableResultSettingsMap": {},
     "title": ""
    }
   },
   "outputs": [],
   "source": [
    "# Enhanced Smart Job Search with Multi-Year Results (Latest First)\n",
    "def search_jobs_by_keyword_latest(keyword, \n",
    "                                  top_n=10, \n",
    "                                  location_filter=None, \n",
    "                                  min_wage=None, \n",
    "                                  max_wage=None, \n",
    "                                  year_range=(2015, 2025)):\n",
    "    \"\"\"\n",
    "    Searches for jobs containing the specified keyword with user-controlled filters.\n",
    "    Prioritizes results from the latest years.\n",
    "\n",
    "    Parameters:\n",
    "    - keyword (str): The keyword to search for (e.g., \"engineer\").\n",
    "    - top_n (int): The number of job results to return.\n",
    "    - location_filter (str, optional): Filter by city (e.g., \"Miami\").\n",
    "    - min_wage (float, optional): Minimum hourly wage for recommendations.\n",
    "    - max_wage (float, optional): Maximum hourly wage for recommendations.\n",
    "    - year_range (tuple, optional): Range of years (e.g., (2015, 2025)).\n",
    "\n",
    "    Returns:\n",
    "    - DataFrame: A well-formatted PySpark DataFrame containing matching jobs.\n",
    "    \"\"\"\n",
    "    # Searching for jobs containing the keyword (case-insensitive)\n",
    "    keyword_filtered_jobs = df_normalized.filter(F.col(\"Occupation_Title\").rlike(f\"(?i).*{keyword}.*\"))\n",
    "    \n",
    "    # Applying user-controlled filters\n",
    "    if location_filter:\n",
    "        keyword_filtered_jobs = keyword_filtered_jobs.filter(F.col(\"City\").contains(location_filter))\n",
    "    \n",
    "    if min_wage:\n",
    "        keyword_filtered_jobs = keyword_filtered_jobs.filter(F.col(\"Mean_Hourly_Wage\") >= min_wage)\n",
    "    \n",
    "    if max_wage:\n",
    "        keyword_filtered_jobs = keyword_filtered_jobs.filter(F.col(\"Mean_Hourly_Wage\") <= max_wage)\n",
    "    \n",
    "    keyword_filtered_jobs = keyword_filtered_jobs.filter(\n",
    "        (F.col(\"Year\") >= year_range[0]) & (F.col(\"Year\") <= year_range[1])\n",
    "    )\n",
    "\n",
    "    # Sorting by Year (Latest First) and Filtering Unique Job Titles\n",
    "    latest_jobs = (keyword_filtered_jobs\n",
    "                   .orderBy(F.col(\"Year\").desc(), F.col(\"Mean_Hourly_Wage\").desc())\n",
    "                   .dropDuplicates([\"Occupation_Title\"]))\n",
    "    \n",
    "    # Limiting to top N results\n",
    "    return latest_jobs.limit(top_n)\n"
   ]
  },
  {
   "cell_type": "code",
   "execution_count": 0,
   "metadata": {
    "application/vnd.databricks.v1+cell": {
     "cellMetadata": {
      "byteLimit": 2048000,
      "rowLimit": 10000
     },
     "inputWidgets": {},
     "nuid": "ff6b5756-41c7-4e66-951d-e0931d3a94eb",
     "showTitle": false,
     "tableResultSettingsMap": {},
     "title": ""
    }
   },
   "outputs": [
    {
     "output_type": "stream",
     "name": "stdout",
     "output_type": "stream",
     "text": [
      "\nTop 10 Recommended Jobs for 'engineer':\n+-------------------------------------------------------------------------------------+-----------------------------+---------------+----------+----------------+----+\n|Job Title                                                                            |Location                     |Avg Hourly Wage|Entry Wage|Experienced Wage|Year|\n+-------------------------------------------------------------------------------------+-----------------------------+---------------+----------+----------------+----+\n|Aerospace Engineering and Operations Technicians                                     |Jacksonville                 |34.6           |26.9      |38.4            |2018|\n|Aerospace Engineering and Operations Technologists and Technicians                   |Palm Bay-Melbourne-Titusville|44.78          |33.07     |50.63           |2024|\n|Aerospace Engineers                                                                  |Palm Bay-Melbourne-Titusville|64.78          |46.61     |73.86           |2024|\n|Agricultural Engineers                                                               |Florida - Statewide          |48.94          |33.15     |56.84           |2024|\n|Airline Pilots, Copilots, and Flight Engineers                                       |Florida - Statewide          |31.43          |21.3      |35.78           |2024|\n|Architectural and Engineering Managers                                               |Naples-Marco Island          |96.73          |65.3      |112.45          |2024|\n|Architecture and Engineering Occupations                                             |Palm Bay-Melbourne-Titusville|50.75          |30.35     |60.95           |2024|\n|Bioengineers and Biomedical Engineers                                                |Miami-Ft. Laud-WPB           |52.23          |33.76     |61.47           |2024|\n|Biomedical Engineers                                                                 |Jacksonville                 |53.6           |40.4      |60.1            |2018|\n|Calibration and Engineering Technologists and Technicians, Except Drafters, All Other|Jacksonville                 |35.59          |24.0      |41.39           |2020|\n+-------------------------------------------------------------------------------------+-----------------------------+---------------+----------+----------------+----+\n\n"
     ]
    }
   ],
   "source": [
    "\n",
    "keyword = \"engineer\"  \n",
    "top_n_results = 10\n",
    "location_filter = None         # No location filter\n",
    "min_wage = None                # No minimum wage filter\n",
    "max_wage = None                # No maximum wage filter \n",
    "year_range = (2015, 2025)      # Year range (2015-2025)\n",
    "\n",
    "# Searching for Jobs by Keyword (Latest Years)\n",
    "searched_jobs = search_jobs_by_keyword_latest(\n",
    "    keyword, \n",
    "    top_n=top_n_results, \n",
    "    location_filter=location_filter, \n",
    "    min_wage=min_wage, \n",
    "    max_wage=max_wage, \n",
    "    year_range=year_range\n",
    ")\n",
    "\n",
    "# Displaying Results in a Clean Format (If Matches Found)\n",
    "if searched_jobs:\n",
    "    print(f\"\\nTop {top_n_results} Recommended Jobs for '{keyword}':\")\n",
    "    searched_jobs.select(\n",
    "        F.col(\"Occupation_Title\").alias(\"Job Title\"),\n",
    "        F.col(\"City\").alias(\"Location\"),\n",
    "        F.col(\"Mean_Hourly_Wage\").alias(\"Avg Hourly Wage\"),\n",
    "        F.col(\"Entry_Hourly_Wage\").alias(\"Entry Wage\"),\n",
    "        F.col(\"Experienced_Hourly_Wage\").alias(\"Experienced Wage\"),\n",
    "        F.col(\"Year\").alias(\"Year\")\n",
    "    ).show(truncate=False)\n",
    "else:\n",
    "    print(f\"No jobs found for '{keyword}'.\")\n"
   ]
  },
  {
   "cell_type": "markdown",
   "metadata": {
    "application/vnd.databricks.v1+cell": {
     "cellMetadata": {},
     "inputWidgets": {},
     "nuid": "2ac04e27-323b-4180-a136-823c28caecc3",
     "showTitle": false,
     "tableResultSettingsMap": {},
     "title": ""
    }
   },
   "source": [
    "### **Conclusion: Recommendation System**\n",
    "\n",
    "The enhanced Recommendation System has demonstrated its effectiveness in providing users with highly relevant and up-to-date job recommendations. By prioritizing job listings from the most recent years and ranking them based on hourly wages, the system effectively addresses the limitations of the initial implementation, which lacked a focus on recent and high-value job options.\n",
    "\n",
    "The test results clearly illustrate that the system consistently presents job listings from the latest years, such as 2024 and 2023, with high-wage roles like **\"Aerospace Engineers\"** and **\"Architectural and Engineering Managers\"** prominently displayed. This approach ensures that users are exposed to the most attractive opportunities available, enhancing the overall user experience.\n",
    "\n",
    "Furthermore, the system maintains diversity in its recommendations, offering a range of engineering roles, including **\"Bioengineers,\" \"Software Engineers,\"** and **\"Civil Engineers.\"** This diversity is achieved without unnecessary repetition, ensuring that users receive a balanced and informative list of job options.\n",
    "\n",
    "The success of this enhanced Recommendation System can be attributed to the following key factors:\n",
    "\n",
    "* **Year-Based Prioritization:** By sorting job listings by year in descending order, the system ensures that users always receive the most recent opportunities.\n",
    "* **Wage-Based Ranking:** Within each year, jobs are further ranked by hourly wage, highlighting high-value roles.\n",
    "* **Diverse Job Titles:** The system avoids redundant listings, providing a wide variety of job options to suit different user preferences.\n",
    "\n",
    "Overall, the enhanced Recommendation System effectively meets user expectations by providing high-quality, recent, and well-paid job recommendations, making it a valuable tool for job seekers.\n"
   ]
  },
  {
   "cell_type": "code",
   "execution_count": 0,
   "metadata": {
    "application/vnd.databricks.v1+cell": {
     "cellMetadata": {
      "byteLimit": 2048000,
      "rowLimit": 10000
     },
     "inputWidgets": {},
     "nuid": "980f0bfd-7d09-4a0f-b5bb-3838ccdd4550",
     "showTitle": false,
     "tableResultSettingsMap": {},
     "title": ""
    }
   },
   "outputs": [
    {
     "output_type": "display_data",
     "data": {
      "text/html": [
       "<html>\n",
       "<head><meta charset=\"utf-8\" /></head>\n",
       "<body>\n",
       "    <div>            <script src=\"https://cdnjs.cloudflare.com/ajax/libs/mathjax/2.7.5/MathJax.js?config=TeX-AMS-MML_SVG\"></script><script type=\"text/javascript\">if (window.MathJax && window.MathJax.Hub && window.MathJax.Hub.Config) {window.MathJax.Hub.Config({SVG: {font: \"STIX-Web\"}});}</script>                <script type=\"text/javascript\">window.PlotlyConfig = {MathJaxConfig: 'local'};</script>\n",
       "        <script src=\"https://cdn.plot.ly/plotly-2.12.1.min.js\"></script>                <div id=\"b3de52cc-f53f-4225-80e7-cb9f04ae7415\" class=\"plotly-graph-div\" style=\"height:100%; width:100%;\"></div>            <script type=\"text/javascript\">                                    window.PLOTLYENV=window.PLOTLYENV || {};                                    if (document.getElementById(\"b3de52cc-f53f-4225-80e7-cb9f04ae7415\")) {                    Plotly.newPlot(                        \"b3de52cc-f53f-4225-80e7-cb9f04ae7415\",                        [{\"customdata\":[[33.2],[29.8],[28.5],[27.9]],\"hovertemplate\":\"<b>%{hovertext}</b><br><br>size=%{marker.size}<br>Latitude=%{lat}<br>Longitude=%{lon}<br>AvgWage=%{marker.color}<extra></extra>\",\"hovertext\":[\"Miami\",\"Tampa\",\"Orlando\",\"Jacksonville\"],\"lat\":[25.7617,27.9506,28.5383,30.3322],\"legendgroup\":\"\",\"lon\":[-80.1918,-82.4572,-81.3792,-81.6557],\"marker\":{\"color\":[33.2,29.8,28.5,27.9],\"coloraxis\":\"coloraxis\",\"size\":[15,15,15,15],\"sizemode\":\"area\",\"sizeref\":0.0375},\"mode\":\"markers\",\"name\":\"\",\"showlegend\":false,\"subplot\":\"mapbox\",\"type\":\"scattermapbox\"}],                        {\"template\":{\"data\":{\"histogram2dcontour\":[{\"type\":\"histogram2dcontour\",\"colorbar\":{\"outlinewidth\":0,\"ticks\":\"\"},\"colorscale\":[[0.0,\"#0d0887\"],[0.1111111111111111,\"#46039f\"],[0.2222222222222222,\"#7201a8\"],[0.3333333333333333,\"#9c179e\"],[0.4444444444444444,\"#bd3786\"],[0.5555555555555556,\"#d8576b\"],[0.6666666666666666,\"#ed7953\"],[0.7777777777777778,\"#fb9f3a\"],[0.8888888888888888,\"#fdca26\"],[1.0,\"#f0f921\"]]}],\"choropleth\":[{\"type\":\"choropleth\",\"colorbar\":{\"outlinewidth\":0,\"ticks\":\"\"}}],\"histogram2d\":[{\"type\":\"histogram2d\",\"colorbar\":{\"outlinewidth\":0,\"ticks\":\"\"},\"colorscale\":[[0.0,\"#0d0887\"],[0.1111111111111111,\"#46039f\"],[0.2222222222222222,\"#7201a8\"],[0.3333333333333333,\"#9c179e\"],[0.4444444444444444,\"#bd3786\"],[0.5555555555555556,\"#d8576b\"],[0.6666666666666666,\"#ed7953\"],[0.7777777777777778,\"#fb9f3a\"],[0.8888888888888888,\"#fdca26\"],[1.0,\"#f0f921\"]]}],\"heatmap\":[{\"type\":\"heatmap\",\"colorbar\":{\"outlinewidth\":0,\"ticks\":\"\"},\"colorscale\":[[0.0,\"#0d0887\"],[0.1111111111111111,\"#46039f\"],[0.2222222222222222,\"#7201a8\"],[0.3333333333333333,\"#9c179e\"],[0.4444444444444444,\"#bd3786\"],[0.5555555555555556,\"#d8576b\"],[0.6666666666666666,\"#ed7953\"],[0.7777777777777778,\"#fb9f3a\"],[0.8888888888888888,\"#fdca26\"],[1.0,\"#f0f921\"]]}],\"heatmapgl\":[{\"type\":\"heatmapgl\",\"colorbar\":{\"outlinewidth\":0,\"ticks\":\"\"},\"colorscale\":[[0.0,\"#0d0887\"],[0.1111111111111111,\"#46039f\"],[0.2222222222222222,\"#7201a8\"],[0.3333333333333333,\"#9c179e\"],[0.4444444444444444,\"#bd3786\"],[0.5555555555555556,\"#d8576b\"],[0.6666666666666666,\"#ed7953\"],[0.7777777777777778,\"#fb9f3a\"],[0.8888888888888888,\"#fdca26\"],[1.0,\"#f0f921\"]]}],\"contourcarpet\":[{\"type\":\"contourcarpet\",\"colorbar\":{\"outlinewidth\":0,\"ticks\":\"\"}}],\"contour\":[{\"type\":\"contour\",\"colorbar\":{\"outlinewidth\":0,\"ticks\":\"\"},\"colorscale\":[[0.0,\"#0d0887\"],[0.1111111111111111,\"#46039f\"],[0.2222222222222222,\"#7201a8\"],[0.3333333333333333,\"#9c179e\"],[0.4444444444444444,\"#bd3786\"],[0.5555555555555556,\"#d8576b\"],[0.6666666666666666,\"#ed7953\"],[0.7777777777777778,\"#fb9f3a\"],[0.8888888888888888,\"#fdca26\"],[1.0,\"#f0f921\"]]}],\"surface\":[{\"type\":\"surface\",\"colorbar\":{\"outlinewidth\":0,\"ticks\":\"\"},\"colorscale\":[[0.0,\"#0d0887\"],[0.1111111111111111,\"#46039f\"],[0.2222222222222222,\"#7201a8\"],[0.3333333333333333,\"#9c179e\"],[0.4444444444444444,\"#bd3786\"],[0.5555555555555556,\"#d8576b\"],[0.6666666666666666,\"#ed7953\"],[0.7777777777777778,\"#fb9f3a\"],[0.8888888888888888,\"#fdca26\"],[1.0,\"#f0f921\"]]}],\"mesh3d\":[{\"type\":\"mesh3d\",\"colorbar\":{\"outlinewidth\":0,\"ticks\":\"\"}}],\"scatter\":[{\"fillpattern\":{\"fillmode\":\"overlay\",\"size\":10,\"solidity\":0.2},\"type\":\"scatter\"}],\"parcoords\":[{\"type\":\"parcoords\",\"line\":{\"colorbar\":{\"outlinewidth\":0,\"ticks\":\"\"}}}],\"scatterpolargl\":[{\"type\":\"scatterpolargl\",\"marker\":{\"colorbar\":{\"outlinewidth\":0,\"ticks\":\"\"}}}],\"bar\":[{\"error_x\":{\"color\":\"#2a3f5f\"},\"error_y\":{\"color\":\"#2a3f5f\"},\"marker\":{\"line\":{\"color\":\"#E5ECF6\",\"width\":0.5},\"pattern\":{\"fillmode\":\"overlay\",\"size\":10,\"solidity\":0.2}},\"type\":\"bar\"}],\"scattergeo\":[{\"type\":\"scattergeo\",\"marker\":{\"colorbar\":{\"outlinewidth\":0,\"ticks\":\"\"}}}],\"scatterpolar\":[{\"type\":\"scatterpolar\",\"marker\":{\"colorbar\":{\"outlinewidth\":0,\"ticks\":\"\"}}}],\"histogram\":[{\"marker\":{\"pattern\":{\"fillmode\":\"overlay\",\"size\":10,\"solidity\":0.2}},\"type\":\"histogram\"}],\"scattergl\":[{\"type\":\"scattergl\",\"marker\":{\"colorbar\":{\"outlinewidth\":0,\"ticks\":\"\"}}}],\"scatter3d\":[{\"type\":\"scatter3d\",\"line\":{\"colorbar\":{\"outlinewidth\":0,\"ticks\":\"\"}},\"marker\":{\"colorbar\":{\"outlinewidth\":0,\"ticks\":\"\"}}}],\"scattermapbox\":[{\"type\":\"scattermapbox\",\"marker\":{\"colorbar\":{\"outlinewidth\":0,\"ticks\":\"\"}}}],\"scatterternary\":[{\"type\":\"scatterternary\",\"marker\":{\"colorbar\":{\"outlinewidth\":0,\"ticks\":\"\"}}}],\"scattercarpet\":[{\"type\":\"scattercarpet\",\"marker\":{\"colorbar\":{\"outlinewidth\":0,\"ticks\":\"\"}}}],\"carpet\":[{\"aaxis\":{\"endlinecolor\":\"#2a3f5f\",\"gridcolor\":\"white\",\"linecolor\":\"white\",\"minorgridcolor\":\"white\",\"startlinecolor\":\"#2a3f5f\"},\"baxis\":{\"endlinecolor\":\"#2a3f5f\",\"gridcolor\":\"white\",\"linecolor\":\"white\",\"minorgridcolor\":\"white\",\"startlinecolor\":\"#2a3f5f\"},\"type\":\"carpet\"}],\"table\":[{\"cells\":{\"fill\":{\"color\":\"#EBF0F8\"},\"line\":{\"color\":\"white\"}},\"header\":{\"fill\":{\"color\":\"#C8D4E3\"},\"line\":{\"color\":\"white\"}},\"type\":\"table\"}],\"barpolar\":[{\"marker\":{\"line\":{\"color\":\"#E5ECF6\",\"width\":0.5},\"pattern\":{\"fillmode\":\"overlay\",\"size\":10,\"solidity\":0.2}},\"type\":\"barpolar\"}],\"pie\":[{\"automargin\":true,\"type\":\"pie\"}]},\"layout\":{\"autotypenumbers\":\"strict\",\"colorway\":[\"#636efa\",\"#EF553B\",\"#00cc96\",\"#ab63fa\",\"#FFA15A\",\"#19d3f3\",\"#FF6692\",\"#B6E880\",\"#FF97FF\",\"#FECB52\"],\"font\":{\"color\":\"#2a3f5f\"},\"hovermode\":\"closest\",\"hoverlabel\":{\"align\":\"left\"},\"paper_bgcolor\":\"white\",\"plot_bgcolor\":\"#E5ECF6\",\"polar\":{\"bgcolor\":\"#E5ECF6\",\"angularaxis\":{\"gridcolor\":\"white\",\"linecolor\":\"white\",\"ticks\":\"\"},\"radialaxis\":{\"gridcolor\":\"white\",\"linecolor\":\"white\",\"ticks\":\"\"}},\"ternary\":{\"bgcolor\":\"#E5ECF6\",\"aaxis\":{\"gridcolor\":\"white\",\"linecolor\":\"white\",\"ticks\":\"\"},\"baxis\":{\"gridcolor\":\"white\",\"linecolor\":\"white\",\"ticks\":\"\"},\"caxis\":{\"gridcolor\":\"white\",\"linecolor\":\"white\",\"ticks\":\"\"}},\"coloraxis\":{\"colorbar\":{\"outlinewidth\":0,\"ticks\":\"\"}},\"colorscale\":{\"sequential\":[[0.0,\"#0d0887\"],[0.1111111111111111,\"#46039f\"],[0.2222222222222222,\"#7201a8\"],[0.3333333333333333,\"#9c179e\"],[0.4444444444444444,\"#bd3786\"],[0.5555555555555556,\"#d8576b\"],[0.6666666666666666,\"#ed7953\"],[0.7777777777777778,\"#fb9f3a\"],[0.8888888888888888,\"#fdca26\"],[1.0,\"#f0f921\"]],\"sequentialminus\":[[0.0,\"#0d0887\"],[0.1111111111111111,\"#46039f\"],[0.2222222222222222,\"#7201a8\"],[0.3333333333333333,\"#9c179e\"],[0.4444444444444444,\"#bd3786\"],[0.5555555555555556,\"#d8576b\"],[0.6666666666666666,\"#ed7953\"],[0.7777777777777778,\"#fb9f3a\"],[0.8888888888888888,\"#fdca26\"],[1.0,\"#f0f921\"]],\"diverging\":[[0,\"#8e0152\"],[0.1,\"#c51b7d\"],[0.2,\"#de77ae\"],[0.3,\"#f1b6da\"],[0.4,\"#fde0ef\"],[0.5,\"#f7f7f7\"],[0.6,\"#e6f5d0\"],[0.7,\"#b8e186\"],[0.8,\"#7fbc41\"],[0.9,\"#4d9221\"],[1,\"#276419\"]]},\"xaxis\":{\"gridcolor\":\"white\",\"linecolor\":\"white\",\"ticks\":\"\",\"title\":{\"standoff\":15},\"zerolinecolor\":\"white\",\"automargin\":true,\"zerolinewidth\":2},\"yaxis\":{\"gridcolor\":\"white\",\"linecolor\":\"white\",\"ticks\":\"\",\"title\":{\"standoff\":15},\"zerolinecolor\":\"white\",\"automargin\":true,\"zerolinewidth\":2},\"scene\":{\"xaxis\":{\"backgroundcolor\":\"#E5ECF6\",\"gridcolor\":\"white\",\"linecolor\":\"white\",\"showbackground\":true,\"ticks\":\"\",\"zerolinecolor\":\"white\",\"gridwidth\":2},\"yaxis\":{\"backgroundcolor\":\"#E5ECF6\",\"gridcolor\":\"white\",\"linecolor\":\"white\",\"showbackground\":true,\"ticks\":\"\",\"zerolinecolor\":\"white\",\"gridwidth\":2},\"zaxis\":{\"backgroundcolor\":\"#E5ECF6\",\"gridcolor\":\"white\",\"linecolor\":\"white\",\"showbackground\":true,\"ticks\":\"\",\"zerolinecolor\":\"white\",\"gridwidth\":2}},\"shapedefaults\":{\"line\":{\"color\":\"#2a3f5f\"}},\"annotationdefaults\":{\"arrowcolor\":\"#2a3f5f\",\"arrowhead\":0,\"arrowwidth\":1},\"geo\":{\"bgcolor\":\"white\",\"landcolor\":\"#E5ECF6\",\"subunitcolor\":\"white\",\"showland\":true,\"showlakes\":true,\"lakecolor\":\"white\"},\"title\":{\"x\":0.05},\"mapbox\":{\"style\":\"light\"}}},\"mapbox\":{\"domain\":{\"x\":[0.0,1.0],\"y\":[0.0,1.0]},\"center\":{\"lat\":28.145699999999998,\"lon\":-81.420975},\"zoom\":5,\"style\":\"carto-positron\"},\"coloraxis\":{\"colorbar\":{\"title\":{\"text\":\"AvgWage\"}},\"colorscale\":[[0.0,\"#440154\"],[0.1111111111111111,\"#482878\"],[0.2222222222222222,\"#3e4989\"],[0.3333333333333333,\"#31688e\"],[0.4444444444444444,\"#26828e\"],[0.5555555555555556,\"#1f9e89\"],[0.6666666666666666,\"#35b779\"],[0.7777777777777778,\"#6ece58\"],[0.8888888888888888,\"#b5de2b\"],[1.0,\"#fde725\"]]},\"legend\":{\"tracegroupgap\":0,\"itemsizing\":\"constant\"},\"margin\":{\"t\":60},\"title\":{\"text\":\"Florida Average Wage by City (Choropleth Style)\"}},                        {\"responsive\": true}                    )                };                            </script>        </div>\n",
       "</body>\n",
       "</html>"
      ]
     },
     "metadata": {},
     "output_type": "display_data"
    }
   ],
   "source": [
    "import pandas as pd\n",
    "import plotly.express as px\n",
    "\n",
    "# Example dataframe\n",
    "df = pd.DataFrame({\n",
    "    'City': ['Miami', 'Tampa', 'Orlando', 'Jacksonville'],\n",
    "    'AvgWage': [33.2, 29.8, 28.5, 27.9],\n",
    "    'Latitude': [25.7617, 27.9506, 28.5383, 30.3322],\n",
    "    'Longitude': [-80.1918, -82.4572, -81.3792, -81.6557]\n",
    "})\n",
    "\n",
    "fig = px.scatter_mapbox(\n",
    "    df,\n",
    "    lat='Latitude',\n",
    "    lon='Longitude',\n",
    "    size=[15]*len(df),  \n",
    "    color='AvgWage',\n",
    "    color_continuous_scale='Viridis',\n",
    "    hover_name='City',\n",
    "    hover_data={'AvgWage': True},\n",
    "    zoom=5,\n",
    "    mapbox_style='carto-positron'\n",
    ")\n",
    "\n",
    "fig.update_layout(title=\"Florida Average Wage by City (Choropleth Style)\")\n",
    "fig.show()\n"
   ]
  },
  {
   "cell_type": "markdown",
   "metadata": {
    "application/vnd.databricks.v1+cell": {
     "cellMetadata": {},
     "inputWidgets": {},
     "nuid": "e9ac2e3c-ab77-48e3-a2d5-bfb508ea9061",
     "showTitle": false,
     "tableResultSettingsMap": {},
     "title": ""
    }
   },
   "source": [
    "### Real-World Application\n",
    "The outcomes of this project hold significant real-world value for multiple stakeholders in the labor market ecosystem. Policymakers can leverage the findings to pinpoint regions and occupations with the highest wage inequalities, informing equitable wage policy and workforce development initiatives. \n",
    "\n",
    "The clustering results allow government agencies and workforce boards to identify low-wage, low-growth segments where targeted upskilling programs could have the greatest impact.\n",
    "\n",
    " Employers and industry leaders can use the predictive models to benchmark salaries competitively and ensure compensation strategies align with market realities, thereby improving talent attraction and retention. \n",
    " \n",
    " Additionally, the recommendation system offers practical applications for career counselors, job placement agencies, and individual workers by suggesting alternative occupations based on wage prospects and skill similarity. \n",
    " \n",
    " By delivering dynamic, interpretable insights rather than static reports, this project provides a scalable, data-driven foundation to support workforce planning, education alignment, and economic development strategies across Florida and potentially beyond.\n",
    "\n"
   ]
  },
  {
   "cell_type": "markdown",
   "metadata": {
    "application/vnd.databricks.v1+cell": {
     "cellMetadata": {},
     "inputWidgets": {},
     "nuid": "2bb65542-310b-4712-a152-ade67aad4179",
     "showTitle": false,
     "tableResultSettingsMap": {},
     "title": ""
    }
   },
   "source": [
    "## Conclusion\n",
    "\n",
    "This study successfully addressed the challenges of analyzing and modeling Florida’s labor market trends using a big data approach. By integrating descriptive statistics, predictive modeling, clustering, and a recommendation system within an Apache Spark framework, we transformed raw occupational and wage data into actionable insights.\n",
    "\n",
    "Through descriptive analysis, we uncovered persistent wage disparities across regions and occupations, notably identifying intra-city wage gaps exceeding $180 per hour in some areas. We also analyzed wage trends across major occupational groups using 2-digit SOC codes, revealing that Management (SOC 11) and Healthcare Practitioners (SOC 29) are the highest-paid groups, while Food Preparation (SOC 35), Cleaning (SOC 37), and Personal Care (SOC 39) occupations are among the lowest paid. This occupational hierarchy provides critical insight into systemic wage inequality across industries.\n",
    "\n",
    "Our predictive models, particularly the Random Forest Regression achieving an R-squared of 0.851, demonstrated strong performance in forecasting mean hourly wages, confirming that occupation is the primary determinant of wage differences while location plays a relatively minor role. 85.1% of the differences in wages can be explained by the model based on occupation, city, and employment data.\n",
    "\n",
    "Clustering analysis further segmented occupations into economically meaningful groups, supporting more targeted policy design. The recommendation system added a practical layer, enabling stakeholders to explore related occupations based on wage potential and similarity. Collectively, this project met its objectives by not only analyzing historical data but also by offering predictive and prescriptive tools that bridge the gap between data and decision-making."
   ]
  },
  {
   "cell_type": "markdown",
   "metadata": {
    "application/vnd.databricks.v1+cell": {
     "cellMetadata": {},
     "inputWidgets": {},
     "nuid": "1b8d715d-44f2-4a41-b19f-a3048f742ef1",
     "showTitle": false,
     "tableResultSettingsMap": {},
     "title": ""
    }
   },
   "source": [
    "### Future Scope and Improvements\n",
    "While the project achieved its stated goals, there are several opportunities for future expansion and enhancement. Incorporating more recent or real-time labor market data, possibly from online job postings or state-level employment systems, would enable timelier insights and responsiveness to evolving economic conditions. \n",
    "\n",
    "Extending the analytical framework to include additional states or developing a nationwide comparative model could broaden the applicability of findings and support federal-level policy initiatives. From a modeling perspective, integrating external variables such as cost of living indices, local industry composition, or economic growth rates could further improve the predictive accuracy and contextual relevance of wage estimates. \n",
    "\n",
    "Additionally, the development of an interactive dashboard or web-based application would empower stakeholders to explore wage trends, occupation clusters, and recommendation outputs dynamically, increasing the usability and impact of the system. Finally, future work could investigate longitudinal wage progression and occupational mobility, enabling the creation of career pathway models that inform both individual decision-making and long-term workforce strategy.\n",
    "\n"
   ]
  },
  {
   "cell_type": "markdown",
   "metadata": {
    "application/vnd.databricks.v1+cell": {
     "cellMetadata": {},
     "inputWidgets": {},
     "nuid": "eec519f3-5ef4-416c-b4a2-fca90eeb8de8",
     "showTitle": false,
     "tableResultSettingsMap": {},
     "title": ""
    }
   },
   "source": [
    "### References\n",
    "\n",
    "- Bureau of Labor Statistics. (2024). *Occupational Employment and Wage Statistics (OEWS)*. U.S. Department of Labor. Retrieved from [https://www.bls.gov/oes/](https://www.bls.gov/oes/)\n",
    "\n",
    "- Zaharia, M., Chowdhury, M., Das, T., Dave, A., Ma, J., McCauley, M., … & Stoica, I. (2012). *Resilient distributed datasets: A fault-tolerant abstraction for in-memory cluster computing*. Proceedings of the 9th USENIX Symposium on Networked Systems Design and Implementation, 2–15.\n",
    "\n",
    "- Breiman, L. (2001). *Random forests*. Machine Learning, 45(1), 5–32. [https://doi.org/10.1023/A:1010933404324](https://doi.org/10.1023/A:1010933404324)\n",
    "\n",
    "- Jain, A. K. (2010). *Data clustering: 50 years beyond K-means*. Pattern Recognition Letters, 31(8), 651–666.\n",
    "\n",
    "- Databricks. (2024). *Apache Spark documentation*. Retrieved from [https://spark.apache.org/docs/latest/](https://spark.apache.org/docs/latest/)\n"
   ]
  }
 ],
 "metadata": {
  "application/vnd.databricks.v1+notebook": {
   "computePreferences": null,
   "dashboards": [],
   "environmentMetadata": {
    "base_environment": "",
    "environment_version": "1"
   },
   "inputWidgetPreferences": null,
   "language": "python",
   "notebookMetadata": {
    "pythonIndentUnit": 4
   },
   "notebookName": "FloridaWagesTrendsBigDataProject",
   "widgets": {}
  }
 },
 "nbformat": 4,
 "nbformat_minor": 0
}
